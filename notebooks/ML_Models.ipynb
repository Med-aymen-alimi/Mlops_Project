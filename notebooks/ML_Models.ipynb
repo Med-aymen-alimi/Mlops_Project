{
 "cells": [
  {
   "cell_type": "markdown",
   "metadata": {},
   "source": [
    "In This Notebook we find our Model used but before we do the fucntion of data cleaning and preprocessing then we run the models and upload them to our mlflow Server"
   ]
  },
  {
   "cell_type": "code",
   "execution_count": 22,
   "metadata": {},
   "outputs": [],
   "source": [
    "import os\n",
    "import pandas as pd\n",
    "import mlflow\n",
    "from dotenv import load_dotenv\n",
    "from sklearn.ensemble import RandomForestClassifier\n",
    "from xgboost import XGBClassifier\n",
    "from prep import transform_data_f, clean_data2 , transform_data_f_2_c\n",
    "from MlProc1 import RandomForestModel, XGBoostModel, logisticRegressionModel, RandomForestModelG, XGBoostModelG, logisticRegressionModelG, SVMModelG\n",
    "\n",
    "\n"
   ]
  },
  {
   "cell_type": "code",
   "execution_count": 17,
   "metadata": {},
   "outputs": [
    {
     "data": {
      "text/plain": [
       "True"
      ]
     },
     "execution_count": 17,
     "metadata": {},
     "output_type": "execute_result"
    }
   ],
   "source": [
    "# Load environment variables (DagsHub credentials) from .env file\n",
    "load_dotenv(\"E:\\\\cycle_3eme\\\\mlops\\\\projet_clone\\\\MLOps-Training\\\\backend\\\\src\\\\.env\")\n"
   ]
  },
  {
   "cell_type": "code",
   "execution_count": 5,
   "metadata": {},
   "outputs": [
    {
     "name": "stdout",
     "output_type": "stream",
     "text": [
      "DagsHub username and token are loaded successfully.\n"
     ]
    }
   ],
   "source": [
    "# Get DagsHub credentials from the environment\n",
    "DagsHub_username = os.getenv(\"DagsHub_username\")\n",
    "DagsHub_token = os.getenv(\"DagsHub_token\")\n",
    "\n",
    "# Check if credentials are loaded\n",
    "if DagsHub_username is None or DagsHub_token is None:\n",
    "    print(\"Error: Could not load DagsHub credentials from .env file.\")\n",
    "else:\n",
    "    print(f\"DagsHub username and token are loaded successfully.\")\n",
    "\n",
    "# Set DagsHub credentials for MLflow\n",
    "os.environ['MLFLOW_TRACKING_USERNAME'] = DagsHub_username\n",
    "os.environ[\"MLFLOW_TRACKING_PASSWORD\"] = DagsHub_token\n",
    "\n",
    "# Setup mlflow\n",
    "mlflow.set_tracking_uri('https://dagshub.com/aymenalimii4070/Ml_OPS_Movies.mlflow')\n",
    "mlflow.set_experiment(\"Movies-Rating-experiment-3\")\n",
    "\n",
    "# Data URL and version\n",
    "version = \"v3.with_3_clasess-with_grid_search_with_2_Classes\"\n",
    "data_url = \"E:\\\\cycle_3eme\\\\mlops\\\\projet_clone\\\\MLOps-Training\\\\backend\\\\src\\\\data_set\\\\movies.csv\"\n",
    "\n",
    "\n"
   ]
  },
  {
   "cell_type": "code",
   "execution_count": 18,
   "metadata": {},
   "outputs": [
    {
     "name": "stdout",
     "output_type": "stream",
     "text": [
      "                                MOVIES         YEAR  \\\n",
      "0                        Blood Red Sky       (2021)   \n",
      "1  Masters of the Universe: Revelation     (2021– )   \n",
      "2                     The Walking Dead  (2010–2022)   \n",
      "3                       Rick and Morty     (2013– )   \n",
      "4                      Army of Thieves       (2021)   \n",
      "\n",
      "                                        GENRE  RATING  \\\n",
      "0      \\nAction, Horror, Thriller                 6.1   \n",
      "1  \\nAnimation, Action, Adventure                 5.0   \n",
      "2       \\nDrama, Horror, Thriller                 8.2   \n",
      "3  \\nAnimation, Adventure, Comedy                 9.2   \n",
      "4         \\nAction, Crime, Horror                 NaN   \n",
      "\n",
      "                                            ONE-LINE  \\\n",
      "0  \\nA woman with a mysterious illness is forced ...   \n",
      "1  \\nThe war for Eternia begins again in what may...   \n",
      "2  \\nSheriff Deputy Rick Grimes wakes up from a c...   \n",
      "3  \\nAn animated series that follows the exploits...   \n",
      "4  \\nA prequel, set before the events of Army of ...   \n",
      "\n",
      "                                               STARS    VOTES  RunTime Gross  \n",
      "0  \\n    Director:\\nPeter Thorwarth\\n| \\n    Star...   21,062    121.0   NaN  \n",
      "1  \\n            \\n    Stars:\\nChris Wood, \\nSara...   17,870     25.0   NaN  \n",
      "2  \\n            \\n    Stars:\\nAndrew Lincoln, \\n...  885,805     44.0   NaN  \n",
      "3  \\n            \\n    Stars:\\nJustin Roiland, \\n...  414,849     23.0   NaN  \n",
      "4  \\n    Director:\\nMatthias Schweighöfer\\n| \\n  ...      NaN      NaN   NaN  \n"
     ]
    }
   ],
   "source": [
    "df = pd.read_csv(data_url)\n",
    "print(df.head(5))\n"
   ]
  },
  {
   "cell_type": "code",
   "execution_count": 6,
   "metadata": {},
   "outputs": [
    {
     "name": "stdout",
     "output_type": "stream",
     "text": [
      "<class 'pandas.core.frame.DataFrame'>\n",
      "RangeIndex: 9999 entries, 0 to 9998\n",
      "Data columns (total 9 columns):\n",
      " #   Column    Non-Null Count  Dtype  \n",
      "---  ------    --------------  -----  \n",
      " 0   MOVIES    9999 non-null   object \n",
      " 1   YEAR      9355 non-null   object \n",
      " 2   GENRE     9919 non-null   object \n",
      " 3   RATING    8179 non-null   float64\n",
      " 4   ONE-LINE  9999 non-null   object \n",
      " 5   STARS     9999 non-null   object \n",
      " 6   VOTES     8179 non-null   object \n",
      " 7   RunTime   7041 non-null   float64\n",
      " 8   Gross     460 non-null    object \n",
      "dtypes: float64(2), object(7)\n",
      "memory usage: 703.2+ KB\n",
      "None\n"
     ]
    }
   ],
   "source": [
    "print(df.info())"
   ]
  },
  {
   "cell_type": "code",
   "execution_count": 20,
   "metadata": {},
   "outputs": [
    {
     "data": {
      "text/html": [
       "<div>\n",
       "<style scoped>\n",
       "    .dataframe tbody tr th:only-of-type {\n",
       "        vertical-align: middle;\n",
       "    }\n",
       "\n",
       "    .dataframe tbody tr th {\n",
       "        vertical-align: top;\n",
       "    }\n",
       "\n",
       "    .dataframe thead th {\n",
       "        text-align: right;\n",
       "    }\n",
       "</style>\n",
       "<table border=\"1\" class=\"dataframe\">\n",
       "  <thead>\n",
       "    <tr style=\"text-align: right;\">\n",
       "      <th></th>\n",
       "      <th>movies</th>\n",
       "      <th>rating</th>\n",
       "      <th>one-line</th>\n",
       "      <th>votes</th>\n",
       "      <th>gross</th>\n",
       "      <th>director</th>\n",
       "      <th>stars_only</th>\n",
       "      <th>action</th>\n",
       "      <th>adventure</th>\n",
       "      <th>animation</th>\n",
       "      <th>...</th>\n",
       "      <th>content_Standard</th>\n",
       "      <th>content_Long</th>\n",
       "      <th>content_Très long</th>\n",
       "      <th>content_Movie</th>\n",
       "      <th>content_TV Movie</th>\n",
       "      <th>content_TV Short</th>\n",
       "      <th>content_TV Special</th>\n",
       "      <th>content_Unknown</th>\n",
       "      <th>content_Video</th>\n",
       "      <th>content_Video Game</th>\n",
       "    </tr>\n",
       "  </thead>\n",
       "  <tbody>\n",
       "    <tr>\n",
       "      <th>0</th>\n",
       "      <td>2.182977</td>\n",
       "      <td>6.10</td>\n",
       "      <td>6.454030</td>\n",
       "      <td>21062.000000</td>\n",
       "      <td>0.0</td>\n",
       "      <td>2458</td>\n",
       "      <td>4877</td>\n",
       "      <td>1</td>\n",
       "      <td>0</td>\n",
       "      <td>0</td>\n",
       "      <td>...</td>\n",
       "      <td>False</td>\n",
       "      <td>False</td>\n",
       "      <td>True</td>\n",
       "      <td>True</td>\n",
       "      <td>False</td>\n",
       "      <td>False</td>\n",
       "      <td>False</td>\n",
       "      <td>False</td>\n",
       "      <td>False</td>\n",
       "      <td>False</td>\n",
       "    </tr>\n",
       "    <tr>\n",
       "      <th>1</th>\n",
       "      <td>4.315215</td>\n",
       "      <td>5.00</td>\n",
       "      <td>7.034649</td>\n",
       "      <td>17870.000000</td>\n",
       "      <td>0.0</td>\n",
       "      <td>2315</td>\n",
       "      <td>1153</td>\n",
       "      <td>1</td>\n",
       "      <td>1</td>\n",
       "      <td>1</td>\n",
       "      <td>...</td>\n",
       "      <td>False</td>\n",
       "      <td>False</td>\n",
       "      <td>False</td>\n",
       "      <td>True</td>\n",
       "      <td>False</td>\n",
       "      <td>False</td>\n",
       "      <td>False</td>\n",
       "      <td>False</td>\n",
       "      <td>False</td>\n",
       "      <td>False</td>\n",
       "    </tr>\n",
       "    <tr>\n",
       "      <th>2</th>\n",
       "      <td>6.780270</td>\n",
       "      <td>8.20</td>\n",
       "      <td>6.742347</td>\n",
       "      <td>885805.000000</td>\n",
       "      <td>0.0</td>\n",
       "      <td>2315</td>\n",
       "      <td>406</td>\n",
       "      <td>0</td>\n",
       "      <td>0</td>\n",
       "      <td>0</td>\n",
       "      <td>...</td>\n",
       "      <td>False</td>\n",
       "      <td>False</td>\n",
       "      <td>False</td>\n",
       "      <td>True</td>\n",
       "      <td>False</td>\n",
       "      <td>False</td>\n",
       "      <td>False</td>\n",
       "      <td>False</td>\n",
       "      <td>False</td>\n",
       "      <td>False</td>\n",
       "    </tr>\n",
       "    <tr>\n",
       "      <th>3</th>\n",
       "      <td>9.353854</td>\n",
       "      <td>9.20</td>\n",
       "      <td>7.080458</td>\n",
       "      <td>414849.000000</td>\n",
       "      <td>0.0</td>\n",
       "      <td>2315</td>\n",
       "      <td>3273</td>\n",
       "      <td>0</td>\n",
       "      <td>1</td>\n",
       "      <td>1</td>\n",
       "      <td>...</td>\n",
       "      <td>False</td>\n",
       "      <td>False</td>\n",
       "      <td>False</td>\n",
       "      <td>True</td>\n",
       "      <td>False</td>\n",
       "      <td>False</td>\n",
       "      <td>False</td>\n",
       "      <td>False</td>\n",
       "      <td>False</td>\n",
       "      <td>False</td>\n",
       "    </tr>\n",
       "    <tr>\n",
       "      <th>4</th>\n",
       "      <td>1.703747</td>\n",
       "      <td>5.80</td>\n",
       "      <td>6.963683</td>\n",
       "      <td>90390.060000</td>\n",
       "      <td>0.0</td>\n",
       "      <td>2074</td>\n",
       "      <td>4198</td>\n",
       "      <td>1</td>\n",
       "      <td>0</td>\n",
       "      <td>0</td>\n",
       "      <td>...</td>\n",
       "      <td>False</td>\n",
       "      <td>False</td>\n",
       "      <td>True</td>\n",
       "      <td>True</td>\n",
       "      <td>False</td>\n",
       "      <td>False</td>\n",
       "      <td>False</td>\n",
       "      <td>False</td>\n",
       "      <td>False</td>\n",
       "      <td>False</td>\n",
       "    </tr>\n",
       "    <tr>\n",
       "      <th>...</th>\n",
       "      <td>...</td>\n",
       "      <td>...</td>\n",
       "      <td>...</td>\n",
       "      <td>...</td>\n",
       "      <td>...</td>\n",
       "      <td>...</td>\n",
       "      <td>...</td>\n",
       "      <td>...</td>\n",
       "      <td>...</td>\n",
       "      <td>...</td>\n",
       "      <td>...</td>\n",
       "      <td>...</td>\n",
       "      <td>...</td>\n",
       "      <td>...</td>\n",
       "      <td>...</td>\n",
       "      <td>...</td>\n",
       "      <td>...</td>\n",
       "      <td>...</td>\n",
       "      <td>...</td>\n",
       "      <td>...</td>\n",
       "      <td>...</td>\n",
       "    </tr>\n",
       "    <tr>\n",
       "      <th>9563</th>\n",
       "      <td>6.297324</td>\n",
       "      <td>6.55</td>\n",
       "      <td>6.997828</td>\n",
       "      <td>931.898750</td>\n",
       "      <td>0.0</td>\n",
       "      <td>2288</td>\n",
       "      <td>1951</td>\n",
       "      <td>0</td>\n",
       "      <td>0</td>\n",
       "      <td>0</td>\n",
       "      <td>...</td>\n",
       "      <td>False</td>\n",
       "      <td>True</td>\n",
       "      <td>False</td>\n",
       "      <td>True</td>\n",
       "      <td>False</td>\n",
       "      <td>False</td>\n",
       "      <td>False</td>\n",
       "      <td>False</td>\n",
       "      <td>False</td>\n",
       "      <td>False</td>\n",
       "    </tr>\n",
       "    <tr>\n",
       "      <th>9564</th>\n",
       "      <td>8.279235</td>\n",
       "      <td>7.80</td>\n",
       "      <td>6.997828</td>\n",
       "      <td>104.001762</td>\n",
       "      <td>0.0</td>\n",
       "      <td>2315</td>\n",
       "      <td>4681</td>\n",
       "      <td>1</td>\n",
       "      <td>1</td>\n",
       "      <td>1</td>\n",
       "      <td>...</td>\n",
       "      <td>False</td>\n",
       "      <td>False</td>\n",
       "      <td>False</td>\n",
       "      <td>True</td>\n",
       "      <td>False</td>\n",
       "      <td>False</td>\n",
       "      <td>False</td>\n",
       "      <td>False</td>\n",
       "      <td>False</td>\n",
       "      <td>False</td>\n",
       "    </tr>\n",
       "    <tr>\n",
       "      <th>9565</th>\n",
       "      <td>4.514454</td>\n",
       "      <td>7.65</td>\n",
       "      <td>6.997828</td>\n",
       "      <td>111.625000</td>\n",
       "      <td>0.0</td>\n",
       "      <td>2345</td>\n",
       "      <td>4681</td>\n",
       "      <td>0</td>\n",
       "      <td>0</td>\n",
       "      <td>0</td>\n",
       "      <td>...</td>\n",
       "      <td>False</td>\n",
       "      <td>False</td>\n",
       "      <td>False</td>\n",
       "      <td>True</td>\n",
       "      <td>False</td>\n",
       "      <td>False</td>\n",
       "      <td>False</td>\n",
       "      <td>False</td>\n",
       "      <td>False</td>\n",
       "      <td>False</td>\n",
       "    </tr>\n",
       "    <tr>\n",
       "      <th>9566</th>\n",
       "      <td>3.353738</td>\n",
       "      <td>6.85</td>\n",
       "      <td>6.997828</td>\n",
       "      <td>3388.459000</td>\n",
       "      <td>0.0</td>\n",
       "      <td>1583</td>\n",
       "      <td>4473</td>\n",
       "      <td>0</td>\n",
       "      <td>1</td>\n",
       "      <td>0</td>\n",
       "      <td>...</td>\n",
       "      <td>False</td>\n",
       "      <td>False</td>\n",
       "      <td>False</td>\n",
       "      <td>True</td>\n",
       "      <td>False</td>\n",
       "      <td>False</td>\n",
       "      <td>False</td>\n",
       "      <td>False</td>\n",
       "      <td>False</td>\n",
       "      <td>False</td>\n",
       "    </tr>\n",
       "    <tr>\n",
       "      <th>9567</th>\n",
       "      <td>3.353738</td>\n",
       "      <td>6.85</td>\n",
       "      <td>6.997828</td>\n",
       "      <td>3388.459000</td>\n",
       "      <td>0.0</td>\n",
       "      <td>1583</td>\n",
       "      <td>4474</td>\n",
       "      <td>0</td>\n",
       "      <td>1</td>\n",
       "      <td>0</td>\n",
       "      <td>...</td>\n",
       "      <td>False</td>\n",
       "      <td>False</td>\n",
       "      <td>False</td>\n",
       "      <td>True</td>\n",
       "      <td>False</td>\n",
       "      <td>False</td>\n",
       "      <td>False</td>\n",
       "      <td>False</td>\n",
       "      <td>False</td>\n",
       "      <td>False</td>\n",
       "    </tr>\n",
       "  </tbody>\n",
       "</table>\n",
       "<p>9568 rows × 48 columns</p>\n",
       "</div>"
      ],
      "text/plain": [
       "        movies  rating  one-line          votes  gross  director  stars_only  \\\n",
       "0     2.182977    6.10  6.454030   21062.000000    0.0      2458        4877   \n",
       "1     4.315215    5.00  7.034649   17870.000000    0.0      2315        1153   \n",
       "2     6.780270    8.20  6.742347  885805.000000    0.0      2315         406   \n",
       "3     9.353854    9.20  7.080458  414849.000000    0.0      2315        3273   \n",
       "4     1.703747    5.80  6.963683   90390.060000    0.0      2074        4198   \n",
       "...        ...     ...       ...            ...    ...       ...         ...   \n",
       "9563  6.297324    6.55  6.997828     931.898750    0.0      2288        1951   \n",
       "9564  8.279235    7.80  6.997828     104.001762    0.0      2315        4681   \n",
       "9565  4.514454    7.65  6.997828     111.625000    0.0      2345        4681   \n",
       "9566  3.353738    6.85  6.997828    3388.459000    0.0      1583        4473   \n",
       "9567  3.353738    6.85  6.997828    3388.459000    0.0      1583        4474   \n",
       "\n",
       "      action  adventure  animation  ...  content_Standard  content_Long  \\\n",
       "0          1          0          0  ...             False         False   \n",
       "1          1          1          1  ...             False         False   \n",
       "2          0          0          0  ...             False         False   \n",
       "3          0          1          1  ...             False         False   \n",
       "4          1          0          0  ...             False         False   \n",
       "...      ...        ...        ...  ...               ...           ...   \n",
       "9563       0          0          0  ...             False          True   \n",
       "9564       1          1          1  ...             False         False   \n",
       "9565       0          0          0  ...             False         False   \n",
       "9566       0          1          0  ...             False         False   \n",
       "9567       0          1          0  ...             False         False   \n",
       "\n",
       "      content_Très long  content_Movie  content_TV Movie  content_TV Short  \\\n",
       "0                  True           True             False             False   \n",
       "1                 False           True             False             False   \n",
       "2                 False           True             False             False   \n",
       "3                 False           True             False             False   \n",
       "4                  True           True             False             False   \n",
       "...                 ...            ...               ...               ...   \n",
       "9563              False           True             False             False   \n",
       "9564              False           True             False             False   \n",
       "9565              False           True             False             False   \n",
       "9566              False           True             False             False   \n",
       "9567              False           True             False             False   \n",
       "\n",
       "      content_TV Special  content_Unknown  content_Video  content_Video Game  \n",
       "0                  False            False          False               False  \n",
       "1                  False            False          False               False  \n",
       "2                  False            False          False               False  \n",
       "3                  False            False          False               False  \n",
       "4                  False            False          False               False  \n",
       "...                  ...              ...            ...                 ...  \n",
       "9563               False            False          False               False  \n",
       "9564               False            False          False               False  \n",
       "9565               False            False          False               False  \n",
       "9566               False            False          False               False  \n",
       "9567               False            False          False               False  \n",
       "\n",
       "[9568 rows x 48 columns]"
      ]
     },
     "metadata": {},
     "output_type": "display_data"
    }
   ],
   "source": [
    "# Cleaning\n",
    "df_cleaned=clean_data2(df)\n",
    "# preprocessing\n",
    "display(df_cleaned)"
   ]
  },
  {
   "cell_type": "code",
   "execution_count": 9,
   "metadata": {},
   "outputs": [],
   "source": [
    "X_train, X_test, y_train, y_test=transform_data_f(df_cleaned)"
   ]
  },
  {
   "cell_type": "markdown",
   "metadata": {},
   "source": [
    "2 Clases transformation :"
   ]
  },
  {
   "cell_type": "code",
   "execution_count": 25,
   "metadata": {},
   "outputs": [
    {
     "ename": "TypeError",
     "evalue": "cannot unpack non-iterable NoneType object",
     "output_type": "error",
     "traceback": [
      "\u001b[1;31m---------------------------------------------------------------------------\u001b[0m",
      "\u001b[1;31mTypeError\u001b[0m                                 Traceback (most recent call last)",
      "Cell \u001b[1;32mIn[25], line 2\u001b[0m\n\u001b[0;32m      1\u001b[0m \u001b[38;5;66;03m#Data with only 2 Classes\u001b[39;00m\n\u001b[1;32m----> 2\u001b[0m X_train, X_test, y_train, y_test\u001b[38;5;241m=\u001b[39mtransform_data_f_2_C(df_cleaned)\n",
      "\u001b[1;31mTypeError\u001b[0m: cannot unpack non-iterable NoneType object"
     ]
    }
   ],
   "source": [
    "#Data with only 2 Classes\n",
    "X_train, X_test, y_train, y_test=transform_data_f_2_c(df_cleaned)"
   ]
  },
  {
   "cell_type": "code",
   "execution_count": 10,
   "metadata": {},
   "outputs": [
    {
     "name": "stdout",
     "output_type": "stream",
     "text": [
      "rating\n",
      "2    5007\n",
      "1    2587\n",
      "0      60\n",
      "Name: count, dtype: int64\n"
     ]
    }
   ],
   "source": [
    "print(y_train.value_counts())\n",
    "print(\"/////////////\")\n",
    "print(y_test.value_counts())\n"
   ]
  },
  {
   "cell_type": "code",
   "execution_count": 15,
   "metadata": {},
   "outputs": [
    {
     "name": "stdout",
     "output_type": "stream",
     "text": [
      "(1914, 47)\n"
     ]
    }
   ],
   "source": [
    "print(X_test.shape)"
   ]
  },
  {
   "cell_type": "markdown",
   "metadata": {},
   "source": [
    "##Random_Forest_Model"
   ]
  },
  {
   "cell_type": "code",
   "execution_count": 18,
   "metadata": {},
   "outputs": [],
   "source": [
    "RandomForestModel(data_url,version,df_cleaned,X_train,y_train,X_test,y_test)"
   ]
  },
  {
   "cell_type": "markdown",
   "metadata": {},
   "source": [
    "XGBOOSTModel"
   ]
  },
  {
   "cell_type": "code",
   "execution_count": 16,
   "metadata": {},
   "outputs": [],
   "source": [
    "XGBoostModel(data_url,version,df_cleaned,X_train,y_train,X_test,y_test)"
   ]
  },
  {
   "cell_type": "code",
   "execution_count": 17,
   "metadata": {},
   "outputs": [],
   "source": [
    "logisticRegressionModel(data_url,version,df_cleaned,X_train,y_train,X_test,y_test)\n"
   ]
  },
  {
   "cell_type": "code",
   "execution_count": 27,
   "metadata": {},
   "outputs": [
    {
     "name": "stdout",
     "output_type": "stream",
     "text": [
      "(1914, 47)\n"
     ]
    }
   ],
   "source": [
    "print(X_test.shape)\n"
   ]
  },
  {
   "cell_type": "markdown",
   "metadata": {},
   "source": [
    "Models with the use of grid search to find the best hyperparameters:"
   ]
  },
  {
   "cell_type": "code",
   "execution_count": 28,
   "metadata": {},
   "outputs": [],
   "source": [
    "logisticRegressionModelG(data_url,version,df_cleaned,X_train,y_train,X_test,y_test)\n"
   ]
  },
  {
   "cell_type": "code",
   "execution_count": 29,
   "metadata": {},
   "outputs": [],
   "source": [
    "XGBoostModelG(data_url,version,df_cleaned,X_train,y_train,X_test,y_test)"
   ]
  },
  {
   "cell_type": "code",
   "execution_count": 11,
   "metadata": {},
   "outputs": [],
   "source": [
    "RandomForestModelG(data_url,version,df_cleaned,X_train,y_train,X_test,y_test)"
   ]
  },
  {
   "cell_type": "code",
   "execution_count": 30,
   "metadata": {},
   "outputs": [
    {
     "ename": "",
     "evalue": "",
     "output_type": "error",
     "traceback": [
      "\u001b[1;31mCannot execute code, session has been disposed. Please try restarting the Kernel."
     ]
    },
    {
     "ename": "",
     "evalue": "",
     "output_type": "error",
     "traceback": [
      "\u001b[1;31mCannot execute code, session has been disposed. Please try restarting the Kernel. \n",
      "\u001b[1;31mView Jupyter <a href='command:jupyter.viewOutput'>log</a> for further details."
     ]
    }
   ],
   "source": [
    "SVMModelG(data_url,version,df_cleaned,X_train,y_train,X_test,y_test)"
   ]
  }
 ],
 "metadata": {
  "kernelspec": {
   "display_name": "mlops_env",
   "language": "python",
   "name": "python3"
  },
  "language_info": {
   "codemirror_mode": {
    "name": "ipython",
    "version": 3
   },
   "file_extension": ".py",
   "mimetype": "text/x-python",
   "name": "python",
   "nbconvert_exporter": "python",
   "pygments_lexer": "ipython3",
   "version": "3.9.21"
  }
 },
 "nbformat": 4,
 "nbformat_minor": 2
}
