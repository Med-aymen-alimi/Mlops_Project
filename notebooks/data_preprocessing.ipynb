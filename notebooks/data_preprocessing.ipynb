{
  "cells": [
    {
      "cell_type": "markdown",
      "metadata": {},
      "source": [
        "<div align=\"center\">\n",
        "\n",
        "# MLOps Project\n",
        "\n",
        "</div>\n",
        "\n",
        "<div align=\"center\" style=\"font-weight: normal;\">\n",
        "\n",
        "## <span style=\"color: black;\">Movie Rating Predictor</span>\n",
        "\n",
        "### Yessine Karray &nbsp;&nbsp;&nbsp; Mohamed Aymen Alimi &nbsp;&nbsp;&nbsp;&nbsp; Hedi Aloulou\n",
        "\n",
        "</div>\n"
      ]
    },
    {
      "cell_type": "code",
      "execution_count": 291,
      "metadata": {
        "id": "x3GC-JyynNVY",
        "outputId": "6bb1149e-fe53-43d1-f3a6-2e44b7ccb487"
      },
      "outputs": [
        {
          "data": {
            "text/html": [
              "\n",
              "<div style=\"text-align: center;\">\n",
              "    <img src=\"images/mlopss.png\" alt=\"MLOps\" style=\"height: 400px; width: 1100px;\">\n",
              "</div>\n"
            ],
            "text/plain": [
              "<IPython.core.display.HTML object>"
            ]
          },
          "metadata": {},
          "output_type": "display_data"
        }
      ],
      "source": [
        "\n",
        "\n",
        "from IPython.display import display, HTML\n",
        "\n",
        "# Utiliser HTML pour centrer l'image\n",
        "display(HTML(\"\"\"\n",
        "<div style=\"text-align: center;\">\n",
        "    <img src=\"images/mlopss.png\" alt=\"MLOps\" style=\"height: 400px; width: 1100px;\">\n",
        "</div>\n",
        "\"\"\"))\n"
      ]
    },
    {
      "cell_type": "markdown",
      "metadata": {},
      "source": [
        "# Movie Rating Predictor\n",
        "## An AI-Powered Movie Rating Classification System\n",
        "\n",
        "### Overview\n",
        "Our Movie Rating Predictor is a machine learning model designed to predict movie ratings by classifying them into distinct rating categories. The model analyzes various film attributes such as genre, release year, director, cast, and other metadata to predict which rating category a movie is likely to fall into.\n",
        "\n",
        "### Rating Categories\n",
        "The model predicts one of four rating categories:\n",
        "\n",
        "⭐ (0-4)     Poor: Films that struggle to engage viewers\n",
        "\n",
        "⭐⭐ (4-6)    Average: Films that meet basic expectations\n",
        "\n",
        "⭐⭐⭐ (6-8)    Good: Films that deliver solid entertainment\n",
        "\n",
        "⭐⭐⭐⭐ (8-10)  Excellent: Outstanding films with exceptional quality\n",
        "\n",
        "### Input Features\n",
        "The model processes the following characteristics:\n",
        "- Movie title\n",
        "- Genre(s)\n",
        "- Production year\n",
        "- Runtime\n",
        "- Director\n",
        "- Main cast\n",
        "- Content type (Movie, TV Series, etc.)\n",
        "- Box office earnings (gross)\n",
        "- Number of votes\n",
        "\n",
        "### Data Preprocessing Pipeline\n",
        "The preprocessing workflow combines traditional data cleaning with modern NLP approaches:\n",
        "1. Basic data cleaning:\n",
        "   - Text normalization\n",
        "   - Missing value handling\n",
        "   - Format standardization\n",
        "2. Sentence Transformers processing:\n",
        "   - Converting text features into embeddings\n",
        "   - Creating dense vector representations\n",
        "   - Capturing semantic meaning\n",
        "3. Feature engineering:\n",
        "   - Numerical scaling\n",
        "   - Categorical encoding\n",
        "   - Feature combination\n",
        "\n",
        "This streamlined pipeline ensures efficient and meaningful processing of movie data before prediction.\n",
        "\n",
        "\n",
        "\n",
        "### Input Data Examples 📽️\n",
        "\n",
        "#### Expected Format\n",
        "The model accepts data in JSON format with a standardized structure for each movie:\n",
        "\n",
        "```json\n",
        "{\n",
        "   \"movies\": \"The Matrix\",\n",
        "   \"one_line\": \"A computer hacker learns...\",\n",
        "   \"year\": \"1999-2010 Movie\",\n",
        "   \"runtime\": 136,\n",
        "   \"genre\": \"action,Family\",\n",
        "   \"stars\": \"Director: Wachowski | Stars: Keanu Reeves\",\n",
        "   \"votes\": 15000,\n",
        "   \"gross\": \"463.5M\"\n",
        "}"
      ]
    },
    {
      "cell_type": "markdown",
      "metadata": {
        "id": "xTDH7d1VnNVW"
      },
      "source": [
        "# What is Data Preprocessing ?"
      ]
    },
    {
      "cell_type": "markdown",
      "metadata": {
        "id": "zJKYbFGunNVY"
      },
      "source": [
        "Data preprocessing is a data mining technique that involves transforming raw data into an understandable format. Real-world data is often incomplete, inconsistent, and/or lacking in certain behaviors or trends, and is likely to contain many errors. Data preprocessing is a proven method of resolving such issues."
      ]
    },
    {
      "cell_type": "markdown",
      "metadata": {
        "id": "vLA3p9W2nNVZ"
      },
      "source": [
        "# Data Preprocessing Importance :\n",
        "\n",
        "When using data sets to train machine learning models, you'll often hear the phrase **\"garbage in, garbage out\"** This means that if you use bad or \"dirty\" data to train your model, you’ll end up with a bad, improperly trained model that won’t actually be relevant to your analysis.\n",
        "\n",
        "Good, preprocessed data is even more important than the most powerful algorithms, to the point that machine learning models trained with bad data could actually be harmful to the analysis you're trying to do – giving you \"garbage\" results."
      ]
    },
    {
      "cell_type": "markdown",
      "metadata": {
        "id": "daEH72c8nNVZ"
      },
      "source": [
        "# Data pre-processing steps"
      ]
    },
    {
      "cell_type": "code",
      "execution_count": 290,
      "metadata": {
        "colab": {
          "base_uri": "https://localhost:8080/",
          "height": 72
        },
        "id": "_hUc9Ua0tGCT",
        "outputId": "57a6f5ea-c0ab-48b9-8a88-8a7ad9857809"
      },
      "outputs": [
        {
          "data": {
            "text/html": [
              "<div>\n",
              "<style scoped>\n",
              "    .dataframe tbody tr th:only-of-type {\n",
              "        vertical-align: middle;\n",
              "    }\n",
              "\n",
              "    .dataframe tbody tr th {\n",
              "        vertical-align: top;\n",
              "    }\n",
              "\n",
              "    .dataframe thead th {\n",
              "        text-align: right;\n",
              "    }\n",
              "</style>\n",
              "<table border=\"1\" class=\"dataframe\">\n",
              "  <thead>\n",
              "    <tr style=\"text-align: right;\">\n",
              "      <th></th>\n",
              "      <th>MOVIES</th>\n",
              "      <th>YEAR</th>\n",
              "      <th>GENRE</th>\n",
              "      <th>RATING</th>\n",
              "      <th>ONE-LINE</th>\n",
              "      <th>STARS</th>\n",
              "      <th>VOTES</th>\n",
              "      <th>RunTime</th>\n",
              "      <th>Gross</th>\n",
              "    </tr>\n",
              "  </thead>\n",
              "  <tbody>\n",
              "    <tr>\n",
              "      <th>0</th>\n",
              "      <td>Blood Red Sky</td>\n",
              "      <td>(2021)</td>\n",
              "      <td>\\nAction, Horror, Thriller</td>\n",
              "      <td>6.1</td>\n",
              "      <td>\\nA woman with a mysterious illness is forced ...</td>\n",
              "      <td>\\n    Director:\\nPeter Thorwarth\\n| \\n    Star...</td>\n",
              "      <td>21,062</td>\n",
              "      <td>121.0</td>\n",
              "      <td>NaN</td>\n",
              "    </tr>\n",
              "    <tr>\n",
              "      <th>1</th>\n",
              "      <td>Masters of the Universe: Revelation</td>\n",
              "      <td>(2021– )</td>\n",
              "      <td>\\nAnimation, Action, Adventure</td>\n",
              "      <td>5.0</td>\n",
              "      <td>\\nThe war for Eternia begins again in what may...</td>\n",
              "      <td>\\n            \\n    Stars:\\nChris Wood, \\nSara...</td>\n",
              "      <td>17,870</td>\n",
              "      <td>25.0</td>\n",
              "      <td>NaN</td>\n",
              "    </tr>\n",
              "    <tr>\n",
              "      <th>2</th>\n",
              "      <td>The Walking Dead</td>\n",
              "      <td>(2010–2022)</td>\n",
              "      <td>\\nDrama, Horror, Thriller</td>\n",
              "      <td>8.2</td>\n",
              "      <td>\\nSheriff Deputy Rick Grimes wakes up from a c...</td>\n",
              "      <td>\\n            \\n    Stars:\\nAndrew Lincoln, \\n...</td>\n",
              "      <td>885,805</td>\n",
              "      <td>44.0</td>\n",
              "      <td>NaN</td>\n",
              "    </tr>\n",
              "    <tr>\n",
              "      <th>3</th>\n",
              "      <td>Rick and Morty</td>\n",
              "      <td>(2013– )</td>\n",
              "      <td>\\nAnimation, Adventure, Comedy</td>\n",
              "      <td>9.2</td>\n",
              "      <td>\\nAn animated series that follows the exploits...</td>\n",
              "      <td>\\n            \\n    Stars:\\nJustin Roiland, \\n...</td>\n",
              "      <td>414,849</td>\n",
              "      <td>23.0</td>\n",
              "      <td>NaN</td>\n",
              "    </tr>\n",
              "    <tr>\n",
              "      <th>4</th>\n",
              "      <td>Army of Thieves</td>\n",
              "      <td>(2021)</td>\n",
              "      <td>\\nAction, Crime, Horror</td>\n",
              "      <td>NaN</td>\n",
              "      <td>\\nA prequel, set before the events of Army of ...</td>\n",
              "      <td>\\n    Director:\\nMatthias Schweighöfer\\n| \\n  ...</td>\n",
              "      <td>NaN</td>\n",
              "      <td>NaN</td>\n",
              "      <td>NaN</td>\n",
              "    </tr>\n",
              "  </tbody>\n",
              "</table>\n",
              "</div>"
            ],
            "text/plain": [
              "                                MOVIES         YEAR  \\\n",
              "0                        Blood Red Sky       (2021)   \n",
              "1  Masters of the Universe: Revelation     (2021– )   \n",
              "2                     The Walking Dead  (2010–2022)   \n",
              "3                       Rick and Morty     (2013– )   \n",
              "4                      Army of Thieves       (2021)   \n",
              "\n",
              "                                        GENRE  RATING  \\\n",
              "0      \\nAction, Horror, Thriller                 6.1   \n",
              "1  \\nAnimation, Action, Adventure                 5.0   \n",
              "2       \\nDrama, Horror, Thriller                 8.2   \n",
              "3  \\nAnimation, Adventure, Comedy                 9.2   \n",
              "4         \\nAction, Crime, Horror                 NaN   \n",
              "\n",
              "                                            ONE-LINE  \\\n",
              "0  \\nA woman with a mysterious illness is forced ...   \n",
              "1  \\nThe war for Eternia begins again in what may...   \n",
              "2  \\nSheriff Deputy Rick Grimes wakes up from a c...   \n",
              "3  \\nAn animated series that follows the exploits...   \n",
              "4  \\nA prequel, set before the events of Army of ...   \n",
              "\n",
              "                                               STARS    VOTES  RunTime Gross  \n",
              "0  \\n    Director:\\nPeter Thorwarth\\n| \\n    Star...   21,062    121.0   NaN  \n",
              "1  \\n            \\n    Stars:\\nChris Wood, \\nSara...   17,870     25.0   NaN  \n",
              "2  \\n            \\n    Stars:\\nAndrew Lincoln, \\n...  885,805     44.0   NaN  \n",
              "3  \\n            \\n    Stars:\\nJustin Roiland, \\n...  414,849     23.0   NaN  \n",
              "4  \\n    Director:\\nMatthias Schweighöfer\\n| \\n  ...      NaN      NaN   NaN  "
            ]
          },
          "execution_count": 290,
          "metadata": {},
          "output_type": "execute_result"
        }
      ],
      "source": [
        "import pandas as pd\n",
        "df = pd.read_csv(\"C:/Users/MSI/Desktop/movies.csv\")\n",
        "df_secours=df\n",
        "df_secours2=df\n",
        "df.head(5)"
      ]
    },
    {
      "cell_type": "markdown",
      "metadata": {
        "id": "SlHqYeImnNVa"
      },
      "source": [
        "# Data preprocessing steps :"
      ]
    },
    {
      "cell_type": "markdown",
      "metadata": {
        "id": "q_YsPju-nNVa"
      },
      "source": [
        "# Step 1 : Data Quality Assesement"
      ]
    },
    {
      "cell_type": "markdown",
      "metadata": {
        "id": "4C2GmkJqnNVa"
      },
      "source": [
        "## **Check the data types of the columns** :"
      ]
    },
    {
      "cell_type": "code",
      "execution_count": 291,
      "metadata": {
        "colab": {
          "base_uri": "https://localhost:8080/"
        },
        "id": "Rzdp4ujQnNVa",
        "outputId": "4edd6189-bf08-4112-d381-24dca04fa490"
      },
      "outputs": [
        {
          "name": "stdout",
          "output_type": "stream",
          "text": [
            "<class 'pandas.core.frame.DataFrame'>\n",
            "RangeIndex: 9999 entries, 0 to 9998\n",
            "Data columns (total 9 columns):\n",
            " #   Column    Non-Null Count  Dtype  \n",
            "---  ------    --------------  -----  \n",
            " 0   MOVIES    9999 non-null   object \n",
            " 1   YEAR      9355 non-null   object \n",
            " 2   GENRE     9919 non-null   object \n",
            " 3   RATING    8179 non-null   float64\n",
            " 4   ONE-LINE  9999 non-null   object \n",
            " 5   STARS     9999 non-null   object \n",
            " 6   VOTES     8179 non-null   object \n",
            " 7   RunTime   7041 non-null   float64\n",
            " 8   Gross     460 non-null    object \n",
            "dtypes: float64(2), object(7)\n",
            "memory usage: 703.2+ KB\n"
          ]
        },
        {
          "data": {
            "text/plain": [
              "(9999, 9)"
            ]
          },
          "execution_count": 291,
          "metadata": {},
          "output_type": "execute_result"
        }
      ],
      "source": [
        "df.info()\n",
        "df.shape"
      ]
    },
    {
      "cell_type": "markdown",
      "metadata": {
        "id": "EdxCfVZYnNVa"
      },
      "source": [
        "## **Check if there is any duplicated values** :"
      ]
    },
    {
      "cell_type": "code",
      "execution_count": 292,
      "metadata": {
        "colab": {
          "base_uri": "https://localhost:8080/"
        },
        "id": "owJiSByh7A-r",
        "outputId": "cf5bd015-cbfb-473d-b3f4-f22f77802f63"
      },
      "outputs": [
        {
          "name": "stdout",
          "output_type": "stream",
          "text": [
            "Nombre de lignes avant: 9999\n",
            "Nombre de lignes après: 9568\n",
            "Vérification finale pour les doublons: 0\n"
          ]
        }
      ],
      "source": [
        "print(\"Nombre de lignes avant:\", len(df))\n",
        "df = df.drop_duplicates()\n",
        "print(\"Nombre de lignes après:\", len(df))\n",
        "df = df.reset_index(drop=True)\n",
        "print(\"Vérification finale pour les doublons:\", df.duplicated().sum())"
      ]
    },
    {
      "cell_type": "markdown",
      "metadata": {
        "id": "nDd4-WWm625F"
      },
      "source": [
        "# **Text Cleaning**\n",
        "Our text cleaning pipeline preserves letters (a-z, A-Z), numbers (0-9), spaces, commas and periods, while replacing any other special characters with a space and removing multiple spaces. This process is applied directly to DataFrame text columns while preserving numerical values."
      ]
    },
    {
      "cell_type": "code",
      "execution_count": 293,
      "metadata": {
        "id": "zQ3w3ipJ7pKl"
      },
      "outputs": [],
      "source": [
        "def clean_text(text):\n",
        "   if pd.isna(text):\n",
        "       return text\n",
        "   # Conversion en string\n",
        "   text = str(text)\n",
        "   # Remplacer les caractères spéciaux par des espaces\n",
        "   import re\n",
        "   text = re.sub(r'[^a-zA-Z0-9\\s,.]', ' ', text)\n",
        "   # Supprimer les espaces multiples\n",
        "   text = ' '.join(text.split())\n",
        "   return text"
      ]
    },
    {
      "cell_type": "code",
      "execution_count": 294,
      "metadata": {},
      "outputs": [],
      "source": [
        "for col in df.columns:\n",
        "   if df[col].dtype == 'object':  # Seulement pour colonnes texte\n",
        "       df[col] = df[col].apply(clean_text)"
      ]
    },
    {
      "cell_type": "markdown",
      "metadata": {
        "id": "K0gXJbggyu9J"
      },
      "source": [
        "# **Lowering columns names**"
      ]
    },
    {
      "cell_type": "code",
      "execution_count": 295,
      "metadata": {
        "colab": {
          "base_uri": "https://localhost:8080/"
        },
        "id": "sy1SriMyyRRA",
        "outputId": "20e5ffd7-6498-464a-d82a-8be7cd125415"
      },
      "outputs": [],
      "source": [
        "def clean_column_names(df):\n",
        "    df = df.copy()\n",
        "    df.columns = df.columns.str.strip().str.lower()\n",
        "    return df"
      ]
    },
    {
      "cell_type": "code",
      "execution_count": 296,
      "metadata": {},
      "outputs": [
        {
          "name": "stdout",
          "output_type": "stream",
          "text": [
            "Index(['movies', 'year', 'genre', 'rating', 'one-line', 'stars', 'votes',\n",
            "       'runtime', 'gross'],\n",
            "      dtype='object')\n"
          ]
        }
      ],
      "source": [
        "df= clean_column_names(df)\n",
        "print(df.columns)"
      ]
    },
    {
      "cell_type": "code",
      "execution_count": 297,
      "metadata": {},
      "outputs": [
        {
          "data": {
            "text/html": [
              "<div>\n",
              "<style scoped>\n",
              "    .dataframe tbody tr th:only-of-type {\n",
              "        vertical-align: middle;\n",
              "    }\n",
              "\n",
              "    .dataframe tbody tr th {\n",
              "        vertical-align: top;\n",
              "    }\n",
              "\n",
              "    .dataframe thead th {\n",
              "        text-align: right;\n",
              "    }\n",
              "</style>\n",
              "<table border=\"1\" class=\"dataframe\">\n",
              "  <thead>\n",
              "    <tr style=\"text-align: right;\">\n",
              "      <th></th>\n",
              "      <th>movies</th>\n",
              "      <th>year</th>\n",
              "      <th>genre</th>\n",
              "      <th>rating</th>\n",
              "      <th>one-line</th>\n",
              "      <th>stars</th>\n",
              "      <th>votes</th>\n",
              "      <th>runtime</th>\n",
              "      <th>gross</th>\n",
              "    </tr>\n",
              "  </thead>\n",
              "  <tbody>\n",
              "    <tr>\n",
              "      <th>0</th>\n",
              "      <td>Blood Red Sky</td>\n",
              "      <td>2021</td>\n",
              "      <td>Action, Horror, Thriller</td>\n",
              "      <td>6.1</td>\n",
              "      <td>A woman with a mysterious illness is forced in...</td>\n",
              "      <td>Director Peter Thorwarth Stars Peri Baumeister...</td>\n",
              "      <td>21,062</td>\n",
              "      <td>121.0</td>\n",
              "      <td>NaN</td>\n",
              "    </tr>\n",
              "    <tr>\n",
              "      <th>1</th>\n",
              "      <td>Masters of the Universe Revelation</td>\n",
              "      <td>2021</td>\n",
              "      <td>Animation, Action, Adventure</td>\n",
              "      <td>5.0</td>\n",
              "      <td>The war for Eternia begins again in what may b...</td>\n",
              "      <td>Stars Chris Wood, Sarah Michelle Gellar, Lena ...</td>\n",
              "      <td>17,870</td>\n",
              "      <td>25.0</td>\n",
              "      <td>NaN</td>\n",
              "    </tr>\n",
              "    <tr>\n",
              "      <th>2</th>\n",
              "      <td>The Walking Dead</td>\n",
              "      <td>2010 2022</td>\n",
              "      <td>Drama, Horror, Thriller</td>\n",
              "      <td>8.2</td>\n",
              "      <td>Sheriff Deputy Rick Grimes wakes up from a com...</td>\n",
              "      <td>Stars Andrew Lincoln, Norman Reedus, Melissa M...</td>\n",
              "      <td>885,805</td>\n",
              "      <td>44.0</td>\n",
              "      <td>NaN</td>\n",
              "    </tr>\n",
              "  </tbody>\n",
              "</table>\n",
              "</div>"
            ],
            "text/plain": [
              "                               movies       year  \\\n",
              "0                       Blood Red Sky       2021   \n",
              "1  Masters of the Universe Revelation       2021   \n",
              "2                    The Walking Dead  2010 2022   \n",
              "\n",
              "                          genre  rating  \\\n",
              "0      Action, Horror, Thriller     6.1   \n",
              "1  Animation, Action, Adventure     5.0   \n",
              "2       Drama, Horror, Thriller     8.2   \n",
              "\n",
              "                                            one-line  \\\n",
              "0  A woman with a mysterious illness is forced in...   \n",
              "1  The war for Eternia begins again in what may b...   \n",
              "2  Sheriff Deputy Rick Grimes wakes up from a com...   \n",
              "\n",
              "                                               stars    votes  runtime gross  \n",
              "0  Director Peter Thorwarth Stars Peri Baumeister...   21,062    121.0   NaN  \n",
              "1  Stars Chris Wood, Sarah Michelle Gellar, Lena ...   17,870     25.0   NaN  \n",
              "2  Stars Andrew Lincoln, Norman Reedus, Melissa M...  885,805     44.0   NaN  "
            ]
          },
          "execution_count": 297,
          "metadata": {},
          "output_type": "execute_result"
        }
      ],
      "source": [
        "df.head(3)"
      ]
    },
    {
      "cell_type": "markdown",
      "metadata": {},
      "source": [
        "# **Data Analysis Overview**\n"
      ]
    },
    {
      "cell_type": "markdown",
      "metadata": {},
      "source": [
        "## Missing Values Analysis"
      ]
    },
    {
      "cell_type": "code",
      "execution_count": 298,
      "metadata": {},
      "outputs": [
        {
          "name": "stdout",
          "output_type": "stream",
          "text": [
            "Missing Values Count:\n",
            "movies         0\n",
            "one-line       0\n",
            "year         542\n",
            "runtime     2560\n",
            "genre         78\n",
            "stars          0\n",
            "votes       1400\n",
            "gross       9108\n",
            "dtype: int64\n"
          ]
        }
      ],
      "source": [
        "print(\"Missing Values Count:\")\n",
        "print(df[['movies', 'one-line', 'year', 'runtime', 'genre', 'stars', 'votes', 'gross']].isnull().sum())"
      ]
    },
    {
      "cell_type": "markdown",
      "metadata": {},
      "source": [
        "## Word Embedding Methods "
      ]
    },
    {
      "cell_type": "markdown",
      "metadata": {},
      "source": [
        "* Sentence Transformers\n",
        "\n",
        "Sentence Transformers are deep learning models based on transformer architectures (like BERT, RoBERTa, etc.) that convert sentences into dense vector representations while preserving semantic meaning. These models understand context and relationships between words, making them powerful for various NLP tasks.\n",
        "<div style=\"text-align: center;\">\n",
        "    <img src=\"images/logo.png\" alt=\"MLOps\" style=\"height: 400px; width: 1100px;\">\n",
        "</div>"
      ]
    },
    {
      "cell_type": "markdown",
      "metadata": {},
      "source": [
        "* TF-IDF\n",
        "\n",
        "TF-IDF (Term Frequency-Inverse Document Frequency):\n",
        "TF-IDF is a statistical measure used to evaluate the importance of a word in a document relative to a collection of documents. It combines two components:\n",
        "\n",
        "TF (Term Frequency): How often a word appears in a document\n",
        "IDF (Inverse Document Frequency): How rare or common the word is across all documents\n",
        "<div style=\"text-align: center;\">\n",
        "    <img src=\"images/logo2.webp\" alt=\"MLOps\" style=\"height: 400px; width: 1100px;\">\n",
        "</div>"
      ]
    },
    {
      "cell_type": "markdown",
      "metadata": {},
      "source": [
        "# **Movies Preprocessing + Encoding**\n"
      ]
    },
    {
      "cell_type": "markdown",
      "metadata": {},
      "source": [
        " + <h5>Sentence Transformers<h5>"
      ]
    },
    {
      "cell_type": "code",
      "execution_count": 299,
      "metadata": {},
      "outputs": [],
      "source": [
        "def create_movie_embeddings(df):\n",
        "  from sentence_transformers import SentenceTransformer\n",
        "  import pandas as pd\n",
        "  import numpy as np  \n",
        "  try:          \n",
        "      # Initialize model\n",
        "      model = SentenceTransformer('all-MiniLM-L6-v2')\n",
        "      \n",
        "      # Create embeddings\n",
        "      df['movies'] = model.encode(df['movies'].tolist(), show_progress_bar=True).tolist()\n",
        "      \n",
        "      # Convert string embeddings to numpy arrays if needed\n",
        "      if isinstance(df['movies'].iloc[0], str):\n",
        "          df['movies'] = df['movies'].apply(lambda x: np.array(eval(x)) if isinstance(x, str) else x)\n",
        "      \n",
        "      return df\n",
        "      \n",
        "  except Exception as e:\n",
        "      print(f\"An error occurred in movie embedding: {str(e)}\")\n",
        "      return None"
      ]
    },
    {
      "cell_type": "code",
      "execution_count": 300,
      "metadata": {},
      "outputs": [
        {
          "data": {
            "application/vnd.jupyter.widget-view+json": {
              "model_id": "fd518b4884a948549cfa92dc83844dec",
              "version_major": 2,
              "version_minor": 0
            },
            "text/plain": [
              "Batches:   0%|          | 0/299 [00:00<?, ?it/s]"
            ]
          },
          "metadata": {},
          "output_type": "display_data"
        }
      ],
      "source": [
        "df=create_movie_embeddings(df)"
      ]
    },
    {
      "cell_type": "code",
      "execution_count": 301,
      "metadata": {},
      "outputs": [
        {
          "data": {
            "text/html": [
              "<div>\n",
              "<style scoped>\n",
              "    .dataframe tbody tr th:only-of-type {\n",
              "        vertical-align: middle;\n",
              "    }\n",
              "\n",
              "    .dataframe tbody tr th {\n",
              "        vertical-align: top;\n",
              "    }\n",
              "\n",
              "    .dataframe thead th {\n",
              "        text-align: right;\n",
              "    }\n",
              "</style>\n",
              "<table border=\"1\" class=\"dataframe\">\n",
              "  <thead>\n",
              "    <tr style=\"text-align: right;\">\n",
              "      <th></th>\n",
              "      <th>movies</th>\n",
              "      <th>year</th>\n",
              "      <th>genre</th>\n",
              "      <th>rating</th>\n",
              "      <th>one-line</th>\n",
              "      <th>stars</th>\n",
              "      <th>votes</th>\n",
              "      <th>runtime</th>\n",
              "      <th>gross</th>\n",
              "    </tr>\n",
              "  </thead>\n",
              "  <tbody>\n",
              "    <tr>\n",
              "      <th>0</th>\n",
              "      <td>[-0.013224651105701923, -0.031249316409230232,...</td>\n",
              "      <td>2021</td>\n",
              "      <td>Action, Horror, Thriller</td>\n",
              "      <td>6.1</td>\n",
              "      <td>A woman with a mysterious illness is forced in...</td>\n",
              "      <td>Director Peter Thorwarth Stars Peri Baumeister...</td>\n",
              "      <td>21,062</td>\n",
              "      <td>121.0</td>\n",
              "      <td>NaN</td>\n",
              "    </tr>\n",
              "    <tr>\n",
              "      <th>1</th>\n",
              "      <td>[-0.04141589626669884, 0.026655057445168495, 0...</td>\n",
              "      <td>2021</td>\n",
              "      <td>Animation, Action, Adventure</td>\n",
              "      <td>5.0</td>\n",
              "      <td>The war for Eternia begins again in what may b...</td>\n",
              "      <td>Stars Chris Wood, Sarah Michelle Gellar, Lena ...</td>\n",
              "      <td>17,870</td>\n",
              "      <td>25.0</td>\n",
              "      <td>NaN</td>\n",
              "    </tr>\n",
              "    <tr>\n",
              "      <th>2</th>\n",
              "      <td>[-0.051055245101451874, -0.03851728513836861, ...</td>\n",
              "      <td>2010 2022</td>\n",
              "      <td>Drama, Horror, Thriller</td>\n",
              "      <td>8.2</td>\n",
              "      <td>Sheriff Deputy Rick Grimes wakes up from a com...</td>\n",
              "      <td>Stars Andrew Lincoln, Norman Reedus, Melissa M...</td>\n",
              "      <td>885,805</td>\n",
              "      <td>44.0</td>\n",
              "      <td>NaN</td>\n",
              "    </tr>\n",
              "  </tbody>\n",
              "</table>\n",
              "</div>"
            ],
            "text/plain": [
              "                                              movies       year  \\\n",
              "0  [-0.013224651105701923, -0.031249316409230232,...       2021   \n",
              "1  [-0.04141589626669884, 0.026655057445168495, 0...       2021   \n",
              "2  [-0.051055245101451874, -0.03851728513836861, ...  2010 2022   \n",
              "\n",
              "                          genre  rating  \\\n",
              "0      Action, Horror, Thriller     6.1   \n",
              "1  Animation, Action, Adventure     5.0   \n",
              "2       Drama, Horror, Thriller     8.2   \n",
              "\n",
              "                                            one-line  \\\n",
              "0  A woman with a mysterious illness is forced in...   \n",
              "1  The war for Eternia begins again in what may b...   \n",
              "2  Sheriff Deputy Rick Grimes wakes up from a com...   \n",
              "\n",
              "                                               stars    votes  runtime gross  \n",
              "0  Director Peter Thorwarth Stars Peri Baumeister...   21,062    121.0   NaN  \n",
              "1  Stars Chris Wood, Sarah Michelle Gellar, Lena ...   17,870     25.0   NaN  \n",
              "2  Stars Andrew Lincoln, Norman Reedus, Melissa M...  885,805     44.0   NaN  "
            ]
          },
          "execution_count": 301,
          "metadata": {},
          "output_type": "execute_result"
        }
      ],
      "source": [
        "df.head(3)"
      ]
    },
    {
      "cell_type": "code",
      "execution_count": 302,
      "metadata": {},
      "outputs": [],
      "source": [
        "secour=df.copy"
      ]
    },
    {
      "cell_type": "markdown",
      "metadata": {
        "id": "EmElDkgqILj7"
      },
      "source": [
        "# **Genre Preprocessing + Encoding**"
      ]
    },
    {
      "cell_type": "markdown",
      "metadata": {
        "id": "gChVo-eIhpbc"
      },
      "source": [
        "+ Standardization and analysis of genre combinations  \" Replace null values directly with \"Unspecified\" \"\n",
        "\n"
      ]
    },
    {
      "cell_type": "code",
      "execution_count": 303,
      "metadata": {
        "id": "UIj2-tyKM7J0"
      },
      "outputs": [],
      "source": [
        "def standardize_movie_genres(df):\n",
        "    import pandas as pd\n",
        "    import matplotlib.pyplot as plt\n",
        "    import seaborn as sns\n",
        "    # Remplacer les NaN dans la colonne 'genre' par 'unspecified'\n",
        "    df['genre'] = df['genre'].fillna('unspecified')\n",
        "    def normalize_genre(genre_string):\n",
        "        if pd.isna(genre_string):\n",
        "            return \"unspecified\"\n",
        "        # Convertir en minuscules et nettoyer les espaces\n",
        "        genre_string = str(genre_string).lower().strip()\n",
        "        # Séparer les genres individuels par la virgule et enlever les espaces superflus\n",
        "        genres = [g.strip() for g in genre_string.split(',')]\n",
        "        # Supprimer les doublons et trier les genres\n",
        "        genres = sorted(set(genres))\n",
        "        return ','.join(genres) if genres else \"unspecified\"\n",
        "    # Appliquer la standardisation directement sur la colonne 'genre'\n",
        "    df['genre'] = df['genre'].apply(normalize_genre)\n",
        "    return df"
      ]
    },
    {
      "cell_type": "code",
      "execution_count": 304,
      "metadata": {},
      "outputs": [],
      "source": [
        "df=standardize_movie_genres(df)"
      ]
    },
    {
      "cell_type": "code",
      "execution_count": 305,
      "metadata": {
        "colab": {
          "base_uri": "https://localhost:8080/",
          "height": 1000
        },
        "id": "diDPKfoxtnCW",
        "outputId": "dde14a05-a591-4c1e-f7ae-60316752900d"
      },
      "outputs": [],
      "source": [
        "def visualize_genre_statistics(df):\n",
        "    import pandas as pd\n",
        "    import matplotlib.pyplot as plt\n",
        "    import seaborn as sns\n",
        "    print(\"\\n=== STATISTIQUES DES GENRES UNIQUES ===\")\n",
        "    # Récupérer la fréquence de chaque genre unique après séparation\n",
        "    genre_stats = df['genre'].str.split(',').explode().str.strip().value_counts()\n",
        "    print(\"\\nGenres uniques avec leur fréquence d'apparition:\")\n",
        "    print(genre_stats)\n",
        "    # Visualisation des genres uniques les plus fréquents\n",
        "    plt.figure(figsize=(15, 8))\n",
        "    sns.barplot(x=genre_stats.values, y=genre_stats.index)\n",
        "    plt.title('Fréquence des Genres Uniques')\n",
        "    plt.xlabel('Nombre de Films')\n",
        "    plt.ylabel('Genres')\n",
        "    plt.tight_layout()\n",
        "    plt.show()"
      ]
    },
    {
      "cell_type": "code",
      "execution_count": 306,
      "metadata": {},
      "outputs": [
        {
          "name": "stdout",
          "output_type": "stream",
          "text": [
            "\n",
            "=== STATISTIQUES DES GENRES UNIQUES ===\n",
            "\n",
            "Genres uniques avec leur fréquence d'apparition:\n",
            "genre\n",
            "drama          4115\n",
            "comedy         2736\n",
            "action         2110\n",
            "adventure      1588\n",
            "animation      1584\n",
            "crime          1519\n",
            "documentary    1221\n",
            "thriller        895\n",
            "mystery         840\n",
            "romance         835\n",
            "fantasy         537\n",
            "horror          518\n",
            "family          442\n",
            "reality tv      370\n",
            "history         346\n",
            "biography       311\n",
            "sci fi          303\n",
            "short           247\n",
            "music           200\n",
            "sport           192\n",
            "game show        98\n",
            "talk show        89\n",
            "unspecified      78\n",
            "musical          61\n",
            "war              48\n",
            "western          24\n",
            "news             23\n",
            "film noir        12\n",
            "Name: count, dtype: int64\n"
          ]
        },
        {
          "data": {
            "image/png": "[encoded data removed]",
            "text/plain": [
              "<Figure size 1500x800 with 1 Axes>"
            ]
          },
          "metadata": {},
          "output_type": "display_data"
        }
      ],
      "source": [
        "visualize_genre_statistics(df)"
      ]
    },
    {
      "cell_type": "markdown",
      "metadata": {
        "id": "IYEW9I1koAhI"
      },
      "source": [
        "# **Gross Preprocessing + Encoding**"
      ]
    },
    {
      "cell_type": "markdown",
      "metadata": {},
      "source": [
        "+ Standardization and analysis of Gross \" Replace null values directly with Median \"\n"
      ]
    },
    {
      "cell_type": "code",
      "execution_count": 307,
      "metadata": {},
      "outputs": [],
      "source": [
        "def process_gross(df):\n",
        "   try:\n",
        "       # Clean gross column - remove 'M' and convert to float\n",
        "       df['gross'] = df['gross'].str.replace('M', '').astype(float)\n",
        "       # Calculate median and fill null values\n",
        "       median_gross = df['gross'].median()\n",
        "       df['gross'] = df['gross'].fillna(median_gross)\n",
        "       return df\n",
        "   except Exception as e:\n",
        "       print(f\"An error occurred: {str(e)}\")\n",
        "       return None"
      ]
    },
    {
      "cell_type": "code",
      "execution_count": 308,
      "metadata": {},
      "outputs": [
        {
          "data": {
            "text/html": [
              "<div>\n",
              "<style scoped>\n",
              "    .dataframe tbody tr th:only-of-type {\n",
              "        vertical-align: middle;\n",
              "    }\n",
              "\n",
              "    .dataframe tbody tr th {\n",
              "        vertical-align: top;\n",
              "    }\n",
              "\n",
              "    .dataframe thead th {\n",
              "        text-align: right;\n",
              "    }\n",
              "</style>\n",
              "<table border=\"1\" class=\"dataframe\">\n",
              "  <thead>\n",
              "    <tr style=\"text-align: right;\">\n",
              "      <th></th>\n",
              "      <th>movies</th>\n",
              "      <th>year</th>\n",
              "      <th>genre</th>\n",
              "      <th>rating</th>\n",
              "      <th>one-line</th>\n",
              "      <th>stars</th>\n",
              "      <th>votes</th>\n",
              "      <th>runtime</th>\n",
              "      <th>gross</th>\n",
              "    </tr>\n",
              "  </thead>\n",
              "  <tbody>\n",
              "    <tr>\n",
              "      <th>0</th>\n",
              "      <td>[-0.013224651105701923, -0.031249316409230232,...</td>\n",
              "      <td>2021</td>\n",
              "      <td>action,horror,thriller</td>\n",
              "      <td>6.1</td>\n",
              "      <td>A woman with a mysterious illness is forced in...</td>\n",
              "      <td>Director Peter Thorwarth Stars Peri Baumeister...</td>\n",
              "      <td>21,062</td>\n",
              "      <td>121.0</td>\n",
              "      <td>6.145</td>\n",
              "    </tr>\n",
              "    <tr>\n",
              "      <th>1</th>\n",
              "      <td>[-0.04141589626669884, 0.026655057445168495, 0...</td>\n",
              "      <td>2021</td>\n",
              "      <td>action,adventure,animation</td>\n",
              "      <td>5.0</td>\n",
              "      <td>The war for Eternia begins again in what may b...</td>\n",
              "      <td>Stars Chris Wood, Sarah Michelle Gellar, Lena ...</td>\n",
              "      <td>17,870</td>\n",
              "      <td>25.0</td>\n",
              "      <td>6.145</td>\n",
              "    </tr>\n",
              "    <tr>\n",
              "      <th>2</th>\n",
              "      <td>[-0.051055245101451874, -0.03851728513836861, ...</td>\n",
              "      <td>2010 2022</td>\n",
              "      <td>drama,horror,thriller</td>\n",
              "      <td>8.2</td>\n",
              "      <td>Sheriff Deputy Rick Grimes wakes up from a com...</td>\n",
              "      <td>Stars Andrew Lincoln, Norman Reedus, Melissa M...</td>\n",
              "      <td>885,805</td>\n",
              "      <td>44.0</td>\n",
              "      <td>6.145</td>\n",
              "    </tr>\n",
              "    <tr>\n",
              "      <th>3</th>\n",
              "      <td>[-0.12033625692129135, -0.02028549462556839, -...</td>\n",
              "      <td>2013</td>\n",
              "      <td>adventure,animation,comedy</td>\n",
              "      <td>9.2</td>\n",
              "      <td>An animated series that follows the exploits o...</td>\n",
              "      <td>Stars Justin Roiland, Chris Parnell, Spencer G...</td>\n",
              "      <td>414,849</td>\n",
              "      <td>23.0</td>\n",
              "      <td>6.145</td>\n",
              "    </tr>\n",
              "    <tr>\n",
              "      <th>4</th>\n",
              "      <td>[-0.16527359187602997, 0.007843196392059326, -...</td>\n",
              "      <td>2021</td>\n",
              "      <td>action,crime,horror</td>\n",
              "      <td>NaN</td>\n",
              "      <td>A prequel, set before the events of Army of th...</td>\n",
              "      <td>Director Matthias Schweigh fer Stars Matthias ...</td>\n",
              "      <td>NaN</td>\n",
              "      <td>NaN</td>\n",
              "      <td>6.145</td>\n",
              "    </tr>\n",
              "  </tbody>\n",
              "</table>\n",
              "</div>"
            ],
            "text/plain": [
              "                                              movies       year  \\\n",
              "0  [-0.013224651105701923, -0.031249316409230232,...       2021   \n",
              "1  [-0.04141589626669884, 0.026655057445168495, 0...       2021   \n",
              "2  [-0.051055245101451874, -0.03851728513836861, ...  2010 2022   \n",
              "3  [-0.12033625692129135, -0.02028549462556839, -...       2013   \n",
              "4  [-0.16527359187602997, 0.007843196392059326, -...       2021   \n",
              "\n",
              "                        genre  rating  \\\n",
              "0      action,horror,thriller     6.1   \n",
              "1  action,adventure,animation     5.0   \n",
              "2       drama,horror,thriller     8.2   \n",
              "3  adventure,animation,comedy     9.2   \n",
              "4         action,crime,horror     NaN   \n",
              "\n",
              "                                            one-line  \\\n",
              "0  A woman with a mysterious illness is forced in...   \n",
              "1  The war for Eternia begins again in what may b...   \n",
              "2  Sheriff Deputy Rick Grimes wakes up from a com...   \n",
              "3  An animated series that follows the exploits o...   \n",
              "4  A prequel, set before the events of Army of th...   \n",
              "\n",
              "                                               stars    votes  runtime  gross  \n",
              "0  Director Peter Thorwarth Stars Peri Baumeister...   21,062    121.0  6.145  \n",
              "1  Stars Chris Wood, Sarah Michelle Gellar, Lena ...   17,870     25.0  6.145  \n",
              "2  Stars Andrew Lincoln, Norman Reedus, Melissa M...  885,805     44.0  6.145  \n",
              "3  Stars Justin Roiland, Chris Parnell, Spencer G...  414,849     23.0  6.145  \n",
              "4  Director Matthias Schweigh fer Stars Matthias ...      NaN      NaN  6.145  "
            ]
          },
          "execution_count": 308,
          "metadata": {},
          "output_type": "execute_result"
        }
      ],
      "source": [
        "df=process_gross(df)\n",
        "df.head(5)"
      ]
    },
    {
      "cell_type": "markdown",
      "metadata": {
        "id": "BJUIOZ0wdx0e"
      },
      "source": [
        "# **Rating Column + Categorization (OUR Label)**"
      ]
    },
    {
      "cell_type": "markdown",
      "metadata": {
        "id": "Av03Qof4fDOl"
      },
      "source": [
        "**Median Method**"
      ]
    },
    {
      "cell_type": "code",
      "execution_count": 309,
      "metadata": {},
      "outputs": [],
      "source": [
        "def process_rating(df):\n",
        "   try:\n",
        "       # Fill missing values with median\n",
        "       median_rating = df['rating'].median()\n",
        "       df['rating'] = df['rating'].fillna(median_rating)\n",
        "       \n",
        "       # Convert ratings directly to categories\n",
        "       df['rating'] = pd.cut(df['rating'], \n",
        "                           bins=[0, 4, 6, 8, 10], \n",
        "                           labels=[0, 1, 2, 3],\n",
        "                           include_lowest=True)\n",
        "       return df\n",
        "   except Exception as e:\n",
        "       print(f\"An error occurred: {str(e)}\")\n",
        "       return None"
      ]
    },
    {
      "cell_type": "code",
      "execution_count": 310,
      "metadata": {},
      "outputs": [],
      "source": [
        "df = process_rating(df)"
      ]
    },
    {
      "cell_type": "markdown",
      "metadata": {
        "id": "gZBWyT81zwJo"
      },
      "source": [
        "# **Year cleaning**"
      ]
    },
    {
      "cell_type": "markdown",
      "metadata": {
        "id": "IS14UMG75Eii"
      },
      "source": [
        "**Year preprocessing  with uploading new column for movie type extracted from column year and converting year into year year_start year_end column**"
      ]
    },
    {
      "cell_type": "code",
      "execution_count": 311,
      "metadata": {
        "colab": {
          "base_uri": "https://localhost:8080/"
        },
        "id": "gp4ev4CFxL1W",
        "outputId": "f6641eea-3e8d-4f5b-9d18-301c1036b5bd"
      },
      "outputs": [
        {
          "data": {
            "text/plain": [
              "array(['2021', '2010 2022', '2013', '2020', '2006 2013', '2019',\n",
              "       '2016 2021', '2011', '2005', '2008 2013', '2017', '2017 2021',\n",
              "       '2016', '1994 2004', '2014', '2013 2020', '2015', '2005 2020',\n",
              "       '2013 2022', '2003', '2009 2020', 'I 2018', '2010 2015',\n",
              "       '2011 2019', '2015 2020', '2005 2014', '2009 2015', '2008 2014',\n",
              "       '2016 2018', '2009 2017', '2018 2021', '2017 2020', '1987 1994',\n",
              "       '2018', '2012', '2014 2020', '2011 2018', '2005 2017', '2007 2015',\n",
              "       '2000 2007', 'II 2007', '1993', '1999 2022', '2015 2018',\n",
              "       '2014 2019', '2012 2020', '2013 2019', '2007 2012', '2011 2020',\n",
              "       '2010 2017', '2000 2015', '2015 2021', '2001', '1997', '2011 2017',\n",
              "       '1993 1999', '1989 1998', '2010 2013', '2010 2020', '2003 2019',\n",
              "       'I 2019', '2017 2019', '1975', '2005 2008', '1995 2001', '2006',\n",
              "       '2015 2017', '2008 2020', '1984 1996', '2010', '2000', '2013 2018',\n",
              "       '2009 2016', '2016 2020', '2021 TV Special', '1998 2003', 'I 2017',\n",
              "       '1966 1969', '2009', '1990 1991', '1995', '2020 2021', '2013 2017',\n",
              "       '2019 2020', '2017 2018', '2013 2015', '2012 2017', 'I 2013 2016',\n",
              "       '2002', 'I 2020', 'III 2021', 'II 2016', '1976', '1978',\n",
              "       '2016 2019', '2009 2014', '2022', '2011 2014', '2007 2013',\n",
              "       '2006 2007', '2002 2007', '2014 2017', '2010 2019', '2008',\n",
              "       '2012 2019', '2014 2016', '2009 2012', '2018 2020', '2001 2005',\n",
              "       '2011 2015', '2014 2018', '2015 2019', '1982 1993', '1998', '1968',\n",
              "       '2010 2018', '2014 2021', '2007 2010', '2013 2021', '1990 1996',\n",
              "       '2004', '2007 2014', '1996 2001', '1999 2000', '2012 2014',\n",
              "       'I 2013', '2012 2018', '2018 2019', '2009 2013', '1971', '1989',\n",
              "       '2001 2018', '1987 1995', 'I 2014', '1998 2020', 'I 2015',\n",
              "       '2004 2013', 'I 2016', 'II 2017', 'I 2021', '2004 2012',\n",
              "       '2019 2021', 'IV 2020', '2006 2010', '2006 2012', '1996',\n",
              "       '1994 2000', 'II 2020', '1980', 'I 2011', '1995 1996', '2016 2017',\n",
              "       '1993 1996', 'II 2019', '1962', '1991', 'I 2012', '1984',\n",
              "       '2011 2016', '2009 2019', '2006 2021', 'I 2010', '2012 2015',\n",
              "       'I 2013 2014', '1960', '1988', '2007', '1987', '2010 2011', '1969',\n",
              "       '2006 2011', '1961', '1979', 'II 2022', '2014 2015', '1956',\n",
              "       '2013 2016', 'III 2018', 'II 2012', 'II 2013', '1983', '2002 2019',\n",
              "       '2013 TV Movie', 'II 2015', 'I 2012 2015', '1975 1979', '1990',\n",
              "       nan, 'II 2018', 'IV 2021', '2015 2016', '1995 1998', '1986',\n",
              "       '2012 2013', '1966', '2011 2012', '2011 2021', '2016 Video',\n",
              "       '2017 TV Movie', '2009 2011', '2004 2018', '1967', '1994',\n",
              "       '2003 2006', 'III 2015', '1974', '2000 2004', '1984 2021', 'I',\n",
              "       'II 2021', '1994 1999', 'III', '1992', '1969 1974', '2012 2016',\n",
              "       '2013 2014', 'I 2008', '1958', '2008 2009', 'II 2004', 'III 2019',\n",
              "       '2006 2009', '2011 2013', '2007 2008', '1988 1999', '2010 2012',\n",
              "       '2010 2014', '1932', '2014 TV Movie', '1941', '1992 1995',\n",
              "       '2016 TV Special', '2020 TV Movie', '2008 2010', 'II',\n",
              "       '2020 Video', '1999', '1950', '2020 TV Special', '1992 2014',\n",
              "       '2002 2005', '2013 TV Special', '2016 TV Movie', 'XII', 'VII',\n",
              "       '2021 TV Movie', '1996 Video', '1993 TV Movie', '2018 TV Movie',\n",
              "       '2005 2009', '2001 2002', '2015 TV Movie', '2011 Video',\n",
              "       '2008 Video', '2012 Video', '1946', 'II 2014', '2019 Video',\n",
              "       '1981 1989', 'IV 2016', 'III 2016', '2019 TV Movie', '1952',\n",
              "       '2007 Video', '2000 2014', '1957', '2003 2007', 'IV', '2008 2017',\n",
              "       '2008 2019', '1998 2000', 'I 2004', '2007 2016', '2017 TV Special',\n",
              "       '2009 TV Movie', '2013 Video', '2017 Video', '1994 1996',\n",
              "       'IV 2017', 'IV 2018', '1954', '2012 TV Movie', '1982', '1955',\n",
              "       '2014 TV Short', 'I 2022', 'I 2019 2020', '1975 TV Movie',\n",
              "       '2019 TV Special', '2015 TV Special', '2015 TV Short',\n",
              "       '2018 TV Special', '1948', '2014 Video', 'VI 2014', '2003 2013',\n",
              "       '2021 Video', '1947', '1997 2000', 'III 2020', '1977', 'I 2009',\n",
              "       'V', '2023', 'I 2000', 'TV Special', 'II 2011', 'TV Movie', '1945',\n",
              "       '2015 Video', 'III 2010', '2009 Video', '1998 2002',\n",
              "       '2008 TV Movie', '2019 TV Short', '2004 Video', 'II 1998',\n",
              "       '2014 TV Special', '1953', '1985', 'VIII', '1973',\n",
              "       '2012 TV Special', 'V 2016', '1972', 'V 2018', 'II 2010',\n",
              "       '2021 TV Short', 'VI 2019', 'I 2005', '1965', '2010 2016',\n",
              "       'V 2010', '2005 2013', '2006 TV Special', '2006 Video',\n",
              "       '2011 TV Movie', '1988 TV Movie', 'XXIII', '2011 TV Special',\n",
              "       '2020 TV Short', 'VI 2018', '2008 TV Special', '1998 1999',\n",
              "       'III 2012', 'VI', '2010 TV Special', 'III 2017', '1993 TV Special',\n",
              "       '2004 2005', '1992 Video', '1989 TV Special', 'XI', 'III 2014',\n",
              "       '1966 TV Special', '1999 TV Movie', '1987 TV Special', '1944',\n",
              "       '1998 TV Special', '2006 TV Movie', '2022 TV Special',\n",
              "       '1989 Video', '1991 TV Special', 'XLI', 'IV 2014', '2005 Video',\n",
              "       '2007 TV Special', '1965 TV Special', '1990 TV Special',\n",
              "       '2001 TV Special', 'IX', 'XIV 2017', '2009 2010', 'XIII',\n",
              "       'II 2012 2019', '1933', 'II 2009', '2010 Video', '2009 TV Special',\n",
              "       '1938', '2003 TV Special', 'Video', '2001 TV Movie', 'VI 2016',\n",
              "       'III 2011', '2007 TV Movie', '2017 TV Short', '2018 Video',\n",
              "       '2000 Video', '1995 Video', '2003 Video', 'II 2016 TV Movie',\n",
              "       '1998 Video', '2005 TV Special', '2004 2009', '2018 Video Game'],\n",
              "      dtype=object)"
            ]
          },
          "execution_count": 311,
          "metadata": {},
          "output_type": "execute_result"
        }
      ],
      "source": [
        "df['year'].unique()"
      ]
    },
    {
      "cell_type": "markdown",
      "metadata": {
        "id": "8fX6eygq0Rqe"
      },
      "source": [
        "**Remarque Importante** : Important Note: we notice in the year field different content types, so we will extract them and put them in a new column called content_type\n",
        "There are 5 content types:\n",
        "Movie\n",
        "TV Special\n",
        "TV Movie\n",
        "Video\n",
        "TV Short\n",
        "Video Game\n",
        "Otherwise, Unknown is the 6th type"
      ]
    },
    {
      "cell_type": "markdown",
      "metadata": {},
      "source": [
        "Our Traitement\n",
        "+ Extracts Years:\n",
        "  + Single Year -> \"2021\" -> start_year=2021, end_year=2021\n",
        "  + Year Range -> \"2010-2022\" -> start_year=2010, end_year=2022\n",
        "  + Ongoing Series -> \"2020-\" -> start_year=2020, end_year=2024\n",
        "  + Years with Space -> \"2010 2022\" -> start_year=2010, end_year=2022\n",
        "  + Roman Numerals -> \"I (2021)\" -> start_year=2021, end_year=2021\n",
        "\n",
        "+ Identifies Content Types:\n",
        "  + \"TV Special\" in text -> TV Special\n",
        "  + \"TV Movie\" in text -> TV Movie\n",
        "  + \"TV Short\" in text -> TV Short\n",
        "  + \"Video Game\" in text -> Video Game\n",
        "  + Missing -> Unspecified\n",
        "\n",
        "+ Handles Missing Values:\n",
        "  + Calculates median years for both start and end\n",
        "  + Fills missing years with these median values\n",
        "  + Converts invalid/missing content types to \"Unspecified\"\n",
        "\n",
        "The result is three new columns:\n",
        "+ year_start: Starting year with no missing values\n",
        "+ year_end: Ending year with no missing values\n",
        "+ content_type: Content classification with no missing values\n",
        "\n",
        "Coding Content Types\n",
        "\n",
        "    Movie -> 0\n",
        "\n",
        "    TV Series -> 1\n",
        "\n",
        "    TV Special -> 2\n",
        "\n",
        "    TV Movie -> 3\n",
        "\n",
        "    Video -> 4\n",
        "\n",
        "    TV Short -> 5\n",
        "\n",
        "    Video Game -> 6\n",
        "    \n",
        "    Unspecified -> 7"
      ]
    },
    {
      "cell_type": "code",
      "execution_count": 312,
      "metadata": {},
      "outputs": [],
      "source": [
        "def process_years_and_content(df):\n",
        "   import re\n",
        "   try:\n",
        "       def clean_and_extract_years(year_str):\n",
        "           if pd.isna(year_str) or not isinstance(year_str, str):\n",
        "               return None, None  \n",
        "           # Clean base string\n",
        "           year_str = year_str.strip('() ')  \n",
        "           try:\n",
        "               # Case 1: Roman numeral format at start (I), (II), etc.\n",
        "               if re.match(r'^[IVX]+\\s*\\(', year_str):\n",
        "                   year_str = re.sub(r'^[IVX]+\\s*\\((.+?)\\)$', r'\\1', year_str)\n",
        "               # Case 2: Find base year\n",
        "               base_year = re.search(r'(\\d{4})', year_str)\n",
        "               if not base_year:\n",
        "                   return None, None\n",
        "               start_year = int(base_year.group(1))\n",
        "               # Case 3: Ongoing series (YYYY-)\n",
        "               if year_str.endswith('– )') or year_str.endswith('-)'):\n",
        "                   return start_year, 2024\n",
        "               # Case 4: Year range (YYYY–YYYY or YYYY-YYYY)\n",
        "               if '–' in year_str or '-' in year_str:\n",
        "                   end_match = re.search(r'[–-]\\s*(\\d{4})', year_str)\n",
        "                   if end_match:\n",
        "                       return start_year, int(end_match.group(1))\n",
        "                   return start_year, 2024\n",
        "               # Case 5: Year range with space (YYYY YYYY)\n",
        "               if ' ' in year_str:\n",
        "                   years = year_str.split()\n",
        "                   if len(years) == 2 and years[0].isdigit() and years[1].isdigit():\n",
        "                       return int(years[0]), int(years[1])\n",
        "               # Case 6: Single year\n",
        "               return start_year, start_year\n",
        "           except Exception as e:\n",
        "               print(f\"Error with '{year_str}': {str(e)}\")\n",
        "               return None, None\n",
        "       def get_content_type(year_str):\n",
        "           if not isinstance(year_str, str):\n",
        "               return 'Unspecified'\n",
        "           if 'TV Special' in year_str:\n",
        "               return 'TV Special'\n",
        "           elif 'TV Movie' in year_str:\n",
        "               return 'TV Movie'\n",
        "           elif 'TV Short' in year_str:\n",
        "               return 'TV Short'\n",
        "           elif 'Video Game' in year_str:\n",
        "               return 'Video Game'\n",
        "           elif 'Video' in year_str:\n",
        "               return 'Video'\n",
        "           elif '–' in year_str or '-' in year_str:\n",
        "               return 'TV Series'\n",
        "           else:\n",
        "               return 'Movie'\n",
        "       # Process years and create new columns\n",
        "       years_df = pd.DataFrame(df['year'].apply(clean_and_extract_years).tolist(),\n",
        "                             columns=['year_start', 'year_end'])\n",
        "       # Add columns to DataFrame\n",
        "       df['year_start'] = years_df['year_start'].astype('Int64')\n",
        "       df['year_end'] = years_df['year_end'].astype('Int64')\n",
        "       # Calculate and apply median for year columns\n",
        "       start_median = int(df['year_start'].median())\n",
        "       end_median = int(df['year_end'].median())\n",
        "       # Fill NaN values with medians\n",
        "       df['year_start'] = df['year_start'].fillna(start_median)\n",
        "       df['year_end'] = df['year_end'].fillna(end_median)\n",
        "       # Process content type\n",
        "       df['content_type'] = df['year'].apply(get_content_type)\n",
        "       df['content_type'] = df['content_type'].fillna('Unspecified') \n",
        "       content_mapping = {\n",
        "            'Movie': 0,\n",
        "            'TV Series': 1,\n",
        "            'TV Special': 2,\n",
        "            'TV Movie': 3,\n",
        "            'Video': 4,\n",
        "            'TV Short': 5,\n",
        "            'Video Game': 6,\n",
        "            'Unspecified': 7\n",
        "        }\n",
        "        # Convert categories using the mapping\n",
        "       df['content_type'] = df['content_type'].map(content_mapping)      \n",
        "       #df = df.drop(columns=['year'])\n",
        " \n",
        "       return df\n",
        "   except Exception as e:\n",
        "       print(f\"An error occurred: {str(e)}\")\n",
        "       return None"
      ]
    },
    {
      "cell_type": "code",
      "execution_count": 313,
      "metadata": {},
      "outputs": [
        {
          "data": {
            "text/html": [
              "<div>\n",
              "<style scoped>\n",
              "    .dataframe tbody tr th:only-of-type {\n",
              "        vertical-align: middle;\n",
              "    }\n",
              "\n",
              "    .dataframe tbody tr th {\n",
              "        vertical-align: top;\n",
              "    }\n",
              "\n",
              "    .dataframe thead th {\n",
              "        text-align: right;\n",
              "    }\n",
              "</style>\n",
              "<table border=\"1\" class=\"dataframe\">\n",
              "  <thead>\n",
              "    <tr style=\"text-align: right;\">\n",
              "      <th></th>\n",
              "      <th>movies</th>\n",
              "      <th>year</th>\n",
              "      <th>genre</th>\n",
              "      <th>rating</th>\n",
              "      <th>one-line</th>\n",
              "      <th>stars</th>\n",
              "      <th>votes</th>\n",
              "      <th>runtime</th>\n",
              "      <th>gross</th>\n",
              "    </tr>\n",
              "  </thead>\n",
              "  <tbody>\n",
              "    <tr>\n",
              "      <th>0</th>\n",
              "      <td>[-0.013224651105701923, -0.031249316409230232,...</td>\n",
              "      <td>2021</td>\n",
              "      <td>action,horror,thriller</td>\n",
              "      <td>2</td>\n",
              "      <td>A woman with a mysterious illness is forced in...</td>\n",
              "      <td>Director Peter Thorwarth Stars Peri Baumeister...</td>\n",
              "      <td>21,062</td>\n",
              "      <td>121.0</td>\n",
              "      <td>6.145</td>\n",
              "    </tr>\n",
              "    <tr>\n",
              "      <th>1</th>\n",
              "      <td>[-0.04141589626669884, 0.026655057445168495, 0...</td>\n",
              "      <td>2021</td>\n",
              "      <td>action,adventure,animation</td>\n",
              "      <td>1</td>\n",
              "      <td>The war for Eternia begins again in what may b...</td>\n",
              "      <td>Stars Chris Wood, Sarah Michelle Gellar, Lena ...</td>\n",
              "      <td>17,870</td>\n",
              "      <td>25.0</td>\n",
              "      <td>6.145</td>\n",
              "    </tr>\n",
              "    <tr>\n",
              "      <th>2</th>\n",
              "      <td>[-0.051055245101451874, -0.03851728513836861, ...</td>\n",
              "      <td>2010 2022</td>\n",
              "      <td>drama,horror,thriller</td>\n",
              "      <td>3</td>\n",
              "      <td>Sheriff Deputy Rick Grimes wakes up from a com...</td>\n",
              "      <td>Stars Andrew Lincoln, Norman Reedus, Melissa M...</td>\n",
              "      <td>885,805</td>\n",
              "      <td>44.0</td>\n",
              "      <td>6.145</td>\n",
              "    </tr>\n",
              "  </tbody>\n",
              "</table>\n",
              "</div>"
            ],
            "text/plain": [
              "                                              movies       year  \\\n",
              "0  [-0.013224651105701923, -0.031249316409230232,...       2021   \n",
              "1  [-0.04141589626669884, 0.026655057445168495, 0...       2021   \n",
              "2  [-0.051055245101451874, -0.03851728513836861, ...  2010 2022   \n",
              "\n",
              "                        genre rating  \\\n",
              "0      action,horror,thriller      2   \n",
              "1  action,adventure,animation      1   \n",
              "2       drama,horror,thriller      3   \n",
              "\n",
              "                                            one-line  \\\n",
              "0  A woman with a mysterious illness is forced in...   \n",
              "1  The war for Eternia begins again in what may b...   \n",
              "2  Sheriff Deputy Rick Grimes wakes up from a com...   \n",
              "\n",
              "                                               stars    votes  runtime  gross  \n",
              "0  Director Peter Thorwarth Stars Peri Baumeister...   21,062    121.0  6.145  \n",
              "1  Stars Chris Wood, Sarah Michelle Gellar, Lena ...   17,870     25.0  6.145  \n",
              "2  Stars Andrew Lincoln, Norman Reedus, Melissa M...  885,805     44.0  6.145  "
            ]
          },
          "execution_count": 313,
          "metadata": {},
          "output_type": "execute_result"
        }
      ],
      "source": [
        "df.head(3)"
      ]
    },
    {
      "cell_type": "code",
      "execution_count": 314,
      "metadata": {},
      "outputs": [],
      "source": [
        "df=process_years_and_content(df)"
      ]
    },
    {
      "cell_type": "code",
      "execution_count": 315,
      "metadata": {},
      "outputs": [
        {
          "name": "stdout",
          "output_type": "stream",
          "text": [
            "Content type distribution:\n",
            "content_type\n",
            "0    8346\n",
            "7     542\n",
            "2     397\n",
            "3     162\n",
            "4     112\n",
            "5       8\n",
            "6       1\n",
            "Name: count, dtype: int64\n",
            "\n",
            "Aperçu des résultats:\n",
            "   year_start  year_end  content_type\n",
            "0        2021      2021             0\n",
            "1        2021      2021             0\n",
            "2        2010      2022             0\n",
            "3        2013      2013             0\n",
            "4        2021      2021             0\n",
            "5        2020      2020             0\n",
            "6        2021      2021             0\n",
            "7        2006      2013             0\n",
            "8        2020      2020             0\n",
            "9        2019      2019             0\n",
            "\n",
            "Valeurs manquantes par colonne:\n",
            "year_start      0\n",
            "year_end        0\n",
            "content_type    0\n",
            "dtype: int64\n"
          ]
        }
      ],
      "source": [
        "df=process_years_and_content(df)\n",
        "print(\"Content type distribution:\")\n",
        "print(df['content_type'].value_counts())\n",
        "\n",
        "# 2. Vérification des résultats\n",
        "print(\"\\nAperçu des résultats:\")\n",
        "print(df[['year_start', 'year_end', 'content_type']].head(10))\n",
        "\n",
        "# 5. Vérifier les valeurs manquantes\n",
        "print(\"\\nValeurs manquantes par colonne:\")\n",
        "print(df[['year_start', 'year_end', 'content_type']].isnull().sum())"
      ]
    },
    {
      "cell_type": "code",
      "execution_count": 316,
      "metadata": {},
      "outputs": [
        {
          "data": {
            "text/html": [
              "<div>\n",
              "<style scoped>\n",
              "    .dataframe tbody tr th:only-of-type {\n",
              "        vertical-align: middle;\n",
              "    }\n",
              "\n",
              "    .dataframe tbody tr th {\n",
              "        vertical-align: top;\n",
              "    }\n",
              "\n",
              "    .dataframe thead th {\n",
              "        text-align: right;\n",
              "    }\n",
              "</style>\n",
              "<table border=\"1\" class=\"dataframe\">\n",
              "  <thead>\n",
              "    <tr style=\"text-align: right;\">\n",
              "      <th></th>\n",
              "      <th>movies</th>\n",
              "      <th>year</th>\n",
              "      <th>genre</th>\n",
              "      <th>rating</th>\n",
              "      <th>one-line</th>\n",
              "      <th>stars</th>\n",
              "      <th>votes</th>\n",
              "      <th>runtime</th>\n",
              "      <th>gross</th>\n",
              "      <th>year_start</th>\n",
              "      <th>year_end</th>\n",
              "      <th>content_type</th>\n",
              "    </tr>\n",
              "  </thead>\n",
              "  <tbody>\n",
              "    <tr>\n",
              "      <th>0</th>\n",
              "      <td>[-0.013224651105701923, -0.031249316409230232,...</td>\n",
              "      <td>2021</td>\n",
              "      <td>action,horror,thriller</td>\n",
              "      <td>2</td>\n",
              "      <td>A woman with a mysterious illness is forced in...</td>\n",
              "      <td>Director Peter Thorwarth Stars Peri Baumeister...</td>\n",
              "      <td>21,062</td>\n",
              "      <td>121.0</td>\n",
              "      <td>6.145</td>\n",
              "      <td>2021</td>\n",
              "      <td>2021</td>\n",
              "      <td>0</td>\n",
              "    </tr>\n",
              "    <tr>\n",
              "      <th>1</th>\n",
              "      <td>[-0.04141589626669884, 0.026655057445168495, 0...</td>\n",
              "      <td>2021</td>\n",
              "      <td>action,adventure,animation</td>\n",
              "      <td>1</td>\n",
              "      <td>The war for Eternia begins again in what may b...</td>\n",
              "      <td>Stars Chris Wood, Sarah Michelle Gellar, Lena ...</td>\n",
              "      <td>17,870</td>\n",
              "      <td>25.0</td>\n",
              "      <td>6.145</td>\n",
              "      <td>2021</td>\n",
              "      <td>2021</td>\n",
              "      <td>0</td>\n",
              "    </tr>\n",
              "    <tr>\n",
              "      <th>2</th>\n",
              "      <td>[-0.051055245101451874, -0.03851728513836861, ...</td>\n",
              "      <td>2010 2022</td>\n",
              "      <td>drama,horror,thriller</td>\n",
              "      <td>3</td>\n",
              "      <td>Sheriff Deputy Rick Grimes wakes up from a com...</td>\n",
              "      <td>Stars Andrew Lincoln, Norman Reedus, Melissa M...</td>\n",
              "      <td>885,805</td>\n",
              "      <td>44.0</td>\n",
              "      <td>6.145</td>\n",
              "      <td>2010</td>\n",
              "      <td>2022</td>\n",
              "      <td>0</td>\n",
              "    </tr>\n",
              "    <tr>\n",
              "      <th>3</th>\n",
              "      <td>[-0.12033625692129135, -0.02028549462556839, -...</td>\n",
              "      <td>2013</td>\n",
              "      <td>adventure,animation,comedy</td>\n",
              "      <td>3</td>\n",
              "      <td>An animated series that follows the exploits o...</td>\n",
              "      <td>Stars Justin Roiland, Chris Parnell, Spencer G...</td>\n",
              "      <td>414,849</td>\n",
              "      <td>23.0</td>\n",
              "      <td>6.145</td>\n",
              "      <td>2013</td>\n",
              "      <td>2013</td>\n",
              "      <td>0</td>\n",
              "    </tr>\n",
              "    <tr>\n",
              "      <th>4</th>\n",
              "      <td>[-0.16527359187602997, 0.007843196392059326, -...</td>\n",
              "      <td>2021</td>\n",
              "      <td>action,crime,horror</td>\n",
              "      <td>2</td>\n",
              "      <td>A prequel, set before the events of Army of th...</td>\n",
              "      <td>Director Matthias Schweigh fer Stars Matthias ...</td>\n",
              "      <td>NaN</td>\n",
              "      <td>NaN</td>\n",
              "      <td>6.145</td>\n",
              "      <td>2021</td>\n",
              "      <td>2021</td>\n",
              "      <td>0</td>\n",
              "    </tr>\n",
              "  </tbody>\n",
              "</table>\n",
              "</div>"
            ],
            "text/plain": [
              "                                              movies       year  \\\n",
              "0  [-0.013224651105701923, -0.031249316409230232,...       2021   \n",
              "1  [-0.04141589626669884, 0.026655057445168495, 0...       2021   \n",
              "2  [-0.051055245101451874, -0.03851728513836861, ...  2010 2022   \n",
              "3  [-0.12033625692129135, -0.02028549462556839, -...       2013   \n",
              "4  [-0.16527359187602997, 0.007843196392059326, -...       2021   \n",
              "\n",
              "                        genre rating  \\\n",
              "0      action,horror,thriller      2   \n",
              "1  action,adventure,animation      1   \n",
              "2       drama,horror,thriller      3   \n",
              "3  adventure,animation,comedy      3   \n",
              "4         action,crime,horror      2   \n",
              "\n",
              "                                            one-line  \\\n",
              "0  A woman with a mysterious illness is forced in...   \n",
              "1  The war for Eternia begins again in what may b...   \n",
              "2  Sheriff Deputy Rick Grimes wakes up from a com...   \n",
              "3  An animated series that follows the exploits o...   \n",
              "4  A prequel, set before the events of Army of th...   \n",
              "\n",
              "                                               stars    votes  runtime  gross  \\\n",
              "0  Director Peter Thorwarth Stars Peri Baumeister...   21,062    121.0  6.145   \n",
              "1  Stars Chris Wood, Sarah Michelle Gellar, Lena ...   17,870     25.0  6.145   \n",
              "2  Stars Andrew Lincoln, Norman Reedus, Melissa M...  885,805     44.0  6.145   \n",
              "3  Stars Justin Roiland, Chris Parnell, Spencer G...  414,849     23.0  6.145   \n",
              "4  Director Matthias Schweigh fer Stars Matthias ...      NaN      NaN  6.145   \n",
              "\n",
              "   year_start  year_end  content_type  \n",
              "0        2021      2021             0  \n",
              "1        2021      2021             0  \n",
              "2        2010      2022             0  \n",
              "3        2013      2013             0  \n",
              "4        2021      2021             0  "
            ]
          },
          "execution_count": 316,
          "metadata": {},
          "output_type": "execute_result"
        }
      ],
      "source": [
        "df.head()"
      ]
    },
    {
      "cell_type": "code",
      "execution_count": 317,
      "metadata": {},
      "outputs": [],
      "source": [
        "def calculate_movie_duration(df):\n",
        "    # Créer la colonne 'movie_duration' en calculant year_end - year_start + 1\n",
        "    df['movie_duration'] = df['year_end'] - df['year_start'] + 1\n",
        "    # Supprimer les colonnes 'year_start' et 'year_end'\n",
        "    #df.drop(['year_start', 'year_end'], axis=1, inplace=True)\n",
        "\n",
        "    return df"
      ]
    },
    {
      "cell_type": "code",
      "execution_count": 318,
      "metadata": {},
      "outputs": [
        {
          "name": "stdout",
          "output_type": "stream",
          "text": [
            "   year_start  year_end  movie_duration\n",
            "0        2021      2021               1\n",
            "1        2021      2021               1\n",
            "2        2010      2022              13\n",
            "3        2013      2013               1\n",
            "4        2021      2021               1\n",
            "5        2020      2020               1\n",
            "6        2021      2021               1\n",
            "7        2006      2013               8\n",
            "8        2020      2020               1\n",
            "9        2019      2019               1\n"
          ]
        }
      ],
      "source": [
        "# Appliquer la fonction\n",
        "df = calculate_movie_duration(df)\n",
        "print(df[['year_start', 'year_end', 'movie_duration']].head(10))"
      ]
    },
    {
      "cell_type": "markdown",
      "metadata": {
        "id": "gDeRPpuSNhu5"
      },
      "source": [
        "# **Runtime Preprocessing to duration_category**"
      ]
    },
    {
      "cell_type": "markdown",
      "metadata": {
        "id": "SzEY0ujfY2n_"
      },
      "source": [
        "**Remplacing NULL VALUES by Statistical Imputation (Médiane groupée) + Converting it to Duration_Category Column**"
      ]
    },
    {
      "cell_type": "markdown",
      "metadata": {},
      "source": [
        "The numeric values represent:\n",
        "\n",
        "0: Court (Short)\n",
        "\n",
        "1: Moyen (Medium)\n",
        "\n",
        "2: Standard\n",
        "\n",
        "3: Long\n",
        "\n",
        "4: Très long (Very long)"
      ]
    },
    {
      "cell_type": "code",
      "execution_count": 319,
      "metadata": {
        "id": "M158J77Gckcd"
      },
      "outputs": [],
      "source": [
        "def impute_runtime(df):\n",
        "    # Imputer les NaN dans 'runtime' par la médiane de chaque groupe 'genre'\n",
        "    df['runtime_imputed'] = df.groupby('genre')['runtime'].transform(lambda x: x.fillna(x.median()))\n",
        "    # Si certaines valeurs restent NaN après l'imputation par groupe, les remplir par la médiane globale\n",
        "    df['runtime_imputed'] = df['runtime_imputed'].fillna(df['runtime'].median())\n",
        "    # Remplacer 'runtime' par 'runtime_imputed'\n",
        "    df['runtime'] = df['runtime_imputed']\n",
        "    # Supprimer la colonne 'runtime_imputed' si vous n'en avez plus besoin\n",
        "    df.drop(columns=['runtime_imputed'], inplace=True)\n",
        "    import pandas as pd\n",
        "    df['runtime'] = pd.to_numeric(df['runtime'], errors='coerce')\n",
        "    # Créer des catégories de durée\n",
        "    df['duration_category'] = pd.cut(df['runtime'],\n",
        "                                    bins=[0, 30, 60, 90, 120, float('inf')],\n",
        "                                    labels=['Court', 'Moyen', 'Standard', 'Long', 'Très long'])\n",
        "    duration_mapping = {\n",
        "           'Court': 0,\n",
        "           'Moyen': 1, \n",
        "           'Standard': 2,\n",
        "           'Long': 3,\n",
        "           'Très long': 4\n",
        "       }\n",
        "       \n",
        "    df['duration_category'] = df['duration_category'].map(duration_mapping)    \n",
        "    # Supprimer la colonne 'runtime'\n",
        "\n",
        "    #df.drop(['runtime'], axis=1, inplace=True)\n",
        "    return df"
      ]
    },
    {
      "cell_type": "code",
      "execution_count": 320,
      "metadata": {},
      "outputs": [
        {
          "name": "stdout",
          "output_type": "stream",
          "text": [
            "   runtime duration_category\n",
            "0    121.0                 4\n",
            "1     25.0                 0\n",
            "2     44.0                 1\n",
            "3     23.0                 0\n",
            "4    148.0                 4\n"
          ]
        },
        {
          "name": "stderr",
          "output_type": "stream",
          "text": [
            "c:\\Users\\MSI\\anaconda3\\envs\\mlops-new\\lib\\site-packages\\numpy\\lib\\nanfunctions.py:1215: RuntimeWarning: Mean of empty slice\n",
            "  return np.nanmean(a, axis, out=out, keepdims=keepdims)\n",
            "c:\\Users\\MSI\\anaconda3\\envs\\mlops-new\\lib\\site-packages\\numpy\\lib\\nanfunctions.py:1215: RuntimeWarning: Mean of empty slice\n",
            "  return np.nanmean(a, axis, out=out, keepdims=keepdims)\n",
            "c:\\Users\\MSI\\anaconda3\\envs\\mlops-new\\lib\\site-packages\\numpy\\lib\\nanfunctions.py:1215: RuntimeWarning: Mean of empty slice\n",
            "  return np.nanmean(a, axis, out=out, keepdims=keepdims)\n",
            "c:\\Users\\MSI\\anaconda3\\envs\\mlops-new\\lib\\site-packages\\numpy\\lib\\nanfunctions.py:1215: RuntimeWarning: Mean of empty slice\n",
            "  return np.nanmean(a, axis, out=out, keepdims=keepdims)\n",
            "c:\\Users\\MSI\\anaconda3\\envs\\mlops-new\\lib\\site-packages\\numpy\\lib\\nanfunctions.py:1215: RuntimeWarning: Mean of empty slice\n",
            "  return np.nanmean(a, axis, out=out, keepdims=keepdims)\n",
            "c:\\Users\\MSI\\anaconda3\\envs\\mlops-new\\lib\\site-packages\\numpy\\lib\\nanfunctions.py:1215: RuntimeWarning: Mean of empty slice\n",
            "  return np.nanmean(a, axis, out=out, keepdims=keepdims)\n",
            "c:\\Users\\MSI\\anaconda3\\envs\\mlops-new\\lib\\site-packages\\numpy\\lib\\nanfunctions.py:1215: RuntimeWarning: Mean of empty slice\n",
            "  return np.nanmean(a, axis, out=out, keepdims=keepdims)\n",
            "c:\\Users\\MSI\\anaconda3\\envs\\mlops-new\\lib\\site-packages\\numpy\\lib\\nanfunctions.py:1215: RuntimeWarning: Mean of empty slice\n",
            "  return np.nanmean(a, axis, out=out, keepdims=keepdims)\n",
            "c:\\Users\\MSI\\anaconda3\\envs\\mlops-new\\lib\\site-packages\\numpy\\lib\\nanfunctions.py:1215: RuntimeWarning: Mean of empty slice\n",
            "  return np.nanmean(a, axis, out=out, keepdims=keepdims)\n",
            "c:\\Users\\MSI\\anaconda3\\envs\\mlops-new\\lib\\site-packages\\numpy\\lib\\nanfunctions.py:1215: RuntimeWarning: Mean of empty slice\n",
            "  return np.nanmean(a, axis, out=out, keepdims=keepdims)\n",
            "c:\\Users\\MSI\\anaconda3\\envs\\mlops-new\\lib\\site-packages\\numpy\\lib\\nanfunctions.py:1215: RuntimeWarning: Mean of empty slice\n",
            "  return np.nanmean(a, axis, out=out, keepdims=keepdims)\n",
            "c:\\Users\\MSI\\anaconda3\\envs\\mlops-new\\lib\\site-packages\\numpy\\lib\\nanfunctions.py:1215: RuntimeWarning: Mean of empty slice\n",
            "  return np.nanmean(a, axis, out=out, keepdims=keepdims)\n",
            "c:\\Users\\MSI\\anaconda3\\envs\\mlops-new\\lib\\site-packages\\numpy\\lib\\nanfunctions.py:1215: RuntimeWarning: Mean of empty slice\n",
            "  return np.nanmean(a, axis, out=out, keepdims=keepdims)\n",
            "c:\\Users\\MSI\\anaconda3\\envs\\mlops-new\\lib\\site-packages\\numpy\\lib\\nanfunctions.py:1215: RuntimeWarning: Mean of empty slice\n",
            "  return np.nanmean(a, axis, out=out, keepdims=keepdims)\n",
            "c:\\Users\\MSI\\anaconda3\\envs\\mlops-new\\lib\\site-packages\\numpy\\lib\\nanfunctions.py:1215: RuntimeWarning: Mean of empty slice\n",
            "  return np.nanmean(a, axis, out=out, keepdims=keepdims)\n",
            "c:\\Users\\MSI\\anaconda3\\envs\\mlops-new\\lib\\site-packages\\numpy\\lib\\nanfunctions.py:1215: RuntimeWarning: Mean of empty slice\n",
            "  return np.nanmean(a, axis, out=out, keepdims=keepdims)\n",
            "c:\\Users\\MSI\\anaconda3\\envs\\mlops-new\\lib\\site-packages\\numpy\\lib\\nanfunctions.py:1215: RuntimeWarning: Mean of empty slice\n",
            "  return np.nanmean(a, axis, out=out, keepdims=keepdims)\n",
            "c:\\Users\\MSI\\anaconda3\\envs\\mlops-new\\lib\\site-packages\\numpy\\lib\\nanfunctions.py:1215: RuntimeWarning: Mean of empty slice\n",
            "  return np.nanmean(a, axis, out=out, keepdims=keepdims)\n",
            "c:\\Users\\MSI\\anaconda3\\envs\\mlops-new\\lib\\site-packages\\numpy\\lib\\nanfunctions.py:1215: RuntimeWarning: Mean of empty slice\n",
            "  return np.nanmean(a, axis, out=out, keepdims=keepdims)\n",
            "c:\\Users\\MSI\\anaconda3\\envs\\mlops-new\\lib\\site-packages\\numpy\\lib\\nanfunctions.py:1215: RuntimeWarning: Mean of empty slice\n",
            "  return np.nanmean(a, axis, out=out, keepdims=keepdims)\n",
            "c:\\Users\\MSI\\anaconda3\\envs\\mlops-new\\lib\\site-packages\\numpy\\lib\\nanfunctions.py:1215: RuntimeWarning: Mean of empty slice\n",
            "  return np.nanmean(a, axis, out=out, keepdims=keepdims)\n",
            "c:\\Users\\MSI\\anaconda3\\envs\\mlops-new\\lib\\site-packages\\numpy\\lib\\nanfunctions.py:1215: RuntimeWarning: Mean of empty slice\n",
            "  return np.nanmean(a, axis, out=out, keepdims=keepdims)\n",
            "c:\\Users\\MSI\\anaconda3\\envs\\mlops-new\\lib\\site-packages\\numpy\\lib\\nanfunctions.py:1215: RuntimeWarning: Mean of empty slice\n",
            "  return np.nanmean(a, axis, out=out, keepdims=keepdims)\n",
            "c:\\Users\\MSI\\anaconda3\\envs\\mlops-new\\lib\\site-packages\\numpy\\lib\\nanfunctions.py:1215: RuntimeWarning: Mean of empty slice\n",
            "  return np.nanmean(a, axis, out=out, keepdims=keepdims)\n",
            "c:\\Users\\MSI\\anaconda3\\envs\\mlops-new\\lib\\site-packages\\numpy\\lib\\nanfunctions.py:1215: RuntimeWarning: Mean of empty slice\n",
            "  return np.nanmean(a, axis, out=out, keepdims=keepdims)\n",
            "c:\\Users\\MSI\\anaconda3\\envs\\mlops-new\\lib\\site-packages\\numpy\\lib\\nanfunctions.py:1215: RuntimeWarning: Mean of empty slice\n",
            "  return np.nanmean(a, axis, out=out, keepdims=keepdims)\n",
            "c:\\Users\\MSI\\anaconda3\\envs\\mlops-new\\lib\\site-packages\\numpy\\lib\\nanfunctions.py:1215: RuntimeWarning: Mean of empty slice\n",
            "  return np.nanmean(a, axis, out=out, keepdims=keepdims)\n",
            "c:\\Users\\MSI\\anaconda3\\envs\\mlops-new\\lib\\site-packages\\numpy\\lib\\nanfunctions.py:1215: RuntimeWarning: Mean of empty slice\n",
            "  return np.nanmean(a, axis, out=out, keepdims=keepdims)\n",
            "c:\\Users\\MSI\\anaconda3\\envs\\mlops-new\\lib\\site-packages\\numpy\\lib\\nanfunctions.py:1215: RuntimeWarning: Mean of empty slice\n",
            "  return np.nanmean(a, axis, out=out, keepdims=keepdims)\n",
            "c:\\Users\\MSI\\anaconda3\\envs\\mlops-new\\lib\\site-packages\\numpy\\lib\\nanfunctions.py:1215: RuntimeWarning: Mean of empty slice\n",
            "  return np.nanmean(a, axis, out=out, keepdims=keepdims)\n"
          ]
        },
        {
          "data": {
            "text/html": [
              "<div>\n",
              "<style scoped>\n",
              "    .dataframe tbody tr th:only-of-type {\n",
              "        vertical-align: middle;\n",
              "    }\n",
              "\n",
              "    .dataframe tbody tr th {\n",
              "        vertical-align: top;\n",
              "    }\n",
              "\n",
              "    .dataframe thead th {\n",
              "        text-align: right;\n",
              "    }\n",
              "</style>\n",
              "<table border=\"1\" class=\"dataframe\">\n",
              "  <thead>\n",
              "    <tr style=\"text-align: right;\">\n",
              "      <th></th>\n",
              "      <th>movies</th>\n",
              "      <th>year</th>\n",
              "      <th>genre</th>\n",
              "      <th>rating</th>\n",
              "      <th>one-line</th>\n",
              "      <th>stars</th>\n",
              "      <th>votes</th>\n",
              "      <th>runtime</th>\n",
              "      <th>gross</th>\n",
              "      <th>year_start</th>\n",
              "      <th>year_end</th>\n",
              "      <th>content_type</th>\n",
              "      <th>movie_duration</th>\n",
              "      <th>duration_category</th>\n",
              "    </tr>\n",
              "  </thead>\n",
              "  <tbody>\n",
              "    <tr>\n",
              "      <th>0</th>\n",
              "      <td>[-0.013224651105701923, -0.031249316409230232,...</td>\n",
              "      <td>2021</td>\n",
              "      <td>action,horror,thriller</td>\n",
              "      <td>2</td>\n",
              "      <td>A woman with a mysterious illness is forced in...</td>\n",
              "      <td>Director Peter Thorwarth Stars Peri Baumeister...</td>\n",
              "      <td>21,062</td>\n",
              "      <td>121.0</td>\n",
              "      <td>6.145</td>\n",
              "      <td>2021</td>\n",
              "      <td>2021</td>\n",
              "      <td>0</td>\n",
              "      <td>1</td>\n",
              "      <td>4</td>\n",
              "    </tr>\n",
              "    <tr>\n",
              "      <th>1</th>\n",
              "      <td>[-0.04141589626669884, 0.026655057445168495, 0...</td>\n",
              "      <td>2021</td>\n",
              "      <td>action,adventure,animation</td>\n",
              "      <td>1</td>\n",
              "      <td>The war for Eternia begins again in what may b...</td>\n",
              "      <td>Stars Chris Wood, Sarah Michelle Gellar, Lena ...</td>\n",
              "      <td>17,870</td>\n",
              "      <td>25.0</td>\n",
              "      <td>6.145</td>\n",
              "      <td>2021</td>\n",
              "      <td>2021</td>\n",
              "      <td>0</td>\n",
              "      <td>1</td>\n",
              "      <td>0</td>\n",
              "    </tr>\n",
              "    <tr>\n",
              "      <th>2</th>\n",
              "      <td>[-0.051055245101451874, -0.03851728513836861, ...</td>\n",
              "      <td>2010 2022</td>\n",
              "      <td>drama,horror,thriller</td>\n",
              "      <td>3</td>\n",
              "      <td>Sheriff Deputy Rick Grimes wakes up from a com...</td>\n",
              "      <td>Stars Andrew Lincoln, Norman Reedus, Melissa M...</td>\n",
              "      <td>885,805</td>\n",
              "      <td>44.0</td>\n",
              "      <td>6.145</td>\n",
              "      <td>2010</td>\n",
              "      <td>2022</td>\n",
              "      <td>0</td>\n",
              "      <td>13</td>\n",
              "      <td>1</td>\n",
              "    </tr>\n",
              "  </tbody>\n",
              "</table>\n",
              "</div>"
            ],
            "text/plain": [
              "                                              movies       year  \\\n",
              "0  [-0.013224651105701923, -0.031249316409230232,...       2021   \n",
              "1  [-0.04141589626669884, 0.026655057445168495, 0...       2021   \n",
              "2  [-0.051055245101451874, -0.03851728513836861, ...  2010 2022   \n",
              "\n",
              "                        genre rating  \\\n",
              "0      action,horror,thriller      2   \n",
              "1  action,adventure,animation      1   \n",
              "2       drama,horror,thriller      3   \n",
              "\n",
              "                                            one-line  \\\n",
              "0  A woman with a mysterious illness is forced in...   \n",
              "1  The war for Eternia begins again in what may b...   \n",
              "2  Sheriff Deputy Rick Grimes wakes up from a com...   \n",
              "\n",
              "                                               stars    votes  runtime  gross  \\\n",
              "0  Director Peter Thorwarth Stars Peri Baumeister...   21,062    121.0  6.145   \n",
              "1  Stars Chris Wood, Sarah Michelle Gellar, Lena ...   17,870     25.0  6.145   \n",
              "2  Stars Andrew Lincoln, Norman Reedus, Melissa M...  885,805     44.0  6.145   \n",
              "\n",
              "   year_start  year_end  content_type  movie_duration duration_category  \n",
              "0        2021      2021             0               1                 4  \n",
              "1        2021      2021             0               1                 0  \n",
              "2        2010      2022             0              13                 1  "
            ]
          },
          "execution_count": 320,
          "metadata": {},
          "output_type": "execute_result"
        }
      ],
      "source": [
        "df = impute_runtime(df)\n",
        "print(df[['runtime', 'duration_category']].head())\n",
        "df.head(3)"
      ]
    },
    {
      "cell_type": "markdown",
      "metadata": {
        "id": "cize63GxtTvB"
      },
      "source": [
        "# **Votes Cleaning**"
      ]
    },
    {
      "cell_type": "code",
      "execution_count": 321,
      "metadata": {
        "id": "n5qUZvJNtRlc"
      },
      "outputs": [],
      "source": [
        "def clean_votes(df):\n",
        "    # Enlever les virgules et convertir en numérique\n",
        "    df['votes'] = df['votes'].str.replace(',', '').astype(float)\n",
        "    return df"
      ]
    },
    {
      "cell_type": "code",
      "execution_count": 322,
      "metadata": {
        "colab": {
          "base_uri": "https://localhost:8080/",
          "height": 195
        },
        "id": "IEiV6c6Atfvf",
        "outputId": "340b5d52-b905-473b-8b34-767608675aaa"
      },
      "outputs": [
        {
          "data": {
            "text/html": [
              "<div>\n",
              "<style scoped>\n",
              "    .dataframe tbody tr th:only-of-type {\n",
              "        vertical-align: middle;\n",
              "    }\n",
              "\n",
              "    .dataframe tbody tr th {\n",
              "        vertical-align: top;\n",
              "    }\n",
              "\n",
              "    .dataframe thead th {\n",
              "        text-align: right;\n",
              "    }\n",
              "</style>\n",
              "<table border=\"1\" class=\"dataframe\">\n",
              "  <thead>\n",
              "    <tr style=\"text-align: right;\">\n",
              "      <th></th>\n",
              "      <th>movies</th>\n",
              "      <th>year</th>\n",
              "      <th>genre</th>\n",
              "      <th>rating</th>\n",
              "      <th>one-line</th>\n",
              "      <th>stars</th>\n",
              "      <th>votes</th>\n",
              "      <th>runtime</th>\n",
              "      <th>gross</th>\n",
              "      <th>year_start</th>\n",
              "      <th>year_end</th>\n",
              "      <th>content_type</th>\n",
              "      <th>movie_duration</th>\n",
              "      <th>duration_category</th>\n",
              "    </tr>\n",
              "  </thead>\n",
              "  <tbody>\n",
              "    <tr>\n",
              "      <th>0</th>\n",
              "      <td>[-0.013224651105701923, -0.031249316409230232,...</td>\n",
              "      <td>2021</td>\n",
              "      <td>action,horror,thriller</td>\n",
              "      <td>2</td>\n",
              "      <td>A woman with a mysterious illness is forced in...</td>\n",
              "      <td>Director Peter Thorwarth Stars Peri Baumeister...</td>\n",
              "      <td>21062.0</td>\n",
              "      <td>121.0</td>\n",
              "      <td>6.145</td>\n",
              "      <td>2021</td>\n",
              "      <td>2021</td>\n",
              "      <td>0</td>\n",
              "      <td>1</td>\n",
              "      <td>4</td>\n",
              "    </tr>\n",
              "    <tr>\n",
              "      <th>1</th>\n",
              "      <td>[-0.04141589626669884, 0.026655057445168495, 0...</td>\n",
              "      <td>2021</td>\n",
              "      <td>action,adventure,animation</td>\n",
              "      <td>1</td>\n",
              "      <td>The war for Eternia begins again in what may b...</td>\n",
              "      <td>Stars Chris Wood, Sarah Michelle Gellar, Lena ...</td>\n",
              "      <td>17870.0</td>\n",
              "      <td>25.0</td>\n",
              "      <td>6.145</td>\n",
              "      <td>2021</td>\n",
              "      <td>2021</td>\n",
              "      <td>0</td>\n",
              "      <td>1</td>\n",
              "      <td>0</td>\n",
              "    </tr>\n",
              "    <tr>\n",
              "      <th>2</th>\n",
              "      <td>[-0.051055245101451874, -0.03851728513836861, ...</td>\n",
              "      <td>2010 2022</td>\n",
              "      <td>drama,horror,thriller</td>\n",
              "      <td>3</td>\n",
              "      <td>Sheriff Deputy Rick Grimes wakes up from a com...</td>\n",
              "      <td>Stars Andrew Lincoln, Norman Reedus, Melissa M...</td>\n",
              "      <td>885805.0</td>\n",
              "      <td>44.0</td>\n",
              "      <td>6.145</td>\n",
              "      <td>2010</td>\n",
              "      <td>2022</td>\n",
              "      <td>0</td>\n",
              "      <td>13</td>\n",
              "      <td>1</td>\n",
              "    </tr>\n",
              "  </tbody>\n",
              "</table>\n",
              "</div>"
            ],
            "text/plain": [
              "                                              movies       year  \\\n",
              "0  [-0.013224651105701923, -0.031249316409230232,...       2021   \n",
              "1  [-0.04141589626669884, 0.026655057445168495, 0...       2021   \n",
              "2  [-0.051055245101451874, -0.03851728513836861, ...  2010 2022   \n",
              "\n",
              "                        genre rating  \\\n",
              "0      action,horror,thriller      2   \n",
              "1  action,adventure,animation      1   \n",
              "2       drama,horror,thriller      3   \n",
              "\n",
              "                                            one-line  \\\n",
              "0  A woman with a mysterious illness is forced in...   \n",
              "1  The war for Eternia begins again in what may b...   \n",
              "2  Sheriff Deputy Rick Grimes wakes up from a com...   \n",
              "\n",
              "                                               stars     votes  runtime  \\\n",
              "0  Director Peter Thorwarth Stars Peri Baumeister...   21062.0    121.0   \n",
              "1  Stars Chris Wood, Sarah Michelle Gellar, Lena ...   17870.0     25.0   \n",
              "2  Stars Andrew Lincoln, Norman Reedus, Melissa M...  885805.0     44.0   \n",
              "\n",
              "   gross  year_start  year_end  content_type  movie_duration duration_category  \n",
              "0  6.145        2021      2021             0               1                 4  \n",
              "1  6.145        2021      2021             0               1                 0  \n",
              "2  6.145        2010      2022             0              13                 1  "
            ]
          },
          "execution_count": 322,
          "metadata": {},
          "output_type": "execute_result"
        }
      ],
      "source": [
        "df = clean_votes(df)\n",
        "df.head(3)"
      ]
    },
    {
      "cell_type": "markdown",
      "metadata": {
        "id": "GK2ToyzU8Uj-"
      },
      "source": [
        "**Nan votes processing**"
      ]
    },
    {
      "cell_type": "markdown",
      "metadata": {
        "id": "2hOD6Smz3M5A"
      },
      "source": [
        "**RandomForestRegressor pour VOTES**"
      ]
    },
    {
      "cell_type": "markdown",
      "metadata": {
        "id": "9Ly4WrEV3kKV"
      },
      "source": [
        "Le nombre de votes est fortement influencé par plusieurs facteurs comme l'année de sortie, la popularité, etc. Les arbres de décision peuvent capturer ces relations complexes."
      ]
    },
    {
      "cell_type": "code",
      "execution_count": 323,
      "metadata": {
        "colab": {
          "base_uri": "https://localhost:8080/"
        },
        "id": "KNGPIubI3gxn",
        "outputId": "40bafd89-327f-465c-dfe0-4b70e159543e"
      },
      "outputs": [],
      "source": [
        "def impute_votes(df):\n",
        "    from sklearn.ensemble import RandomForestRegressor\n",
        "    # Définir les features\n",
        "    features = ['movie_duration','duration_category']\n",
        "    # Créer deux sous-ensembles : données avec et sans votes\n",
        "    train_data = df[df['votes'].notna()]\n",
        "    missing_data = df[df['votes'].isna()]\n",
        "    # Créer et entraîner le modèle\n",
        "    model = RandomForestRegressor()\n",
        "    model.fit(train_data[features], train_data['votes'])\n",
        "    # Prédire les valeurs manquantes\n",
        "    df.loc[df['votes'].isna(), 'votes'] = model.predict(missing_data[features])\n",
        "    return df"
      ]
    },
    {
      "cell_type": "code",
      "execution_count": 324,
      "metadata": {},
      "outputs": [],
      "source": [
        "df=impute_votes(df)\n"
      ]
    },
    {
      "cell_type": "code",
      "execution_count": 325,
      "metadata": {},
      "outputs": [
        {
          "name": "stdout",
          "output_type": "stream",
          "text": [
            "Nombre de valeurs manquantes après imputation: 0\n",
            "\n",
            "Statistiques descriptives:\n",
            "count    9.568000e+03\n",
            "mean     1.388423e+04\n",
            "std      6.493620e+04\n",
            "min      5.000000e+00\n",
            "25%      1.900000e+02\n",
            "50%      1.140000e+03\n",
            "75%      4.738750e+03\n",
            "max      1.713028e+06\n",
            "Name: votes, dtype: float64\n"
          ]
        }
      ],
      "source": [
        "# Vérifier les résultats\n",
        "print(\"Nombre de valeurs manquantes après imputation:\", df['votes'].isna().sum())\n",
        "print(\"\\nStatistiques descriptives:\")\n",
        "print(df['votes'].describe())"
      ]
    },
    {
      "cell_type": "code",
      "execution_count": 326,
      "metadata": {
        "colab": {
          "base_uri": "https://localhost:8080/",
          "height": 195
        },
        "id": "N_8DR9nNEZGg",
        "outputId": "c7bedeb2-17fc-44a1-f727-22b1c5ddea46"
      },
      "outputs": [
        {
          "data": {
            "text/html": [
              "<div>\n",
              "<style scoped>\n",
              "    .dataframe tbody tr th:only-of-type {\n",
              "        vertical-align: middle;\n",
              "    }\n",
              "\n",
              "    .dataframe tbody tr th {\n",
              "        vertical-align: top;\n",
              "    }\n",
              "\n",
              "    .dataframe thead th {\n",
              "        text-align: right;\n",
              "    }\n",
              "</style>\n",
              "<table border=\"1\" class=\"dataframe\">\n",
              "  <thead>\n",
              "    <tr style=\"text-align: right;\">\n",
              "      <th></th>\n",
              "      <th>movies</th>\n",
              "      <th>year</th>\n",
              "      <th>genre</th>\n",
              "      <th>rating</th>\n",
              "      <th>one-line</th>\n",
              "      <th>stars</th>\n",
              "      <th>votes</th>\n",
              "      <th>runtime</th>\n",
              "      <th>gross</th>\n",
              "      <th>year_start</th>\n",
              "      <th>year_end</th>\n",
              "      <th>content_type</th>\n",
              "      <th>movie_duration</th>\n",
              "      <th>duration_category</th>\n",
              "    </tr>\n",
              "  </thead>\n",
              "  <tbody>\n",
              "    <tr>\n",
              "      <th>0</th>\n",
              "      <td>[-0.013224651105701923, -0.031249316409230232,...</td>\n",
              "      <td>2021</td>\n",
              "      <td>action,horror,thriller</td>\n",
              "      <td>2</td>\n",
              "      <td>A woman with a mysterious illness is forced in...</td>\n",
              "      <td>Director Peter Thorwarth Stars Peri Baumeister...</td>\n",
              "      <td>21062.0</td>\n",
              "      <td>121.0</td>\n",
              "      <td>6.145</td>\n",
              "      <td>2021</td>\n",
              "      <td>2021</td>\n",
              "      <td>0</td>\n",
              "      <td>1</td>\n",
              "      <td>4</td>\n",
              "    </tr>\n",
              "    <tr>\n",
              "      <th>1</th>\n",
              "      <td>[-0.04141589626669884, 0.026655057445168495, 0...</td>\n",
              "      <td>2021</td>\n",
              "      <td>action,adventure,animation</td>\n",
              "      <td>1</td>\n",
              "      <td>The war for Eternia begins again in what may b...</td>\n",
              "      <td>Stars Chris Wood, Sarah Michelle Gellar, Lena ...</td>\n",
              "      <td>17870.0</td>\n",
              "      <td>25.0</td>\n",
              "      <td>6.145</td>\n",
              "      <td>2021</td>\n",
              "      <td>2021</td>\n",
              "      <td>0</td>\n",
              "      <td>1</td>\n",
              "      <td>0</td>\n",
              "    </tr>\n",
              "    <tr>\n",
              "      <th>2</th>\n",
              "      <td>[-0.051055245101451874, -0.03851728513836861, ...</td>\n",
              "      <td>2010 2022</td>\n",
              "      <td>drama,horror,thriller</td>\n",
              "      <td>3</td>\n",
              "      <td>Sheriff Deputy Rick Grimes wakes up from a com...</td>\n",
              "      <td>Stars Andrew Lincoln, Norman Reedus, Melissa M...</td>\n",
              "      <td>885805.0</td>\n",
              "      <td>44.0</td>\n",
              "      <td>6.145</td>\n",
              "      <td>2010</td>\n",
              "      <td>2022</td>\n",
              "      <td>0</td>\n",
              "      <td>13</td>\n",
              "      <td>1</td>\n",
              "    </tr>\n",
              "  </tbody>\n",
              "</table>\n",
              "</div>"
            ],
            "text/plain": [
              "                                              movies       year  \\\n",
              "0  [-0.013224651105701923, -0.031249316409230232,...       2021   \n",
              "1  [-0.04141589626669884, 0.026655057445168495, 0...       2021   \n",
              "2  [-0.051055245101451874, -0.03851728513836861, ...  2010 2022   \n",
              "\n",
              "                        genre rating  \\\n",
              "0      action,horror,thriller      2   \n",
              "1  action,adventure,animation      1   \n",
              "2       drama,horror,thriller      3   \n",
              "\n",
              "                                            one-line  \\\n",
              "0  A woman with a mysterious illness is forced in...   \n",
              "1  The war for Eternia begins again in what may b...   \n",
              "2  Sheriff Deputy Rick Grimes wakes up from a com...   \n",
              "\n",
              "                                               stars     votes  runtime  \\\n",
              "0  Director Peter Thorwarth Stars Peri Baumeister...   21062.0    121.0   \n",
              "1  Stars Chris Wood, Sarah Michelle Gellar, Lena ...   17870.0     25.0   \n",
              "2  Stars Andrew Lincoln, Norman Reedus, Melissa M...  885805.0     44.0   \n",
              "\n",
              "   gross  year_start  year_end  content_type  movie_duration duration_category  \n",
              "0  6.145        2021      2021             0               1                 4  \n",
              "1  6.145        2021      2021             0               1                 0  \n",
              "2  6.145        2010      2022             0              13                 1  "
            ]
          },
          "execution_count": 326,
          "metadata": {},
          "output_type": "execute_result"
        }
      ],
      "source": [
        "df.head(3)"
      ]
    },
    {
      "cell_type": "code",
      "execution_count": 327,
      "metadata": {},
      "outputs": [
        {
          "data": {
            "image/png": "[encoded data removed]",
            "text/plain": [
              "<Figure size 1000x600 with 1 Axes>"
            ]
          },
          "metadata": {},
          "output_type": "display_data"
        },
        {
          "name": "stderr",
          "output_type": "stream",
          "text": [
            "C:\\Users\\MSI\\AppData\\Local\\Temp\\ipykernel_23320\\1421564841.py:19: FutureWarning: The default of observed=False is deprecated and will be changed to True in a future version of pandas. Pass observed=False to retain current behavior or observed=True to adopt the future default and silence this warning.\n",
            "  plt.plot(df.groupby('rating')['runtime'].mean())\n"
          ]
        },
        {
          "data": {
            "image/png": "[encoded data removed]",
            "text/plain": [
              "<Figure size 1000x600 with 1 Axes>"
            ]
          },
          "metadata": {},
          "output_type": "display_data"
        },
        {
          "name": "stderr",
          "output_type": "stream",
          "text": [
            "C:\\Users\\MSI\\AppData\\Local\\Temp\\ipykernel_23320\\1421564841.py:28: FutureWarning: The default of observed=False is deprecated and will be changed to True in a future version of pandas. Pass observed=False to retain current behavior or observed=True to adopt the future default and silence this warning.\n",
            "  plt.plot(df.groupby('rating')['votes'].mean())\n"
          ]
        },
        {
          "data": {
            "image/png": "[encoded data removed]",
            "text/plain": [
              "<Figure size 1000x600 with 1 Axes>"
            ]
          },
          "metadata": {},
          "output_type": "display_data"
        },
        {
          "name": "stderr",
          "output_type": "stream",
          "text": [
            "C:\\Users\\MSI\\AppData\\Local\\Temp\\ipykernel_23320\\1421564841.py:37: FutureWarning: The default of observed=False is deprecated and will be changed to True in a future version of pandas. Pass observed=False to retain current behavior or observed=True to adopt the future default and silence this warning.\n",
            "  plt.plot(df.groupby('rating')['votes'].mean(), label='Votes')\n",
            "C:\\Users\\MSI\\AppData\\Local\\Temp\\ipykernel_23320\\1421564841.py:38: FutureWarning: The default of observed=False is deprecated and will be changed to True in a future version of pandas. Pass observed=False to retain current behavior or observed=True to adopt the future default and silence this warning.\n",
            "  plt.plot(df.groupby('rating')['runtime'].mean(), label='Runtime')\n"
          ]
        },
        {
          "data": {
            "image/png": "[encoded data removed]",
            "text/plain": [
              "<Figure size 1200x600 with 1 Axes>"
            ]
          },
          "metadata": {},
          "output_type": "display_data"
        }
      ],
      "source": [
        "import matplotlib.pyplot as plt \n",
        "import seaborn as sns\n",
        "import numpy as np\n",
        "import pandas as pd\n",
        "\n",
        "# Simple line plots\n",
        "\n",
        "# 1. Rating trends\n",
        "plt.figure(figsize=(10,6))\n",
        "plt.plot(df['rating'].value_counts().sort_index())\n",
        "plt.title('Rating Distribution Trend')\n",
        "plt.xlabel('Rating Values')\n",
        "plt.ylabel('Count')\n",
        "plt.grid(True)\n",
        "plt.show()\n",
        "\n",
        "# 2. Runtime vs Rating trend\n",
        "plt.figure(figsize=(10,6))\n",
        "plt.plot(df.groupby('rating')['runtime'].mean())\n",
        "plt.title('Average Runtime by Rating')\n",
        "plt.xlabel('Rating')\n",
        "plt.ylabel('Average Runtime')\n",
        "plt.grid(True) \n",
        "plt.show()\n",
        "\n",
        "# 3. Votes trend\n",
        "plt.figure(figsize=(10,6))\n",
        "plt.plot(df.groupby('rating')['votes'].mean())\n",
        "plt.title('Average Votes by Rating')\n",
        "plt.xlabel('Rating')\n",
        "plt.ylabel('Average Votes')\n",
        "plt.grid(True)\n",
        "plt.show()\n",
        "\n",
        "# 4. Multiple trends comparison\n",
        "plt.figure(figsize=(12,6))\n",
        "plt.plot(df.groupby('rating')['votes'].mean(), label='Votes')\n",
        "plt.plot(df.groupby('rating')['runtime'].mean(), label='Runtime')\n",
        "plt.title('Votes and Runtime Trends by Rating')\n",
        "plt.xlabel('Rating')\n",
        "plt.ylabel('Value')\n",
        "plt.legend()\n",
        "plt.grid(True)\n",
        "plt.show()"
      ]
    },
    {
      "cell_type": "markdown",
      "metadata": {
        "id": "E9ifPS80xFEF"
      },
      "source": [
        "# **Stars Preprocessing**"
      ]
    },
    {
      "cell_type": "code",
      "execution_count": 328,
      "metadata": {
        "colab": {
          "base_uri": "https://localhost:8080/"
        },
        "id": "1vchSC-kCZqJ",
        "outputId": "261accd5-f0a8-4ea2-fe6c-e80ec6f12d38"
      },
      "outputs": [
        {
          "name": "stdout",
          "output_type": "stream",
          "text": [
            "0    Director Peter Thorwarth Stars Peri Baumeister...\n",
            "1    Stars Chris Wood, Sarah Michelle Gellar, Lena ...\n",
            "2    Stars Andrew Lincoln, Norman Reedus, Melissa M...\n",
            "3    Stars Justin Roiland, Chris Parnell, Spencer G...\n",
            "4    Director Matthias Schweigh fer Stars Matthias ...\n",
            "5    Stars Chase Stokes, Madelyn Cline, Madison Bai...\n",
            "6    Director Augustine Frizzell Stars Shailene Woo...\n",
            "7    Stars Michael C. Hall, Jennifer Carpenter, Dav...\n",
            "8    Stars Maitreyi Ramakrishnan, Poorna Jagannatha...\n",
            "9    Stars Alexandra Breckenridge, Martin Henderson...\n",
            "Name: stars, dtype: object\n"
          ]
        }
      ],
      "source": [
        "print(df['stars'].head(10))"
      ]
    },
    {
      "cell_type": "markdown",
      "metadata": {
        "id": "saclYB-4xvff"
      },
      "source": [
        "**Column Stars divided into two columns : Director and Actors**"
      ]
    },
    {
      "cell_type": "code",
      "execution_count": 329,
      "metadata": {
        "colab": {
          "base_uri": "https://localhost:8080/"
        },
        "id": "eUHTaBf5EQPH",
        "outputId": "c242076d-412b-4907-af57-fea07dd7769b"
      },
      "outputs": [
        {
          "name": "stdout",
          "output_type": "stream",
          "text": [
            "Comparaison des 3 colonnes :\n",
            "                director                                         stars_only\n",
            "0        Peter Thorwarth  Peri Baumeister, Carl Anton Koch, Alexander Sc...\n",
            "1          Not Specified  Chris Wood, Sarah Michelle Gellar, Lena Headey...\n",
            "2          Not Specified  Andrew Lincoln, Norman Reedus, Melissa McBride...\n",
            "3          Not Specified  Justin Roiland, Chris Parnell, Spencer Grammer...\n",
            "4  Matthias Schweigh fer  Matthias Schweigh fer, Nathalie Emmanuel, Ruby...\n",
            "5          Not Specified  Chase Stokes, Madelyn Cline, Madison Bailey, J...\n",
            "6     Augustine Frizzell  Shailene Woodley, Joe Alwyn, Wendy Nottingham,...\n",
            "7          Not Specified  Michael C. Hall, Jennifer Carpenter, David Zay...\n",
            "8          Not Specified  Maitreyi Ramakrishnan, Poorna Jagannathan, Dar...\n",
            "9          Not Specified  Alexandra Breckenridge, Martin Henderson, Coli...\n"
          ]
        }
      ],
      "source": [
        "def extract_director_stars(row):\n",
        "    text = str(row)\n",
        "\n",
        "    # Extraire le director\n",
        "    director = 'Not Specified'\n",
        "    if 'Director' in text or 'DIRECTOR' in text or 'director' in text:\n",
        "        # Gérer les différentes casses\n",
        "        for dir_keyword in ['Director', 'DIRECTOR', 'director']:\n",
        "            if dir_keyword in text:\n",
        "                # Capturer le texte entre \"Director\" et \"Stars\" ou jusqu'à la fin\n",
        "                director_part = text.split(dir_keyword)[-1].split('Stars')[0]\n",
        "                director = director_part.strip()\n",
        "                break\n",
        "\n",
        "    # Extraire les stars\n",
        "    stars = 'Not Specified'\n",
        "    if 'Stars' in text or 'STARS' in text or 'stars' in text:\n",
        "        for star_keyword in ['Stars', 'STARS', 'stars']:\n",
        "            if star_keyword in text:\n",
        "                stars = text.split(star_keyword)[-1].strip()\n",
        "                break\n",
        "\n",
        "    return pd.Series({'director': director, 'stars_only': stars})\n",
        "\n",
        "# Créer les nouvelles colonnes\n",
        "df[['director', 'stars_only']] = df['stars'].apply(extract_director_stars)\n",
        "\n",
        "# Nettoyer les colonnes\n",
        "df['director'] = df['director'].str.replace('...', '').str.strip()\n",
        "df['stars_only'] = df['stars_only'].str.replace('...', '').str.strip()\n",
        "\n",
        "# Afficher les résultats\n",
        "print(\"Comparaison des 3 colonnes :\")\n",
        "\n",
        "print(df[['director', 'stars_only']].head(10))\n",
        "\n",
        "#supprimer stars\n",
        "df = df.drop(['stars'], axis=1)"
      ]
    },
    {
      "cell_type": "markdown",
      "metadata": {
        "id": "yUEg9BecEUpb"
      },
      "source": [
        "**Visualisation du distributions des top 10 Realisateurs et Acteurs**"
      ]
    },
    {
      "cell_type": "code",
      "execution_count": 330,
      "metadata": {
        "colab": {
          "base_uri": "https://localhost:8080/",
          "height": 693
        },
        "id": "F3GjFIjtLGP4",
        "outputId": "cda71787-2327-4395-ca3d-499d8a4d823d"
      },
      "outputs": [
        {
          "data": {
            "image/png": "[encoded data removed]",
            "text/plain": [
              "<Figure size 1200x600 with 1 Axes>"
            ]
          },
          "metadata": {},
          "output_type": "display_data"
        }
      ],
      "source": [
        "import matplotlib.pyplot as plt\n",
        "import seaborn as sns\n",
        "import matplotlib.pyplot as plt\n",
        "import seaborn as sns\n",
        "\n",
        "# Obtenir le décompte des réalisateurs en excluant \"Not Specified\"\n",
        "director_counts = df[df['director'] != 'Not Specified']['director'].value_counts()\n",
        "\n",
        "# Prendre les top N réalisateurs\n",
        "top_directors = director_counts.head(10)\n",
        "\n",
        "# Créer un graphique à barres\n",
        "plt.figure(figsize=(12, 6))\n",
        "sns.barplot(x=top_directors.index, y=top_directors.values, palette='viridis')\n",
        "\n",
        "# Rotation des labels pour une meilleure lisibilité\n",
        "plt.xticks(rotation=45, ha='right')\n",
        "\n",
        "# Ajout des titres et labels\n",
        "plt.title('Top 10 des Réalisateurs les Plus Prolifiques', pad=20)\n",
        "plt.xlabel('Réalisateur')\n",
        "plt.ylabel('Nombre de Films/Séries')\n",
        "\n",
        "# Ajouter les valeurs sur chaque barre\n",
        "for i, v in enumerate(top_directors.values):\n",
        "    plt.text(i, v, str(v), ha='center', va='bottom')\n",
        "\n",
        "# Ajuster la mise en page\n",
        "plt.tight_layout()\n",
        "\n",
        "# Afficher le graphique\n",
        "plt.show()\n"
      ]
    },
    {
      "cell_type": "code",
      "execution_count": 331,
      "metadata": {
        "colab": {
          "base_uri": "https://localhost:8080/",
          "height": 1000
        },
        "id": "-Kj8rvpF2ttE",
        "outputId": "ef3ac293-8a93-41ba-916e-ede676cb8262"
      },
      "outputs": [
        {
          "name": "stdout",
          "output_type": "stream",
          "text": [
            "Top 20 des acteurs les plus présents dans la base:\n",
            "stars_only\n",
            "Mae Whitman              68\n",
            "Jack De Sena             66\n",
            "Zach Tyler               62\n",
            "Emmanuel Esparza         61\n",
            "Essined Aponte           61\n",
            "Manuel Navarro           61\n",
            "Masakazu Morita          59\n",
            "lvaro Benet              58\n",
            "Fumiko Orikasa           52\n",
            "Michael C. Hall          52\n",
            "Jennifer Carpenter       50\n",
            "Ashleigh Ball            49\n",
            "Julie Benz               48\n",
            "Drew Barrymore           48\n",
            "Karen Fukuhara           47\n",
            "Abraham Rodriguez        41\n",
            "Jasmeet Baduwalia        41\n",
            "Jacqueline Scislowski    41\n",
            "Rorrie D. Travis         41\n",
            "James Arnold Taylor      41\n",
            "Name: count, dtype: int64\n"
          ]
        },
        {
          "data": {
            "image/png": "[encoded data removed]",
            "text/plain": [
              "<Figure size 1500x600 with 1 Axes>"
            ]
          },
          "metadata": {},
          "output_type": "display_data"
        },
        {
          "name": "stdout",
          "output_type": "stream",
          "text": [
            "\n",
            "Statistiques sur les acteurs:\n",
            "Nombre total d'acteurs uniques: 17097\n",
            "Nombre moyen d'apparitions par acteur: 1.92\n"
          ]
        }
      ],
      "source": [
        "  # 1. Nettoyage de base de la colonne stars_only\n",
        "df['stars_only'] = df['stars_only'].fillna('Not Specified')\n",
        "\n",
        "# 2. Création d'une liste de tous les acteurs (en splitant la colonne stars_only)\n",
        "all_actors = df['stars_only'].str.split(',').explode().str.strip()\n",
        "actor_counts = all_actors[all_actors != 'Not Specified'].value_counts()\n",
        "\n",
        "# 3. Affichage des résultats\n",
        "print(\"Top 20 des acteurs les plus présents dans la base:\")\n",
        "print(actor_counts.head(20))\n",
        "\n",
        "# 4. Visualisation\n",
        "plt.figure(figsize=(15, 6))\n",
        "top_actors = actor_counts.head(10)  # On prend les 10 premiers pour la lisibilité\n",
        "\n",
        "# Création du graphique à barres\n",
        "sns.barplot(x=top_actors.index,\n",
        "            y=top_actors.values,\n",
        "            palette='viridis')\n",
        "\n",
        "plt.title('Top 10 des Acteurs les Plus Présents')\n",
        "plt.xlabel('Acteur')\n",
        "plt.ylabel('Nombre d\\'apparitions')\n",
        "plt.xticks(rotation=45, ha='right')\n",
        "plt.tight_layout()\n",
        "plt.show()\n",
        "\n",
        "# 5. Statistiques supplémentaires\n",
        "print(\"\\nStatistiques sur les acteurs:\")\n",
        "print(f\"Nombre total d'acteurs uniques: {len(actor_counts)}\")\n",
        "print(f\"Nombre moyen d'apparitions par acteur: {actor_counts.mean():.2f}\")\n"
      ]
    },
    {
      "cell_type": "code",
      "execution_count": 332,
      "metadata": {
        "colab": {
          "base_uri": "https://localhost:8080/",
          "height": 195
        },
        "id": "JXdZC0O5yI1S",
        "outputId": "82340379-f21e-45fa-a506-472c6afb3786"
      },
      "outputs": [
        {
          "data": {
            "text/html": [
              "<div>\n",
              "<style scoped>\n",
              "    .dataframe tbody tr th:only-of-type {\n",
              "        vertical-align: middle;\n",
              "    }\n",
              "\n",
              "    .dataframe tbody tr th {\n",
              "        vertical-align: top;\n",
              "    }\n",
              "\n",
              "    .dataframe thead th {\n",
              "        text-align: right;\n",
              "    }\n",
              "</style>\n",
              "<table border=\"1\" class=\"dataframe\">\n",
              "  <thead>\n",
              "    <tr style=\"text-align: right;\">\n",
              "      <th></th>\n",
              "      <th>movies</th>\n",
              "      <th>year</th>\n",
              "      <th>genre</th>\n",
              "      <th>rating</th>\n",
              "      <th>one-line</th>\n",
              "      <th>votes</th>\n",
              "      <th>runtime</th>\n",
              "      <th>gross</th>\n",
              "      <th>year_start</th>\n",
              "      <th>year_end</th>\n",
              "      <th>content_type</th>\n",
              "      <th>movie_duration</th>\n",
              "      <th>duration_category</th>\n",
              "      <th>director</th>\n",
              "      <th>stars_only</th>\n",
              "    </tr>\n",
              "  </thead>\n",
              "  <tbody>\n",
              "    <tr>\n",
              "      <th>0</th>\n",
              "      <td>[-0.013224651105701923, -0.031249316409230232,...</td>\n",
              "      <td>2021</td>\n",
              "      <td>action,horror,thriller</td>\n",
              "      <td>2</td>\n",
              "      <td>A woman with a mysterious illness is forced in...</td>\n",
              "      <td>21062.0</td>\n",
              "      <td>121.0</td>\n",
              "      <td>6.145</td>\n",
              "      <td>2021</td>\n",
              "      <td>2021</td>\n",
              "      <td>0</td>\n",
              "      <td>1</td>\n",
              "      <td>4</td>\n",
              "      <td>Peter Thorwarth</td>\n",
              "      <td>Peri Baumeister, Carl Anton Koch, Alexander Sc...</td>\n",
              "    </tr>\n",
              "    <tr>\n",
              "      <th>1</th>\n",
              "      <td>[-0.04141589626669884, 0.026655057445168495, 0...</td>\n",
              "      <td>2021</td>\n",
              "      <td>action,adventure,animation</td>\n",
              "      <td>1</td>\n",
              "      <td>The war for Eternia begins again in what may b...</td>\n",
              "      <td>17870.0</td>\n",
              "      <td>25.0</td>\n",
              "      <td>6.145</td>\n",
              "      <td>2021</td>\n",
              "      <td>2021</td>\n",
              "      <td>0</td>\n",
              "      <td>1</td>\n",
              "      <td>0</td>\n",
              "      <td>Not Specified</td>\n",
              "      <td>Chris Wood, Sarah Michelle Gellar, Lena Headey...</td>\n",
              "    </tr>\n",
              "    <tr>\n",
              "      <th>2</th>\n",
              "      <td>[-0.051055245101451874, -0.03851728513836861, ...</td>\n",
              "      <td>2010 2022</td>\n",
              "      <td>drama,horror,thriller</td>\n",
              "      <td>3</td>\n",
              "      <td>Sheriff Deputy Rick Grimes wakes up from a com...</td>\n",
              "      <td>885805.0</td>\n",
              "      <td>44.0</td>\n",
              "      <td>6.145</td>\n",
              "      <td>2010</td>\n",
              "      <td>2022</td>\n",
              "      <td>0</td>\n",
              "      <td>13</td>\n",
              "      <td>1</td>\n",
              "      <td>Not Specified</td>\n",
              "      <td>Andrew Lincoln, Norman Reedus, Melissa McBride...</td>\n",
              "    </tr>\n",
              "  </tbody>\n",
              "</table>\n",
              "</div>"
            ],
            "text/plain": [
              "                                              movies       year  \\\n",
              "0  [-0.013224651105701923, -0.031249316409230232,...       2021   \n",
              "1  [-0.04141589626669884, 0.026655057445168495, 0...       2021   \n",
              "2  [-0.051055245101451874, -0.03851728513836861, ...  2010 2022   \n",
              "\n",
              "                        genre rating  \\\n",
              "0      action,horror,thriller      2   \n",
              "1  action,adventure,animation      1   \n",
              "2       drama,horror,thriller      3   \n",
              "\n",
              "                                            one-line     votes  runtime  \\\n",
              "0  A woman with a mysterious illness is forced in...   21062.0    121.0   \n",
              "1  The war for Eternia begins again in what may b...   17870.0     25.0   \n",
              "2  Sheriff Deputy Rick Grimes wakes up from a com...  885805.0     44.0   \n",
              "\n",
              "   gross  year_start  year_end  content_type  movie_duration  \\\n",
              "0  6.145        2021      2021             0               1   \n",
              "1  6.145        2021      2021             0               1   \n",
              "2  6.145        2010      2022             0              13   \n",
              "\n",
              "  duration_category         director  \\\n",
              "0                 4  Peter Thorwarth   \n",
              "1                 0    Not Specified   \n",
              "2                 1    Not Specified   \n",
              "\n",
              "                                          stars_only  \n",
              "0  Peri Baumeister, Carl Anton Koch, Alexander Sc...  \n",
              "1  Chris Wood, Sarah Michelle Gellar, Lena Headey...  \n",
              "2  Andrew Lincoln, Norman Reedus, Melissa McBride...  "
            ]
          },
          "execution_count": 332,
          "metadata": {},
          "output_type": "execute_result"
        }
      ],
      "source": [
        "df.head(3)"
      ]
    },
    {
      "cell_type": "markdown",
      "metadata": {
        "id": "wxrhtw1cQTyq"
      },
      "source": [
        "**Genre Encoding get_dummies() :**"
      ]
    },
    {
      "cell_type": "code",
      "execution_count": 333,
      "metadata": {
        "id": "QGmuPMzXQdWF"
      },
      "outputs": [],
      "source": [
        "def codage_genre(df):\n",
        "    import pandas as pd\n",
        "    # 2. Séparer les genres en colonnes binaires\n",
        "    genres = df['genre'].str.get_dummies(sep=',')  # Séparer par virgule et créer des colonnes binaires\n",
        "    # 3. Joindre les nouvelles colonnes au DataFrame\n",
        "    df = pd.concat([df, genres], axis=1)\n",
        "    # 4. Supprimer la colonne 'genre' originale après encodage\n",
        "    df.drop(['genre'], axis=1, inplace=True)\n",
        "    return df\n",
        "# Appliquer la fonction\n",
        "df =codage_genre(df)\n"
      ]
    },
    {
      "cell_type": "code",
      "execution_count": 281,
      "metadata": {},
      "outputs": [
        {
          "data": {
            "text/html": [
              "<div>\n",
              "<style scoped>\n",
              "    .dataframe tbody tr th:only-of-type {\n",
              "        vertical-align: middle;\n",
              "    }\n",
              "\n",
              "    .dataframe tbody tr th {\n",
              "        vertical-align: top;\n",
              "    }\n",
              "\n",
              "    .dataframe thead th {\n",
              "        text-align: right;\n",
              "    }\n",
              "</style>\n",
              "<table border=\"1\" class=\"dataframe\">\n",
              "  <thead>\n",
              "    <tr style=\"text-align: right;\">\n",
              "      <th></th>\n",
              "      <th>movies</th>\n",
              "      <th>year</th>\n",
              "      <th>rating</th>\n",
              "      <th>one-line</th>\n",
              "      <th>votes</th>\n",
              "      <th>runtime</th>\n",
              "      <th>gross</th>\n",
              "      <th>year_start</th>\n",
              "      <th>year_end</th>\n",
              "      <th>content_type</th>\n",
              "      <th>...</th>\n",
              "      <th>reality tv</th>\n",
              "      <th>romance</th>\n",
              "      <th>sci fi</th>\n",
              "      <th>short</th>\n",
              "      <th>sport</th>\n",
              "      <th>talk show</th>\n",
              "      <th>thriller</th>\n",
              "      <th>unspecified</th>\n",
              "      <th>war</th>\n",
              "      <th>western</th>\n",
              "    </tr>\n",
              "  </thead>\n",
              "  <tbody>\n",
              "    <tr>\n",
              "      <th>0</th>\n",
              "      <td>[-0.013224651105701923, -0.031249316409230232,...</td>\n",
              "      <td>2021</td>\n",
              "      <td>2</td>\n",
              "      <td>A woman with a mysterious illness is forced in...</td>\n",
              "      <td>21062.0</td>\n",
              "      <td>121.0</td>\n",
              "      <td>6.145</td>\n",
              "      <td>2021</td>\n",
              "      <td>2021</td>\n",
              "      <td>0</td>\n",
              "      <td>...</td>\n",
              "      <td>0</td>\n",
              "      <td>0</td>\n",
              "      <td>0</td>\n",
              "      <td>0</td>\n",
              "      <td>0</td>\n",
              "      <td>0</td>\n",
              "      <td>1</td>\n",
              "      <td>0</td>\n",
              "      <td>0</td>\n",
              "      <td>0</td>\n",
              "    </tr>\n",
              "    <tr>\n",
              "      <th>1</th>\n",
              "      <td>[-0.04141589626669884, 0.026655057445168495, 0...</td>\n",
              "      <td>2021</td>\n",
              "      <td>1</td>\n",
              "      <td>The war for Eternia begins again in what may b...</td>\n",
              "      <td>17870.0</td>\n",
              "      <td>25.0</td>\n",
              "      <td>6.145</td>\n",
              "      <td>2021</td>\n",
              "      <td>2021</td>\n",
              "      <td>0</td>\n",
              "      <td>...</td>\n",
              "      <td>0</td>\n",
              "      <td>0</td>\n",
              "      <td>0</td>\n",
              "      <td>0</td>\n",
              "      <td>0</td>\n",
              "      <td>0</td>\n",
              "      <td>0</td>\n",
              "      <td>0</td>\n",
              "      <td>0</td>\n",
              "      <td>0</td>\n",
              "    </tr>\n",
              "    <tr>\n",
              "      <th>2</th>\n",
              "      <td>[-0.051055245101451874, -0.03851728513836861, ...</td>\n",
              "      <td>2010 2022</td>\n",
              "      <td>3</td>\n",
              "      <td>Sheriff Deputy Rick Grimes wakes up from a com...</td>\n",
              "      <td>885805.0</td>\n",
              "      <td>44.0</td>\n",
              "      <td>6.145</td>\n",
              "      <td>2010</td>\n",
              "      <td>2022</td>\n",
              "      <td>0</td>\n",
              "      <td>...</td>\n",
              "      <td>0</td>\n",
              "      <td>0</td>\n",
              "      <td>0</td>\n",
              "      <td>0</td>\n",
              "      <td>0</td>\n",
              "      <td>0</td>\n",
              "      <td>1</td>\n",
              "      <td>0</td>\n",
              "      <td>0</td>\n",
              "      <td>0</td>\n",
              "    </tr>\n",
              "  </tbody>\n",
              "</table>\n",
              "<p>3 rows × 42 columns</p>\n",
              "</div>"
            ],
            "text/plain": [
              "                                              movies       year rating  \\\n",
              "0  [-0.013224651105701923, -0.031249316409230232,...       2021      2   \n",
              "1  [-0.04141589626669884, 0.026655057445168495, 0...       2021      1   \n",
              "2  [-0.051055245101451874, -0.03851728513836861, ...  2010 2022      3   \n",
              "\n",
              "                                            one-line     votes  runtime  \\\n",
              "0  A woman with a mysterious illness is forced in...   21062.0    121.0   \n",
              "1  The war for Eternia begins again in what may b...   17870.0     25.0   \n",
              "2  Sheriff Deputy Rick Grimes wakes up from a com...  885805.0     44.0   \n",
              "\n",
              "   gross  year_start  year_end  content_type  ...  reality tv romance sci fi  \\\n",
              "0  6.145        2021      2021             0  ...           0       0      0   \n",
              "1  6.145        2021      2021             0  ...           0       0      0   \n",
              "2  6.145        2010      2022             0  ...           0       0      0   \n",
              "\n",
              "  short  sport  talk show  thriller  unspecified  war  western  \n",
              "0     0      0          0         1            0    0        0  \n",
              "1     0      0          0         0            0    0        0  \n",
              "2     0      0          0         1            0    0        0  \n",
              "\n",
              "[3 rows x 42 columns]"
            ]
          },
          "execution_count": 281,
          "metadata": {},
          "output_type": "execute_result"
        }
      ],
      "source": [
        "df.head(3)"
      ]
    },
    {
      "cell_type": "markdown",
      "metadata": {
        "id": "1lZFUzdK0gij"
      },
      "source": [
        "**One-line Encoding with Sentence Transformers:**"
      ]
    },
    {
      "cell_type": "code",
      "execution_count": 336,
      "metadata": {
        "id": "-Ijj8qOUYR47"
      },
      "outputs": [],
      "source": [
        "def create_oneline_embeddings(df):\n",
        "  from sentence_transformers import SentenceTransformer\n",
        "  import pandas as pd\n",
        "  import numpy as np  \n",
        "  try:          \n",
        "      # Initialize model\n",
        "      model = SentenceTransformer('all-MiniLM-L6-v2')\n",
        "      \n",
        "      # Create embeddings\n",
        "      df['one-line'] = model.encode(df['one-line'].tolist(), show_progress_bar=True).tolist()\n",
        "      \n",
        "      # Convert string embeddings to numpy arrays if needed\n",
        "      if isinstance(df['one-line'].iloc[0], str):\n",
        "          df['one-line'] = df['one-line'].apply(lambda x: np.array(eval(x)) if isinstance(x, str) else x)\n",
        "      \n",
        "      return df\n",
        "      \n",
        "  except Exception as e:\n",
        "      print(f\"An error occurred in one-line embedding: {str(e)}\")\n",
        "      return None"
      ]
    },
    {
      "cell_type": "code",
      "execution_count": 338,
      "metadata": {
        "colab": {
          "base_uri": "https://localhost:8080/",
          "height": 285
        },
        "id": "KXmaksY_bF_Q",
        "outputId": "b95df95c-5d9d-4fad-8dbc-6296aaecb77d"
      },
      "outputs": [
        {
          "data": {
            "application/vnd.jupyter.widget-view+json": {
              "model_id": "a17f8c9cf2034552bf2d4217aae8e3ed",
              "version_major": 2,
              "version_minor": 0
            },
            "text/plain": [
              "Batches:   0%|          | 0/299 [00:00<?, ?it/s]"
            ]
          },
          "metadata": {},
          "output_type": "display_data"
        }
      ],
      "source": [
        "df = create_oneline_embeddings(df)"
      ]
    },
    {
      "cell_type": "markdown",
      "metadata": {},
      "source": [
        "**Director Encoding with Sentence Transformers**"
      ]
    },
    {
      "cell_type": "code",
      "execution_count": 339,
      "metadata": {},
      "outputs": [],
      "source": [
        "def create_director_embeddings(df):\n",
        "  from sentence_transformers import SentenceTransformer\n",
        "  import pandas as pd\n",
        "  import numpy as np  \n",
        "  try:          \n",
        "      # Initialize model\n",
        "      model = SentenceTransformer('all-MiniLM-L6-v2')\n",
        "      \n",
        "      # Create embeddings\n",
        "      df['director'] = model.encode(df['director'].tolist(), show_progress_bar=True).tolist()\n",
        "      \n",
        "      # Convert string embeddings to numpy arrays if needed\n",
        "      if isinstance(df['director'].iloc[0], str):\n",
        "          df['director'] = df['director'].apply(lambda x: np.array(eval(x)) if isinstance(x, str) else x)\n",
        "      \n",
        "      return df \n",
        "  except Exception as e:\n",
        "      print(f\"An error occurred in director embedding: {str(e)}\")\n",
        "      return None"
      ]
    },
    {
      "cell_type": "code",
      "execution_count": 340,
      "metadata": {},
      "outputs": [
        {
          "data": {
            "application/vnd.jupyter.widget-view+json": {
              "model_id": "077aa3e2540c4b04a4130338841e1973",
              "version_major": 2,
              "version_minor": 0
            },
            "text/plain": [
              "Batches:   0%|          | 0/299 [00:00<?, ?it/s]"
            ]
          },
          "metadata": {},
          "output_type": "display_data"
        }
      ],
      "source": [
        "df=create_director_embeddings(df)"
      ]
    },
    {
      "cell_type": "code",
      "execution_count": 341,
      "metadata": {},
      "outputs": [
        {
          "data": {
            "text/html": [
              "<div>\n",
              "<style scoped>\n",
              "    .dataframe tbody tr th:only-of-type {\n",
              "        vertical-align: middle;\n",
              "    }\n",
              "\n",
              "    .dataframe tbody tr th {\n",
              "        vertical-align: top;\n",
              "    }\n",
              "\n",
              "    .dataframe thead th {\n",
              "        text-align: right;\n",
              "    }\n",
              "</style>\n",
              "<table border=\"1\" class=\"dataframe\">\n",
              "  <thead>\n",
              "    <tr style=\"text-align: right;\">\n",
              "      <th></th>\n",
              "      <th>movies</th>\n",
              "      <th>year</th>\n",
              "      <th>rating</th>\n",
              "      <th>one-line</th>\n",
              "      <th>votes</th>\n",
              "      <th>runtime</th>\n",
              "      <th>gross</th>\n",
              "      <th>year_start</th>\n",
              "      <th>year_end</th>\n",
              "      <th>content_type</th>\n",
              "      <th>...</th>\n",
              "      <th>reality tv</th>\n",
              "      <th>romance</th>\n",
              "      <th>sci fi</th>\n",
              "      <th>short</th>\n",
              "      <th>sport</th>\n",
              "      <th>talk show</th>\n",
              "      <th>thriller</th>\n",
              "      <th>unspecified</th>\n",
              "      <th>war</th>\n",
              "      <th>western</th>\n",
              "    </tr>\n",
              "  </thead>\n",
              "  <tbody>\n",
              "    <tr>\n",
              "      <th>0</th>\n",
              "      <td>[-0.013224651105701923, -0.031249316409230232,...</td>\n",
              "      <td>2021</td>\n",
              "      <td>2</td>\n",
              "      <td>[0.010676323436200619, -0.01394718885421753, -...</td>\n",
              "      <td>21062.000000</td>\n",
              "      <td>121.0</td>\n",
              "      <td>6.145</td>\n",
              "      <td>2021</td>\n",
              "      <td>2021</td>\n",
              "      <td>0</td>\n",
              "      <td>...</td>\n",
              "      <td>0</td>\n",
              "      <td>0</td>\n",
              "      <td>0</td>\n",
              "      <td>0</td>\n",
              "      <td>0</td>\n",
              "      <td>0</td>\n",
              "      <td>1</td>\n",
              "      <td>0</td>\n",
              "      <td>0</td>\n",
              "      <td>0</td>\n",
              "    </tr>\n",
              "    <tr>\n",
              "      <th>1</th>\n",
              "      <td>[-0.04141589626669884, 0.026655057445168495, 0...</td>\n",
              "      <td>2021</td>\n",
              "      <td>1</td>\n",
              "      <td>[-0.07542672753334045, -0.01596166007220745, -...</td>\n",
              "      <td>17870.000000</td>\n",
              "      <td>25.0</td>\n",
              "      <td>6.145</td>\n",
              "      <td>2021</td>\n",
              "      <td>2021</td>\n",
              "      <td>0</td>\n",
              "      <td>...</td>\n",
              "      <td>0</td>\n",
              "      <td>0</td>\n",
              "      <td>0</td>\n",
              "      <td>0</td>\n",
              "      <td>0</td>\n",
              "      <td>0</td>\n",
              "      <td>0</td>\n",
              "      <td>0</td>\n",
              "      <td>0</td>\n",
              "      <td>0</td>\n",
              "    </tr>\n",
              "    <tr>\n",
              "      <th>2</th>\n",
              "      <td>[-0.051055245101451874, -0.03851728513836861, ...</td>\n",
              "      <td>2010 2022</td>\n",
              "      <td>3</td>\n",
              "      <td>[-0.022518804296851158, -0.012194007635116577,...</td>\n",
              "      <td>885805.000000</td>\n",
              "      <td>44.0</td>\n",
              "      <td>6.145</td>\n",
              "      <td>2010</td>\n",
              "      <td>2022</td>\n",
              "      <td>0</td>\n",
              "      <td>...</td>\n",
              "      <td>0</td>\n",
              "      <td>0</td>\n",
              "      <td>0</td>\n",
              "      <td>0</td>\n",
              "      <td>0</td>\n",
              "      <td>0</td>\n",
              "      <td>1</td>\n",
              "      <td>0</td>\n",
              "      <td>0</td>\n",
              "      <td>0</td>\n",
              "    </tr>\n",
              "    <tr>\n",
              "      <th>3</th>\n",
              "      <td>[-0.12033625692129135, -0.02028549462556839, -...</td>\n",
              "      <td>2013</td>\n",
              "      <td>3</td>\n",
              "      <td>[-0.07534991949796677, 0.053644951432943344, -...</td>\n",
              "      <td>414849.000000</td>\n",
              "      <td>23.0</td>\n",
              "      <td>6.145</td>\n",
              "      <td>2013</td>\n",
              "      <td>2013</td>\n",
              "      <td>0</td>\n",
              "      <td>...</td>\n",
              "      <td>0</td>\n",
              "      <td>0</td>\n",
              "      <td>0</td>\n",
              "      <td>0</td>\n",
              "      <td>0</td>\n",
              "      <td>0</td>\n",
              "      <td>0</td>\n",
              "      <td>0</td>\n",
              "      <td>0</td>\n",
              "      <td>0</td>\n",
              "    </tr>\n",
              "    <tr>\n",
              "      <th>4</th>\n",
              "      <td>[-0.16527359187602997, 0.007843196392059326, -...</td>\n",
              "      <td>2021</td>\n",
              "      <td>2</td>\n",
              "      <td>[-0.11667746305465698, 0.05727919936180115, -0...</td>\n",
              "      <td>69048.417753</td>\n",
              "      <td>148.0</td>\n",
              "      <td>6.145</td>\n",
              "      <td>2021</td>\n",
              "      <td>2021</td>\n",
              "      <td>0</td>\n",
              "      <td>...</td>\n",
              "      <td>0</td>\n",
              "      <td>0</td>\n",
              "      <td>0</td>\n",
              "      <td>0</td>\n",
              "      <td>0</td>\n",
              "      <td>0</td>\n",
              "      <td>0</td>\n",
              "      <td>0</td>\n",
              "      <td>0</td>\n",
              "      <td>0</td>\n",
              "    </tr>\n",
              "  </tbody>\n",
              "</table>\n",
              "<p>5 rows × 42 columns</p>\n",
              "</div>"
            ],
            "text/plain": [
              "                                              movies       year rating  \\\n",
              "0  [-0.013224651105701923, -0.031249316409230232,...       2021      2   \n",
              "1  [-0.04141589626669884, 0.026655057445168495, 0...       2021      1   \n",
              "2  [-0.051055245101451874, -0.03851728513836861, ...  2010 2022      3   \n",
              "3  [-0.12033625692129135, -0.02028549462556839, -...       2013      3   \n",
              "4  [-0.16527359187602997, 0.007843196392059326, -...       2021      2   \n",
              "\n",
              "                                            one-line          votes  runtime  \\\n",
              "0  [0.010676323436200619, -0.01394718885421753, -...   21062.000000    121.0   \n",
              "1  [-0.07542672753334045, -0.01596166007220745, -...   17870.000000     25.0   \n",
              "2  [-0.022518804296851158, -0.012194007635116577,...  885805.000000     44.0   \n",
              "3  [-0.07534991949796677, 0.053644951432943344, -...  414849.000000     23.0   \n",
              "4  [-0.11667746305465698, 0.05727919936180115, -0...   69048.417753    148.0   \n",
              "\n",
              "   gross  year_start  year_end  content_type  ...  reality tv romance sci fi  \\\n",
              "0  6.145        2021      2021             0  ...           0       0      0   \n",
              "1  6.145        2021      2021             0  ...           0       0      0   \n",
              "2  6.145        2010      2022             0  ...           0       0      0   \n",
              "3  6.145        2013      2013             0  ...           0       0      0   \n",
              "4  6.145        2021      2021             0  ...           0       0      0   \n",
              "\n",
              "  short  sport  talk show  thriller  unspecified  war  western  \n",
              "0     0      0          0         1            0    0        0  \n",
              "1     0      0          0         0            0    0        0  \n",
              "2     0      0          0         1            0    0        0  \n",
              "3     0      0          0         0            0    0        0  \n",
              "4     0      0          0         0            0    0        0  \n",
              "\n",
              "[5 rows x 42 columns]"
            ]
          },
          "execution_count": 341,
          "metadata": {},
          "output_type": "execute_result"
        }
      ],
      "source": [
        "df.head()"
      ]
    },
    {
      "cell_type": "markdown",
      "metadata": {},
      "source": [
        "**Stars_Only Encoding with Sentence Transformers**"
      ]
    },
    {
      "cell_type": "code",
      "execution_count": 343,
      "metadata": {
        "id": "VEigweQNQoTl"
      },
      "outputs": [
        {
          "data": {
            "application/vnd.jupyter.widget-view+json": {
              "model_id": "befb06c94917478babde6f1f09ce17bd",
              "version_major": 2,
              "version_minor": 0
            },
            "text/plain": [
              "Batches:   0%|          | 0/299 [00:00<?, ?it/s]"
            ]
          },
          "metadata": {},
          "output_type": "display_data"
        }
      ],
      "source": [
        "def create_stars_embeddings(df):\n",
        "   from sentence_transformers import SentenceTransformer\n",
        "   import pandas as pd\n",
        "   import numpy as np  \n",
        "   try:          \n",
        "       # Initialize model\n",
        "       model = SentenceTransformer('all-MiniLM-L6-v2')\n",
        "       \n",
        "       # Create embeddings \n",
        "       df['stars_only'] = model.encode(df['stars_only'].tolist(), show_progress_bar=True).tolist()\n",
        "       \n",
        "       # Convert string embeddings to numpy arrays if needed\n",
        "       if isinstance(df['stars_only'].iloc[0], str):\n",
        "           df['stars_only'] = df['stars_only'].apply(lambda x: np.array(eval(x)) if isinstance(x, str) else x)\n",
        "       \n",
        "       return df\n",
        "       \n",
        "   except Exception as e:\n",
        "       print(f\"An error occurred in stars embedding: {str(e)}\")\n",
        "       return None\n",
        "\n",
        "# Call the function\n",
        "df = create_stars_embeddings(df)"
      ]
    },
    {
      "cell_type": "code",
      "execution_count": 344,
      "metadata": {},
      "outputs": [],
      "source": [
        "df.drop(['year_start', 'year_end','runtime','year'], axis=1, inplace=True)"
      ]
    },
    {
      "cell_type": "code",
      "execution_count": 345,
      "metadata": {},
      "outputs": [],
      "source": [
        "Secour2=df.copy"
      ]
    },
    {
      "cell_type": "markdown",
      "metadata": {
        "id": "DX6ckAeLbdzs"
      },
      "source": [
        "# **Reste Machine Learning**"
      ]
    },
    {
      "cell_type": "markdown",
      "metadata": {
        "id": "AlFcMGEccg9J"
      },
      "source": [
        "Before Preprocessing"
      ]
    },
    {
      "cell_type": "code",
      "execution_count": 346,
      "metadata": {
        "colab": {
          "base_uri": "https://localhost:8080/",
          "height": 206
        },
        "id": "aqpn3WdecbQX",
        "outputId": "1270e7e0-3807-46dc-d9ee-184abcbf369c"
      },
      "outputs": [
        {
          "data": {
            "text/html": [
              "<div>\n",
              "<style scoped>\n",
              "    .dataframe tbody tr th:only-of-type {\n",
              "        vertical-align: middle;\n",
              "    }\n",
              "\n",
              "    .dataframe tbody tr th {\n",
              "        vertical-align: top;\n",
              "    }\n",
              "\n",
              "    .dataframe thead th {\n",
              "        text-align: right;\n",
              "    }\n",
              "</style>\n",
              "<table border=\"1\" class=\"dataframe\">\n",
              "  <thead>\n",
              "    <tr style=\"text-align: right;\">\n",
              "      <th></th>\n",
              "      <th>MOVIES</th>\n",
              "      <th>YEAR</th>\n",
              "      <th>GENRE</th>\n",
              "      <th>RATING</th>\n",
              "      <th>ONE-LINE</th>\n",
              "      <th>STARS</th>\n",
              "      <th>VOTES</th>\n",
              "      <th>RunTime</th>\n",
              "      <th>Gross</th>\n",
              "    </tr>\n",
              "  </thead>\n",
              "  <tbody>\n",
              "    <tr>\n",
              "      <th>0</th>\n",
              "      <td>Blood Red Sky</td>\n",
              "      <td>(2021)</td>\n",
              "      <td>\\nAction, Horror, Thriller</td>\n",
              "      <td>6.1</td>\n",
              "      <td>\\nA woman with a mysterious illness is forced ...</td>\n",
              "      <td>\\n    Director:\\nPeter Thorwarth\\n| \\n    Star...</td>\n",
              "      <td>21,062</td>\n",
              "      <td>121.0</td>\n",
              "      <td>NaN</td>\n",
              "    </tr>\n",
              "    <tr>\n",
              "      <th>1</th>\n",
              "      <td>Masters of the Universe: Revelation</td>\n",
              "      <td>(2021– )</td>\n",
              "      <td>\\nAnimation, Action, Adventure</td>\n",
              "      <td>5.0</td>\n",
              "      <td>\\nThe war for Eternia begins again in what may...</td>\n",
              "      <td>\\n            \\n    Stars:\\nChris Wood, \\nSara...</td>\n",
              "      <td>17,870</td>\n",
              "      <td>25.0</td>\n",
              "      <td>NaN</td>\n",
              "    </tr>\n",
              "    <tr>\n",
              "      <th>2</th>\n",
              "      <td>The Walking Dead</td>\n",
              "      <td>(2010–2022)</td>\n",
              "      <td>\\nDrama, Horror, Thriller</td>\n",
              "      <td>8.2</td>\n",
              "      <td>\\nSheriff Deputy Rick Grimes wakes up from a c...</td>\n",
              "      <td>\\n            \\n    Stars:\\nAndrew Lincoln, \\n...</td>\n",
              "      <td>885,805</td>\n",
              "      <td>44.0</td>\n",
              "      <td>NaN</td>\n",
              "    </tr>\n",
              "    <tr>\n",
              "      <th>3</th>\n",
              "      <td>Rick and Morty</td>\n",
              "      <td>(2013– )</td>\n",
              "      <td>\\nAnimation, Adventure, Comedy</td>\n",
              "      <td>9.2</td>\n",
              "      <td>\\nAn animated series that follows the exploits...</td>\n",
              "      <td>\\n            \\n    Stars:\\nJustin Roiland, \\n...</td>\n",
              "      <td>414,849</td>\n",
              "      <td>23.0</td>\n",
              "      <td>NaN</td>\n",
              "    </tr>\n",
              "    <tr>\n",
              "      <th>4</th>\n",
              "      <td>Army of Thieves</td>\n",
              "      <td>(2021)</td>\n",
              "      <td>\\nAction, Crime, Horror</td>\n",
              "      <td>NaN</td>\n",
              "      <td>\\nA prequel, set before the events of Army of ...</td>\n",
              "      <td>\\n    Director:\\nMatthias Schweighöfer\\n| \\n  ...</td>\n",
              "      <td>NaN</td>\n",
              "      <td>NaN</td>\n",
              "      <td>NaN</td>\n",
              "    </tr>\n",
              "  </tbody>\n",
              "</table>\n",
              "</div>"
            ],
            "text/plain": [
              "                                MOVIES         YEAR  \\\n",
              "0                        Blood Red Sky       (2021)   \n",
              "1  Masters of the Universe: Revelation     (2021– )   \n",
              "2                     The Walking Dead  (2010–2022)   \n",
              "3                       Rick and Morty     (2013– )   \n",
              "4                      Army of Thieves       (2021)   \n",
              "\n",
              "                                        GENRE  RATING  \\\n",
              "0      \\nAction, Horror, Thriller                 6.1   \n",
              "1  \\nAnimation, Action, Adventure                 5.0   \n",
              "2       \\nDrama, Horror, Thriller                 8.2   \n",
              "3  \\nAnimation, Adventure, Comedy                 9.2   \n",
              "4         \\nAction, Crime, Horror                 NaN   \n",
              "\n",
              "                                            ONE-LINE  \\\n",
              "0  \\nA woman with a mysterious illness is forced ...   \n",
              "1  \\nThe war for Eternia begins again in what may...   \n",
              "2  \\nSheriff Deputy Rick Grimes wakes up from a c...   \n",
              "3  \\nAn animated series that follows the exploits...   \n",
              "4  \\nA prequel, set before the events of Army of ...   \n",
              "\n",
              "                                               STARS    VOTES  RunTime Gross  \n",
              "0  \\n    Director:\\nPeter Thorwarth\\n| \\n    Star...   21,062    121.0   NaN  \n",
              "1  \\n            \\n    Stars:\\nChris Wood, \\nSara...   17,870     25.0   NaN  \n",
              "2  \\n            \\n    Stars:\\nAndrew Lincoln, \\n...  885,805     44.0   NaN  \n",
              "3  \\n            \\n    Stars:\\nJustin Roiland, \\n...  414,849     23.0   NaN  \n",
              "4  \\n    Director:\\nMatthias Schweighöfer\\n| \\n  ...      NaN      NaN   NaN  "
            ]
          },
          "execution_count": 346,
          "metadata": {},
          "output_type": "execute_result"
        }
      ],
      "source": [
        "df_secours.head(5)"
      ]
    },
    {
      "cell_type": "markdown",
      "metadata": {
        "id": "5vYNZSwNcTYx"
      },
      "source": [
        "After Pre Processing"
      ]
    },
    {
      "cell_type": "code",
      "execution_count": 347,
      "metadata": {
        "colab": {
          "base_uri": "https://localhost:8080/",
          "height": 243
        },
        "id": "YaZSyZsYcB-n",
        "outputId": "e1eb02e4-2590-4cd1-bd38-7cea6122f9d8"
      },
      "outputs": [
        {
          "data": {
            "text/html": [
              "<div>\n",
              "<style scoped>\n",
              "    .dataframe tbody tr th:only-of-type {\n",
              "        vertical-align: middle;\n",
              "    }\n",
              "\n",
              "    .dataframe tbody tr th {\n",
              "        vertical-align: top;\n",
              "    }\n",
              "\n",
              "    .dataframe thead th {\n",
              "        text-align: right;\n",
              "    }\n",
              "</style>\n",
              "<table border=\"1\" class=\"dataframe\">\n",
              "  <thead>\n",
              "    <tr style=\"text-align: right;\">\n",
              "      <th></th>\n",
              "      <th>movies</th>\n",
              "      <th>year</th>\n",
              "      <th>rating</th>\n",
              "      <th>one-line</th>\n",
              "      <th>votes</th>\n",
              "      <th>gross</th>\n",
              "      <th>content_type</th>\n",
              "      <th>movie_duration</th>\n",
              "      <th>duration_category</th>\n",
              "      <th>director</th>\n",
              "      <th>...</th>\n",
              "      <th>reality tv</th>\n",
              "      <th>romance</th>\n",
              "      <th>sci fi</th>\n",
              "      <th>short</th>\n",
              "      <th>sport</th>\n",
              "      <th>talk show</th>\n",
              "      <th>thriller</th>\n",
              "      <th>unspecified</th>\n",
              "      <th>war</th>\n",
              "      <th>western</th>\n",
              "    </tr>\n",
              "  </thead>\n",
              "  <tbody>\n",
              "    <tr>\n",
              "      <th>0</th>\n",
              "      <td>[-0.013224651105701923, -0.031249316409230232,...</td>\n",
              "      <td>2021</td>\n",
              "      <td>2</td>\n",
              "      <td>[0.010676323436200619, -0.01394718885421753, -...</td>\n",
              "      <td>21062.000000</td>\n",
              "      <td>6.145</td>\n",
              "      <td>0</td>\n",
              "      <td>1</td>\n",
              "      <td>4</td>\n",
              "      <td>[0.03192050755023956, 0.05524196848273277, -0....</td>\n",
              "      <td>...</td>\n",
              "      <td>0</td>\n",
              "      <td>0</td>\n",
              "      <td>0</td>\n",
              "      <td>0</td>\n",
              "      <td>0</td>\n",
              "      <td>0</td>\n",
              "      <td>1</td>\n",
              "      <td>0</td>\n",
              "      <td>0</td>\n",
              "      <td>0</td>\n",
              "    </tr>\n",
              "    <tr>\n",
              "      <th>1</th>\n",
              "      <td>[-0.04141589626669884, 0.026655057445168495, 0...</td>\n",
              "      <td>2021</td>\n",
              "      <td>1</td>\n",
              "      <td>[-0.07542672753334045, -0.01596166007220745, -...</td>\n",
              "      <td>17870.000000</td>\n",
              "      <td>6.145</td>\n",
              "      <td>0</td>\n",
              "      <td>1</td>\n",
              "      <td>0</td>\n",
              "      <td>[-0.022470921277999878, -0.03966304287314415, ...</td>\n",
              "      <td>...</td>\n",
              "      <td>0</td>\n",
              "      <td>0</td>\n",
              "      <td>0</td>\n",
              "      <td>0</td>\n",
              "      <td>0</td>\n",
              "      <td>0</td>\n",
              "      <td>0</td>\n",
              "      <td>0</td>\n",
              "      <td>0</td>\n",
              "      <td>0</td>\n",
              "    </tr>\n",
              "    <tr>\n",
              "      <th>2</th>\n",
              "      <td>[-0.051055245101451874, -0.03851728513836861, ...</td>\n",
              "      <td>2010 2022</td>\n",
              "      <td>3</td>\n",
              "      <td>[-0.022518804296851158, -0.012194007635116577,...</td>\n",
              "      <td>885805.000000</td>\n",
              "      <td>6.145</td>\n",
              "      <td>0</td>\n",
              "      <td>13</td>\n",
              "      <td>1</td>\n",
              "      <td>[-0.022470921277999878, -0.03966304287314415, ...</td>\n",
              "      <td>...</td>\n",
              "      <td>0</td>\n",
              "      <td>0</td>\n",
              "      <td>0</td>\n",
              "      <td>0</td>\n",
              "      <td>0</td>\n",
              "      <td>0</td>\n",
              "      <td>1</td>\n",
              "      <td>0</td>\n",
              "      <td>0</td>\n",
              "      <td>0</td>\n",
              "    </tr>\n",
              "    <tr>\n",
              "      <th>3</th>\n",
              "      <td>[-0.12033625692129135, -0.02028549462556839, -...</td>\n",
              "      <td>2013</td>\n",
              "      <td>3</td>\n",
              "      <td>[-0.07534991949796677, 0.053644951432943344, -...</td>\n",
              "      <td>414849.000000</td>\n",
              "      <td>6.145</td>\n",
              "      <td>0</td>\n",
              "      <td>1</td>\n",
              "      <td>0</td>\n",
              "      <td>[-0.022470921277999878, -0.03966304287314415, ...</td>\n",
              "      <td>...</td>\n",
              "      <td>0</td>\n",
              "      <td>0</td>\n",
              "      <td>0</td>\n",
              "      <td>0</td>\n",
              "      <td>0</td>\n",
              "      <td>0</td>\n",
              "      <td>0</td>\n",
              "      <td>0</td>\n",
              "      <td>0</td>\n",
              "      <td>0</td>\n",
              "    </tr>\n",
              "    <tr>\n",
              "      <th>4</th>\n",
              "      <td>[-0.16527359187602997, 0.007843196392059326, -...</td>\n",
              "      <td>2021</td>\n",
              "      <td>2</td>\n",
              "      <td>[-0.11667746305465698, 0.05727919936180115, -0...</td>\n",
              "      <td>69048.417753</td>\n",
              "      <td>6.145</td>\n",
              "      <td>0</td>\n",
              "      <td>1</td>\n",
              "      <td>4</td>\n",
              "      <td>[-0.05092998594045639, 0.08504820615053177, -0...</td>\n",
              "      <td>...</td>\n",
              "      <td>0</td>\n",
              "      <td>0</td>\n",
              "      <td>0</td>\n",
              "      <td>0</td>\n",
              "      <td>0</td>\n",
              "      <td>0</td>\n",
              "      <td>0</td>\n",
              "      <td>0</td>\n",
              "      <td>0</td>\n",
              "      <td>0</td>\n",
              "    </tr>\n",
              "  </tbody>\n",
              "</table>\n",
              "<p>5 rows × 39 columns</p>\n",
              "</div>"
            ],
            "text/plain": [
              "                                              movies       year rating  \\\n",
              "0  [-0.013224651105701923, -0.031249316409230232,...       2021      2   \n",
              "1  [-0.04141589626669884, 0.026655057445168495, 0...       2021      1   \n",
              "2  [-0.051055245101451874, -0.03851728513836861, ...  2010 2022      3   \n",
              "3  [-0.12033625692129135, -0.02028549462556839, -...       2013      3   \n",
              "4  [-0.16527359187602997, 0.007843196392059326, -...       2021      2   \n",
              "\n",
              "                                            one-line          votes  gross  \\\n",
              "0  [0.010676323436200619, -0.01394718885421753, -...   21062.000000  6.145   \n",
              "1  [-0.07542672753334045, -0.01596166007220745, -...   17870.000000  6.145   \n",
              "2  [-0.022518804296851158, -0.012194007635116577,...  885805.000000  6.145   \n",
              "3  [-0.07534991949796677, 0.053644951432943344, -...  414849.000000  6.145   \n",
              "4  [-0.11667746305465698, 0.05727919936180115, -0...   69048.417753  6.145   \n",
              "\n",
              "   content_type  movie_duration duration_category  \\\n",
              "0             0               1                 4   \n",
              "1             0               1                 0   \n",
              "2             0              13                 1   \n",
              "3             0               1                 0   \n",
              "4             0               1                 4   \n",
              "\n",
              "                                            director  ... reality tv  romance  \\\n",
              "0  [0.03192050755023956, 0.05524196848273277, -0....  ...          0        0   \n",
              "1  [-0.022470921277999878, -0.03966304287314415, ...  ...          0        0   \n",
              "2  [-0.022470921277999878, -0.03966304287314415, ...  ...          0        0   \n",
              "3  [-0.022470921277999878, -0.03966304287314415, ...  ...          0        0   \n",
              "4  [-0.05092998594045639, 0.08504820615053177, -0...  ...          0        0   \n",
              "\n",
              "   sci fi  short  sport  talk show  thriller  unspecified  war  western  \n",
              "0       0      0      0          0         1            0    0        0  \n",
              "1       0      0      0          0         0            0    0        0  \n",
              "2       0      0      0          0         1            0    0        0  \n",
              "3       0      0      0          0         0            0    0        0  \n",
              "4       0      0      0          0         0            0    0        0  \n",
              "\n",
              "[5 rows x 39 columns]"
            ]
          },
          "execution_count": 347,
          "metadata": {},
          "output_type": "execute_result"
        }
      ],
      "source": [
        "df.head(5)"
      ]
    },
    {
      "cell_type": "code",
      "execution_count": 348,
      "metadata": {},
      "outputs": [
        {
          "name": "stdout",
          "output_type": "stream",
          "text": [
            "<class 'pandas.core.frame.DataFrame'>\n",
            "RangeIndex: 9568 entries, 0 to 9567\n",
            "Data columns (total 39 columns):\n",
            " #   Column             Non-Null Count  Dtype   \n",
            "---  ------             --------------  -----   \n",
            " 0   movies             9568 non-null   object  \n",
            " 1   year               9026 non-null   object  \n",
            " 2   rating             9568 non-null   category\n",
            " 3   one-line           9568 non-null   object  \n",
            " 4   votes              9568 non-null   float64 \n",
            " 5   gross              9568 non-null   float64 \n",
            " 6   content_type       9568 non-null   int64   \n",
            " 7   movie_duration     9568 non-null   Int64   \n",
            " 8   duration_category  9568 non-null   category\n",
            " 9   director           9568 non-null   object  \n",
            " 10  stars_only         9568 non-null   object  \n",
            " 11  action             9568 non-null   int64   \n",
            " 12  adventure          9568 non-null   int64   \n",
            " 13  animation          9568 non-null   int64   \n",
            " 14  biography          9568 non-null   int64   \n",
            " 15  comedy             9568 non-null   int64   \n",
            " 16  crime              9568 non-null   int64   \n",
            " 17  documentary        9568 non-null   int64   \n",
            " 18  drama              9568 non-null   int64   \n",
            " 19  family             9568 non-null   int64   \n",
            " 20  fantasy            9568 non-null   int64   \n",
            " 21  film noir          9568 non-null   int64   \n",
            " 22  game show          9568 non-null   int64   \n",
            " 23  history            9568 non-null   int64   \n",
            " 24  horror             9568 non-null   int64   \n",
            " 25  music              9568 non-null   int64   \n",
            " 26  musical            9568 non-null   int64   \n",
            " 27  mystery            9568 non-null   int64   \n",
            " 28  news               9568 non-null   int64   \n",
            " 29  reality tv         9568 non-null   int64   \n",
            " 30  romance            9568 non-null   int64   \n",
            " 31  sci fi             9568 non-null   int64   \n",
            " 32  short              9568 non-null   int64   \n",
            " 33  sport              9568 non-null   int64   \n",
            " 34  talk show          9568 non-null   int64   \n",
            " 35  thriller           9568 non-null   int64   \n",
            " 36  unspecified        9568 non-null   int64   \n",
            " 37  war                9568 non-null   int64   \n",
            " 38  western            9568 non-null   int64   \n",
            "dtypes: Int64(1), category(2), float64(2), int64(29), object(5)\n",
            "memory usage: 2.7+ MB\n"
          ]
        }
      ],
      "source": [
        "df.info()"
      ]
    },
    {
      "cell_type": "code",
      "execution_count": 351,
      "metadata": {},
      "outputs": [
        {
          "name": "stdout",
          "output_type": "stream",
          "text": [
            "Missing Values Count:\n",
            "movies               0\n",
            "rating               0\n",
            "one-line             0\n",
            "votes                0\n",
            "gross                0\n",
            "content_type         0\n",
            "movie_duration       0\n",
            "duration_category    0\n",
            "director             0\n",
            "stars_only           0\n",
            "action               0\n",
            "adventure            0\n",
            "animation            0\n",
            "biography            0\n",
            "comedy               0\n",
            "crime                0\n",
            "documentary          0\n",
            "drama                0\n",
            "family               0\n",
            "fantasy              0\n",
            "film noir            0\n",
            "game show            0\n",
            "history              0\n",
            "horror               0\n",
            "music                0\n",
            "musical              0\n",
            "mystery              0\n",
            "news                 0\n",
            "reality tv           0\n",
            "romance              0\n",
            "sci fi               0\n",
            "short                0\n",
            "sport                0\n",
            "talk show            0\n",
            "thriller             0\n",
            "unspecified          0\n",
            "war                  0\n",
            "western              0\n",
            "dtype: int64\n"
          ]
        }
      ],
      "source": [
        "print(\"Missing Values Count:\")\n",
        "print(df.isnull().sum())"
      ]
    },
    {
      "cell_type": "markdown",
      "metadata": {},
      "source": [
        "# DF preparated for training"
      ]
    },
    {
      "cell_type": "code",
      "execution_count": 352,
      "metadata": {},
      "outputs": [],
      "source": [
        "def prepare_df_for_training(df):\n",
        "    df_prepared = df.copy()\n",
        "    \n",
        "    for column in df_prepared.columns:\n",
        "        # Check if column contains lists/arrays\n",
        "        if isinstance(df_prepared[column].iloc[0], (list, np.ndarray)):\n",
        "            # Convert each array to its mean value\n",
        "            df_prepared[column] = df_prepared[column].apply(lambda x: np.mean(x))\n",
        "                \n",
        "    return df_prepared"
      ]
    },
    {
      "cell_type": "code",
      "execution_count": 353,
      "metadata": {},
      "outputs": [],
      "source": [
        "df =prepare_df_for_training(df)"
      ]
    },
    {
      "cell_type": "code",
      "execution_count": 354,
      "metadata": {},
      "outputs": [
        {
          "data": {
            "text/html": [
              "<div>\n",
              "<style scoped>\n",
              "    .dataframe tbody tr th:only-of-type {\n",
              "        vertical-align: middle;\n",
              "    }\n",
              "\n",
              "    .dataframe tbody tr th {\n",
              "        vertical-align: top;\n",
              "    }\n",
              "\n",
              "    .dataframe thead th {\n",
              "        text-align: right;\n",
              "    }\n",
              "</style>\n",
              "<table border=\"1\" class=\"dataframe\">\n",
              "  <thead>\n",
              "    <tr style=\"text-align: right;\">\n",
              "      <th></th>\n",
              "      <th>movies</th>\n",
              "      <th>rating</th>\n",
              "      <th>one-line</th>\n",
              "      <th>votes</th>\n",
              "      <th>gross</th>\n",
              "      <th>content_type</th>\n",
              "      <th>movie_duration</th>\n",
              "      <th>duration_category</th>\n",
              "      <th>director</th>\n",
              "      <th>stars_only</th>\n",
              "      <th>...</th>\n",
              "      <th>reality tv</th>\n",
              "      <th>romance</th>\n",
              "      <th>sci fi</th>\n",
              "      <th>short</th>\n",
              "      <th>sport</th>\n",
              "      <th>talk show</th>\n",
              "      <th>thriller</th>\n",
              "      <th>unspecified</th>\n",
              "      <th>war</th>\n",
              "      <th>western</th>\n",
              "    </tr>\n",
              "  </thead>\n",
              "  <tbody>\n",
              "    <tr>\n",
              "      <th>0</th>\n",
              "      <td>0.001069</td>\n",
              "      <td>2</td>\n",
              "      <td>-0.000331</td>\n",
              "      <td>21062.0</td>\n",
              "      <td>6.145</td>\n",
              "      <td>0</td>\n",
              "      <td>1</td>\n",
              "      <td>4</td>\n",
              "      <td>0.000417</td>\n",
              "      <td>0.000245</td>\n",
              "      <td>...</td>\n",
              "      <td>0</td>\n",
              "      <td>0</td>\n",
              "      <td>0</td>\n",
              "      <td>0</td>\n",
              "      <td>0</td>\n",
              "      <td>0</td>\n",
              "      <td>1</td>\n",
              "      <td>0</td>\n",
              "      <td>0</td>\n",
              "      <td>0</td>\n",
              "    </tr>\n",
              "    <tr>\n",
              "      <th>1</th>\n",
              "      <td>0.000648</td>\n",
              "      <td>1</td>\n",
              "      <td>0.000480</td>\n",
              "      <td>17870.0</td>\n",
              "      <td>6.145</td>\n",
              "      <td>0</td>\n",
              "      <td>1</td>\n",
              "      <td>0</td>\n",
              "      <td>0.001265</td>\n",
              "      <td>0.000796</td>\n",
              "      <td>...</td>\n",
              "      <td>0</td>\n",
              "      <td>0</td>\n",
              "      <td>0</td>\n",
              "      <td>0</td>\n",
              "      <td>0</td>\n",
              "      <td>0</td>\n",
              "      <td>0</td>\n",
              "      <td>0</td>\n",
              "      <td>0</td>\n",
              "      <td>0</td>\n",
              "    </tr>\n",
              "    <tr>\n",
              "      <th>2</th>\n",
              "      <td>0.001268</td>\n",
              "      <td>3</td>\n",
              "      <td>-0.000634</td>\n",
              "      <td>885805.0</td>\n",
              "      <td>6.145</td>\n",
              "      <td>0</td>\n",
              "      <td>13</td>\n",
              "      <td>1</td>\n",
              "      <td>0.001265</td>\n",
              "      <td>0.000504</td>\n",
              "      <td>...</td>\n",
              "      <td>0</td>\n",
              "      <td>0</td>\n",
              "      <td>0</td>\n",
              "      <td>0</td>\n",
              "      <td>0</td>\n",
              "      <td>0</td>\n",
              "      <td>1</td>\n",
              "      <td>0</td>\n",
              "      <td>0</td>\n",
              "      <td>0</td>\n",
              "    </tr>\n",
              "    <tr>\n",
              "      <th>3</th>\n",
              "      <td>0.000467</td>\n",
              "      <td>3</td>\n",
              "      <td>0.000118</td>\n",
              "      <td>414849.0</td>\n",
              "      <td>6.145</td>\n",
              "      <td>0</td>\n",
              "      <td>1</td>\n",
              "      <td>0</td>\n",
              "      <td>0.001265</td>\n",
              "      <td>0.000922</td>\n",
              "      <td>...</td>\n",
              "      <td>0</td>\n",
              "      <td>0</td>\n",
              "      <td>0</td>\n",
              "      <td>0</td>\n",
              "      <td>0</td>\n",
              "      <td>0</td>\n",
              "      <td>0</td>\n",
              "      <td>0</td>\n",
              "      <td>0</td>\n",
              "      <td>0</td>\n",
              "    </tr>\n",
              "  </tbody>\n",
              "</table>\n",
              "<p>4 rows × 38 columns</p>\n",
              "</div>"
            ],
            "text/plain": [
              "     movies rating  one-line     votes  gross  content_type  movie_duration  \\\n",
              "0  0.001069      2 -0.000331   21062.0  6.145             0               1   \n",
              "1  0.000648      1  0.000480   17870.0  6.145             0               1   \n",
              "2  0.001268      3 -0.000634  885805.0  6.145             0              13   \n",
              "3  0.000467      3  0.000118  414849.0  6.145             0               1   \n",
              "\n",
              "  duration_category  director  stars_only  ...  reality tv  romance  sci fi  \\\n",
              "0                 4  0.000417    0.000245  ...           0        0       0   \n",
              "1                 0  0.001265    0.000796  ...           0        0       0   \n",
              "2                 1  0.001265    0.000504  ...           0        0       0   \n",
              "3                 0  0.001265    0.000922  ...           0        0       0   \n",
              "\n",
              "   short  sport  talk show  thriller  unspecified  war  western  \n",
              "0      0      0          0         1            0    0        0  \n",
              "1      0      0          0         0            0    0        0  \n",
              "2      0      0          0         1            0    0        0  \n",
              "3      0      0          0         0            0    0        0  \n",
              "\n",
              "[4 rows x 38 columns]"
            ]
          },
          "execution_count": 354,
          "metadata": {},
          "output_type": "execute_result"
        }
      ],
      "source": [
        "df.head(4)"
      ]
    },
    {
      "cell_type": "markdown",
      "metadata": {},
      "source": [
        "**Sentence Transformers** embeddings typically have values between -1 and 1 because they are normalized.\n",
        "Specifically for the 'all-MiniLM-L6-v2' model:\n",
        "\n",
        "Minimum: -1\n",
        "\n",
        "Maximum: 1\n",
        "\n",
        "Values are centered around 0\n",
        "\n",
        "Scale is normalized using cosine normalization\n",
        "\n",
        "This normalization allows for:\n",
        "\n",
        "Better comparison between different embeddings\n",
        "\n",
        "Numerical stability in calculations\n",
        "\n",
        "Consistent scale regardless of input text\n",
        "\n",
        "More reliable similarity computations"
      ]
    },
    {
      "cell_type": "markdown",
      "metadata": {
        "id": "1h7_9DgjnNVd"
      },
      "source": [
        "# Splitting the data-set into Training and Test Set\n",
        "\n",
        "In any Machine Learning model is that we’re going to split data-set into two separate sets\n",
        "\n",
        "\n",
        "\n",
        "\n",
        "\n",
        "1. Training Set\n",
        "2. Test Set\n",
        "Why we need splitting ?\n",
        "\n",
        "\n",
        "\n",
        "\n",
        "\n",
        "Well here it’s your algorithm model that is going to learn from your data to make predictions. Generally we split the data-set into 70:30 ratio or 80:20 what does it mean, 80 percent data take in train and 20 percent data take in test. However, this Splitting can be varies according to the data-set shape and size."
      ]
    },
    {
      "cell_type": "code",
      "execution_count": 357,
      "metadata": {},
      "outputs": [],
      "source": [
        "from sklearn.model_selection import train_test_split\n",
        "X_train, X_test, y_train, y_test = train_test_split(\n",
        "    df.drop('rating', axis=1),  # Toutes les colonnes sauf 'rating'\n",
        "    df['rating'],               # Variable cible\n",
        "    test_size=0.2,             # 80% training, 20% test\n",
        "    random_state=42            # Pour reproductibilité\n",
        ")"
      ]
    },
    {
      "cell_type": "code",
      "execution_count": 360,
      "metadata": {},
      "outputs": [
        {
          "name": "stdout",
          "output_type": "stream",
          "text": [
            "\n",
            "Training Logistic Regression...\n"
          ]
        },
        {
          "name": "stderr",
          "output_type": "stream",
          "text": [
            "c:\\Users\\MSI\\anaconda3\\envs\\mlops-new\\lib\\site-packages\\sklearn\\metrics\\_classification.py:1344: UndefinedMetricWarning: Precision and F-score are ill-defined and being set to 0.0 in labels with no predicted samples. Use `zero_division` parameter to control this behavior.\n",
            "  _warn_prf(average, modifier, msg_start, len(result))\n",
            "c:\\Users\\MSI\\anaconda3\\envs\\mlops-new\\lib\\site-packages\\sklearn\\metrics\\_classification.py:1344: UndefinedMetricWarning: Precision and F-score are ill-defined and being set to 0.0 in labels with no predicted samples. Use `zero_division` parameter to control this behavior.\n",
            "  _warn_prf(average, modifier, msg_start, len(result))\n",
            "c:\\Users\\MSI\\anaconda3\\envs\\mlops-new\\lib\\site-packages\\sklearn\\metrics\\_classification.py:1344: UndefinedMetricWarning: Precision and F-score are ill-defined and being set to 0.0 in labels with no predicted samples. Use `zero_division` parameter to control this behavior.\n",
            "  _warn_prf(average, modifier, msg_start, len(result))\n"
          ]
        },
        {
          "name": "stdout",
          "output_type": "stream",
          "text": [
            "Accuracy: 0.692\n",
            "Precision: 0.570\n",
            "Recall: 0.692\n",
            "F1-score: 0.579\n",
            "\n",
            "Training Ridge Classifier...\n",
            "Accuracy: 0.691\n",
            "Precision: 0.637\n",
            "Recall: 0.691\n",
            "F1-score: 0.595\n",
            "\n",
            "Training SGD Classifier...\n",
            "Accuracy: 0.171\n",
            "Precision: 0.416\n",
            "Recall: 0.171\n",
            "F1-score: 0.067\n",
            "\n",
            "Training LDA...\n",
            "Accuracy: 0.689\n",
            "Precision: 0.655\n",
            "Recall: 0.689\n",
            "F1-score: 0.636\n",
            "\n",
            "Training Random Forest...\n",
            "Accuracy: 0.760\n",
            "Precision: 0.741\n",
            "Recall: 0.760\n",
            "F1-score: 0.735\n",
            "\n",
            "Training SVM...\n"
          ]
        },
        {
          "name": "stderr",
          "output_type": "stream",
          "text": [
            "c:\\Users\\MSI\\anaconda3\\envs\\mlops-new\\lib\\site-packages\\sklearn\\metrics\\_classification.py:1344: UndefinedMetricWarning: Precision and F-score are ill-defined and being set to 0.0 in labels with no predicted samples. Use `zero_division` parameter to control this behavior.\n",
            "  _warn_prf(average, modifier, msg_start, len(result))\n"
          ]
        },
        {
          "name": "stdout",
          "output_type": "stream",
          "text": [
            "Accuracy: 0.687\n",
            "Precision: 0.605\n",
            "Recall: 0.687\n",
            "F1-score: 0.561\n",
            "\n",
            "Training Neural Network...\n"
          ]
        },
        {
          "name": "stderr",
          "output_type": "stream",
          "text": [
            "c:\\Users\\MSI\\anaconda3\\envs\\mlops-new\\lib\\site-packages\\sklearn\\metrics\\_classification.py:1344: UndefinedMetricWarning: Precision and F-score are ill-defined and being set to 0.0 in labels with no predicted samples. Use `zero_division` parameter to control this behavior.\n",
            "  _warn_prf(average, modifier, msg_start, len(result))\n"
          ]
        },
        {
          "name": "stdout",
          "output_type": "stream",
          "text": [
            "Accuracy: 0.699\n",
            "Precision: 0.673\n",
            "Recall: 0.699\n",
            "F1-score: 0.604\n"
          ]
        },
        {
          "data": {
            "image/png": "[encoded data removed]",
            "text/plain": [
              "<Figure size 1500x1000 with 4 Axes>"
            ]
          },
          "metadata": {},
          "output_type": "display_data"
        }
      ],
      "source": [
        "# Required imports\n",
        "from sklearn.linear_model import LogisticRegression, RidgeClassifier, SGDClassifier\n",
        "from sklearn.discriminant_analysis import LinearDiscriminantAnalysis\n",
        "from sklearn.ensemble import RandomForestClassifier, GradientBoostingClassifier\n",
        "from sklearn.svm import SVC\n",
        "from sklearn.neural_network import MLPClassifier\n",
        "from sklearn.metrics import accuracy_score, precision_recall_fscore_support\n",
        "import matplotlib.pyplot as plt\n",
        "import numpy as np\n",
        "\n",
        "# Part 1: Linear Algorithms\n",
        "def train_linear_models(X_train, X_test, y_train, y_test):\n",
        "    linear_models = {\n",
        "        'Logistic Regression': LogisticRegression(max_iter=1000, random_state=42),\n",
        "        'Ridge Classifier': RidgeClassifier(random_state=42),\n",
        "        'SGD Classifier': SGDClassifier(max_iter=1000, random_state=42),\n",
        "        'LDA': LinearDiscriminantAnalysis()\n",
        "    }\n",
        "\n",
        "    linear_results = {}\n",
        "\n",
        "    for name, model in linear_models.items():\n",
        "        print(f\"\\nTraining {name}...\")\n",
        "        model.fit(X_train, y_train)\n",
        "        y_pred = model.predict(X_test)\n",
        "\n",
        "        accuracy = accuracy_score(y_test, y_pred)\n",
        "        precision, recall, f1, _ = precision_recall_fscore_support(y_test, y_pred, average='weighted')\n",
        "\n",
        "        linear_results[name] = {\n",
        "            'model': model,\n",
        "            'accuracy': accuracy,\n",
        "            'precision': precision,\n",
        "            'recall': recall,\n",
        "            'f1': f1\n",
        "        }\n",
        "\n",
        "        print(f\"Accuracy: {accuracy:.3f}\")\n",
        "        print(f\"Precision: {precision:.3f}\")\n",
        "        print(f\"Recall: {recall:.3f}\")\n",
        "        print(f\"F1-score: {f1:.3f}\")\n",
        "\n",
        "    return linear_results\n",
        "\n",
        "# Part 2: Non-Linear Algorithms\n",
        "def train_nonlinear_models(X_train, X_test, y_train, y_test):\n",
        "    nonlinear_models = {\n",
        "        'Random Forest': RandomForestClassifier(random_state=42),\n",
        "        'SVM': SVC(random_state=42),\n",
        "        'Neural Network': MLPClassifier(random_state=42, max_iter=1000)\n",
        "    }\n",
        "\n",
        "    nonlinear_results = {}\n",
        "\n",
        "    for name, model in nonlinear_models.items():\n",
        "        print(f\"\\nTraining {name}...\")\n",
        "        model.fit(X_train, y_train)\n",
        "        y_pred = model.predict(X_test)\n",
        "\n",
        "        accuracy = accuracy_score(y_test, y_pred)\n",
        "        precision, recall, f1, _ = precision_recall_fscore_support(y_test, y_pred, average='weighted')\n",
        "\n",
        "        nonlinear_results[name] = {\n",
        "            'model': model,\n",
        "            'accuracy': accuracy,\n",
        "            'precision': precision,\n",
        "            'recall': recall,\n",
        "            'f1': f1\n",
        "        }\n",
        "\n",
        "        print(f\"Accuracy: {accuracy:.3f}\")\n",
        "        print(f\"Precision: {precision:.3f}\")\n",
        "        print(f\"Recall: {recall:.3f}\")\n",
        "        print(f\"F1-score: {f1:.3f}\")\n",
        "\n",
        "    return nonlinear_results\n",
        "\n",
        "# Part 3: Comparative Visualization\n",
        "def plot_comparison(linear_results, nonlinear_results):\n",
        "    metrics = ['accuracy', 'precision', 'recall', 'f1']\n",
        "    \n",
        "    models = list(linear_results.keys()) + list(nonlinear_results.keys())\n",
        "    metric_values = {metric: [] for metric in metrics}\n",
        "\n",
        "    for metric in metrics:\n",
        "        for result in linear_results.values():\n",
        "            metric_values[metric].append(result[metric])\n",
        "        for result in nonlinear_results.values():\n",
        "            metric_values[metric].append(result[metric])\n",
        "\n",
        "    fig, axes = plt.subplots(2, 2, figsize=(15, 10))\n",
        "    fig.suptitle('Model Performance Comparison', fontsize=16)\n",
        "\n",
        "    colors = ['lightblue'] * len(linear_results) + ['lightgreen'] * len(nonlinear_results)\n",
        "\n",
        "    for (metric, values), ax in zip(metric_values.items(), axes.ravel()):\n",
        "        bars = ax.bar(range(len(models)), values, color=colors)\n",
        "        ax.set_title(f'{metric.capitalize()}')\n",
        "        ax.set_xticks(range(len(models)))\n",
        "        ax.set_xticklabels(models, rotation=45, ha='right')\n",
        "\n",
        "        for bar in bars:\n",
        "            height = bar.get_height()\n",
        "            ax.text(bar.get_x() + bar.get_width()/2., height,\n",
        "                   f'{height:.3f}',\n",
        "                   ha='center', va='bottom')\n",
        "\n",
        "    fig.legend(['Linear Models', 'Non-linear Models'],\n",
        "              loc='lower right', bbox_to_anchor=(0.95, 0.05))\n",
        "\n",
        "    plt.tight_layout()\n",
        "    plt.show()\n",
        "\n",
        "# Use the functions:\n",
        "# Train models\n",
        "linear_results = train_linear_models(X_train, X_test, y_train, y_test)\n",
        "nonlinear_results = train_nonlinear_models(X_train, X_test, y_train, y_test)\n",
        "\n",
        "# Plot comparison\n",
        "plot_comparison(linear_results, nonlinear_results)"
      ]
    },
    {
      "cell_type": "code",
      "execution_count": 364,
      "metadata": {},
      "outputs": [
        {
          "data": {
            "image/png": "[encoded data removed]",
            "text/plain": [
              "<Figure size 1000x700 with 1 Axes>"
            ]
          },
          "metadata": {},
          "output_type": "display_data"
        },
        {
          "data": {
            "image/png": "[encoded data removed]",
            "text/plain": [
              "<Figure size 1000x700 with 1 Axes>"
            ]
          },
          "metadata": {},
          "output_type": "display_data"
        }
      ],
      "source": [
        "from sklearn.metrics import roc_curve, auc\n",
        "from sklearn.preprocessing import label_binarize\n",
        "from itertools import cycle\n",
        "\n",
        "# Fonction pour tracer UNE seule courbe ROC par modèle\n",
        "def plot_single_roc_curve(results, X_test, y_test, class_labels, title):\n",
        "    y_test_bin = label_binarize(y_test, classes=class_labels)\n",
        "    n_classes = len(class_labels)\n",
        "\n",
        "    plt.figure(figsize=(10, 7))\n",
        "    colors = cycle(['blue', 'green', 'red', 'purple', 'orange', 'brown'])\n",
        "\n",
        "    for (name, result), color in zip(results.items(), colors):\n",
        "        model = result['model']\n",
        "\n",
        "        # Prédictions en probabilité ou en score\n",
        "        if hasattr(model, \"predict_proba\"):\n",
        "            y_score = model.predict_proba(X_test)\n",
        "        else:\n",
        "            y_score = model.decision_function(X_test)\n",
        "            if n_classes == 2:\n",
        "                y_score = np.vstack([1 - y_score, y_score]).T\n",
        "\n",
        "        # Calcul de la micro-average ROC\n",
        "        fpr, tpr, _ = roc_curve(y_test_bin.ravel(), y_score.ravel())\n",
        "        roc_auc = auc(fpr, tpr)\n",
        "\n",
        "        # Tracer la courbe ROC pour chaque modèle\n",
        "        plt.plot(fpr, tpr, color=color, lw=2,\n",
        "                 label=f'{name} (AUC = {roc_auc:.2f})')\n",
        "\n",
        "    # Courbe aléatoire\n",
        "    plt.plot([0, 1], [0, 1], linestyle='--', lw=2, color='gray', label='Random Guess')\n",
        "\n",
        "    plt.xlim([0.0, 1.0])\n",
        "    plt.ylim([0.0, 1.05])\n",
        "    plt.xlabel('False Positive Rate')\n",
        "    plt.ylabel('True Positive Rate')\n",
        "    plt.title(title)\n",
        "    plt.legend(loc=\"lower right\")\n",
        "    plt.show()\n",
        "\n",
        "# Appel pour les modèles linéaires\n",
        "plot_single_roc_curve(linear_results, X_test, y_test, class_labels, title=\"ROC - Modèles Linéaires\")\n",
        "\n",
        "# Appel pour les modèles non linéaires\n",
        "plot_single_roc_curve(nonlinear_results, X_test, y_test, class_labels, title=\"ROC - Modèles Non-Linéaires\")\n"
      ]
    },
    {
      "cell_type": "code",
      "execution_count": null,
      "metadata": {},
      "outputs": [],
      "source": []
    }
  ],
  "metadata": {
    "colab": {
      "provenance": []
    },
    "kernelspec": {
      "display_name": "mlops-new",
      "language": "python",
      "name": "python3"
    },
    "language_info": {
      "codemirror_mode": {
        "name": "ipython",
        "version": 3
      },
      "file_extension": ".py",
      "mimetype": "text/x-python",
      "name": "python",
      "nbconvert_exporter": "python",
      "pygments_lexer": "ipython3",
      "version": "3.9.21"
    }
  },
  "nbformat": 4,
  "nbformat_minor": 0
}
